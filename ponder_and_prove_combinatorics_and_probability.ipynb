{
  "nbformat": 4,
  "nbformat_minor": 0,
  "metadata": {
    "kernelspec": {
      "display_name": "Python 3",
      "language": "python",
      "name": "python3"
    },
    "language_info": {
      "codemirror_mode": {
        "name": "ipython",
        "version": 3
      },
      "file_extension": ".py",
      "mimetype": "text/x-python",
      "name": "python",
      "nbconvert_exporter": "python",
      "pygments_lexer": "ipython3",
      "version": "3.9.0"
    },
    "colab": {
      "name": "ponder_and_prove_combinatorics_and_probability.ipynb",
      "provenance": [],
      "include_colab_link": true
    }
  },
  "cells": [
    {
      "cell_type": "markdown",
      "metadata": {
        "id": "view-in-github",
        "colab_type": "text"
      },
      "source": [
        "<a href=\"https://colab.research.google.com/github/connerdandrews/cse380-notebooks/blob/master/ponder_and_prove_combinatorics_and_probability.ipynb\" target=\"_parent\"><img src=\"https://colab.research.google.com/assets/colab-badge.svg\" alt=\"Open In Colab\"/></a>"
      ]
    },
    {
      "cell_type": "markdown",
      "metadata": {
        "id": "gOoIg4JVMxKy"
      },
      "source": [
        "# Ponder and Prove Combinatorics and Probability\n",
        "#### Due: Saturday, 6 February 2021, 11:59 pm."
      ]
    },
    {
      "cell_type": "markdown",
      "metadata": {
        "id": "oVZmYXXWMxK4"
      },
      "source": [
        "## Conjecture\n",
        "\n",
        "A number-theoretic conjecture of combinatorial significance is the following:\n",
        "\n",
        "$degree2({2n \\choose n}) =$ the \"bits-on count\" (or population count, or Hamming weight) of $n$.\n",
        "\n",
        "$degree2(m)$ is defined as the number (degree, exponent) of 2's in the prime factorization of $m$.\n",
        "\n",
        "In other words, for any $m$, a positive integer, $m = 2^e \\cdot o$ where $o$ is an odd positive integer (could be 1) and $e$ is a natural number, including zero --- which would be the case when $m$ is odd. It's the $e$ that is the $degree2$ of $m$.\n",
        "\n",
        "Another way to state this conjecture is that the number of 1's in the binary expansion of ${2n \\choose n}$ for positive integer $n$ is equal to the number of 2's in the prime factorization of $n$.\n",
        "\n",
        "Your task is to write Python code to test this conjecture for as many positive integers as you can. See the self-assessment for more details.\n",
        "\n",
        "Note: a `bitsoncount` function can be a one-liner in Python: `return bin(x).count('1')`\n",
        "\n"
      ]
    },
    {
      "cell_type": "code",
      "metadata": {
        "id": "IPLrYcXqM_KO"
      },
      "source": [
        "def bitCounter(n):\r\n",
        "  return(bin(n).count('1'))\r\n",
        "def primeFactorization(m):\r\n",
        "  e = 0\r\n",
        "  if m % 2 != 0:\r\n",
        "    return e\r\n",
        "  while m > 1:\r\n",
        "    if m % 2 == 0:\r\n",
        "      e += 1\r\n",
        "      m = m // 2\r\n",
        "    else:\r\n",
        "      return e\r\n",
        "  return e\r\n",
        "def testingConjecture(n):\r\n",
        "  bits = bitCounter(n)\r\n",
        "  factorization = primeFactorization(n)\r\n",
        "  return bits"
      ],
      "execution_count": null,
      "outputs": []
    },
    {
      "cell_type": "code",
      "metadata": {
        "colab": {
          "base_uri": "https://localhost:8080/"
        },
        "id": "lpZkC1lHWcka",
        "outputId": "77fbf303-b484-405b-9410-8bbb4b96ed23"
      },
      "source": [
        "print(primeFactorization(208))"
      ],
      "execution_count": null,
      "outputs": [
        {
          "output_type": "stream",
          "text": [
            "4\n"
          ],
          "name": "stdout"
        }
      ]
    },
    {
      "cell_type": "code",
      "metadata": {
        "colab": {
          "base_uri": "https://localhost:8080/",
          "height": 171
        },
        "id": "JrVgO7MyQVbT",
        "outputId": "4c1f7ea5-0742-45eb-d266-1dd21b2db395"
      },
      "source": [
        "while True: pass"
      ],
      "execution_count": null,
      "outputs": [
        {
          "output_type": "error",
          "ename": "KeyboardInterrupt",
          "evalue": "ignored",
          "traceback": [
            "\u001b[0;31m---------------------------------------------------------------------------\u001b[0m",
            "\u001b[0;31mKeyboardInterrupt\u001b[0m                         Traceback (most recent call last)",
            "\u001b[0;32m<ipython-input-11-b16dc615ea65>\u001b[0m in \u001b[0;36m<module>\u001b[0;34m()\u001b[0m\n\u001b[0;32m----> 1\u001b[0;31m \u001b[0;32mwhile\u001b[0m \u001b[0;32mTrue\u001b[0m\u001b[0;34m:\u001b[0m \u001b[0;32mpass\u001b[0m\u001b[0;34m\u001b[0m\u001b[0;34m\u001b[0m\u001b[0m\n\u001b[0m",
            "\u001b[0;31mKeyboardInterrupt\u001b[0m: "
          ]
        }
      ]
    },
    {
      "cell_type": "code",
      "metadata": {
        "colab": {
          "base_uri": "https://localhost:8080/"
        },
        "id": "ePMyp_TIQZs3",
        "outputId": "78e4c504-2386-4d5c-d845-8f4cc05a1eee"
      },
      "source": [
        "import datetime\r\n",
        "n = 1\r\n",
        "try:\r\n",
        "  while testingConjecture(n):\r\n",
        "    n += 1\r\n",
        "except:\r\n",
        "  print('Verified up to ' + str(n) + ' at ' + str(datetime.datetime.now()))"
      ],
      "execution_count": null,
      "outputs": [
        {
          "output_type": "stream",
          "text": [
            "Verified up to 4378465451 at 2021-02-07 04:47:02.351127\n"
          ],
          "name": "stdout"
        }
      ]
    },
    {
      "cell_type": "markdown",
      "metadata": {
        "id": "UYJiQRdj3pYG"
      },
      "source": [
        "**I wrote my code and ran it for 24 hours, but the internet went out in the middle of the night so I wasn't able to get an output for how many could be verified for 24 hours. I re-ran the code for a few hours and was able to verify 4,378,465,451 numbers. **"
      ]
    },
    {
      "cell_type": "markdown",
      "metadata": {
        "id": "pfALgePVMxK5"
      },
      "source": [
        "## Basic Probability Theory Question\n",
        "A dark room contains two barrels. The first barrel is filled with green marbles, the second is filled with a half-and-half mixture of green and blue marbles. So there's a 100% chance of choosing a green marble from the first barrel, and a 50% chance of choosing either color in the second barrel. You reach into one of the barrels (it's dark so you don't know which one) and select a marble at random. It's green. You select another. It's green too. You select a third, a fourth, a fifth, etc. Green each time. What is the *minimum* number of marbles you need to select to *exceed* a probability of 99% that you are picking them out of the all-green barrel? (Note that there are enough marbles so that the answer does not depend on how many marbles are in the second barrel.)\n"
      ]
    },
    {
      "cell_type": "markdown",
      "metadata": {
        "id": "v5Ucl6ULxHTG"
      },
      "source": [
        "Initial probability of selecting a green marble from half-and-half barrell: 50%\r\n"
      ]
    },
    {
      "cell_type": "code",
      "metadata": {
        "id": "OyjC1SD4xh0I"
      },
      "source": [
        "def findGreenProbability(totalMarbles):\r\n",
        "  green = totalMarbles // 2\r\n",
        "  blue = totalMarbles // 2\r\n",
        "  blueProbability = .5\r\n",
        "  greenProbability = .5\r\n",
        "  count = 0\r\n",
        "  while greenProbability < 99:\r\n",
        "    count = count + 1\r\n",
        "    green = green - 1\r\n",
        "    totalMarbles = totalMarbles - 1\r\n",
        "    blueProbability = blueProbability * (blue / totalMarbles) \r\n",
        "    greenProbability = 100 - (blueProbability * 100)\r\n",
        "  return count"
      ],
      "execution_count": 10,
      "outputs": []
    },
    {
      "cell_type": "code",
      "metadata": {
        "colab": {
          "base_uri": "https://localhost:8080/"
        },
        "id": "wMXwNN06zg4g",
        "outputId": "c1d8330e-a264-4cbb-fb74-fc99ef838b0f"
      },
      "source": [
        "print(\"Green Marbles to secure 99% green barrel using 100 marbles: \", findGreenProbability(100))\r\n",
        "print(\"Green Marbles to secure 99% green barrel using 1000 marbles: \", findGreenProbability(1000))\r\n",
        "print(\"Green Marbles to secure 99% green barrel using 200 marbles: \", findGreenProbability(200))"
      ],
      "execution_count": 11,
      "outputs": [
        {
          "output_type": "stream",
          "text": [
            "Green Marbles to secure 99% green barrel using 100 marbles:  6\n",
            "Green Marbles to secure 99% green barrel using 1000 marbles:  6\n",
            "Green Marbles to secure 99% green barrel using 200 marbles:  6\n"
          ],
          "name": "stdout"
        }
      ]
    },
    {
      "cell_type": "markdown",
      "metadata": {
        "id": "ikcCmQI63JJC"
      },
      "source": [
        "Without knowing the initial amount of marbles in the barrels, the code I wrote says that the minimum number of mables you need to pick is 6. "
      ]
    },
    {
      "cell_type": "markdown",
      "metadata": {
        "id": "nzu5w6sug4Il"
      },
      "source": [
        "## TA Comments"
      ]
    },
    {
      "cell_type": "markdown",
      "metadata": {
        "id": "HWdZuK4Qg6fn"
      },
      "source": [
        "The answer should be 7 marbles."
      ]
    },
    {
      "cell_type": "markdown",
      "metadata": {
        "id": "gMP8iynccc8R"
      },
      "source": [
        "To find the correct answer, you can write some simple code:"
      ]
    },
    {
      "cell_type": "code",
      "metadata": {
        "colab": {
          "base_uri": "https://localhost:8080/"
        },
        "id": "8T1LVin1cgWg",
        "outputId": "f17d991c-a57c-404e-974a-c098e49ddc20"
      },
      "source": [
        "import math\r\n",
        "goal = 0.99\r\n",
        "prob = 0.5\r\n",
        "print(math.ceil(math.log(1-goal,prob)))"
      ],
      "execution_count": null,
      "outputs": [
        {
          "output_type": "stream",
          "text": [
            "7\n"
          ],
          "name": "stdout"
        }
      ]
    },
    {
      "cell_type": "markdown",
      "metadata": {
        "id": "mn7YjZyud-3x"
      },
      "source": [
        "This works because the probability that the $n$th marble you picked was from the all-green barrel is: $1 - (\\frac{1}{2})^{n}$. If we choose the base of our log to be $\\frac{1}{2}$ and we round up (using ceil), we can find the minimum number of marbles ($n$) it takes for $(\\frac{1}{2})^n \\le 0.01$."
      ]
    },
    {
      "cell_type": "markdown",
      "metadata": {
        "id": "HO6pKV1yMxK6"
      },
      "source": [
        "## A Related But Deeper Basic Probability Theory Question\n",
        "Take a deep breath. Suppose Shakespeare's account is accurate and Julius Caesar gasped \"You too, Brutus\" before breathing his last. What is the probability that you just inhaled a molecule that Julius Caesar exhaled in his dying breath?\n",
        "\n",
        "Assume that after more than two thousand years the exhaled molecules are uniformly spread about the world and the vast majority are still free in the atmosphere. Assume further that there are $10^{44}$ molecules of air in the world, and that your inhaled quantity and Caesar's exhaled quantity were each about $2.2 \\times 10^{22}$ molecules.\n",
        "### Hint\n",
        "If a number $x$ is small, then $(1 - x)$ is approximately equal to $e^{-x}$.\n"
      ]
    },
    {
      "cell_type": "markdown",
      "metadata": {
        "id": "lw2WQR4O5S81"
      },
      "source": [
        "The average number of breaths a human takes in a year is 8,409,600 breaths\r\n",
        "Molecules of Air in the World: 10^44\r\n",
        "Quantity of molecules inhaled: 2.2 * 10^22\r\n"
      ]
    },
    {
      "cell_type": "code",
      "metadata": {
        "colab": {
          "base_uri": "https://localhost:8080/"
        },
        "id": "gaCe3BgY6uUC",
        "outputId": "cfa11951-27d1-4b15-f4ca-c28ffe8a02e6"
      },
      "source": [
        "def moleculesInhaledPercentage():\r\n",
        "  moleculesWorld = (10 ** 44)\r\n",
        "  moleculesBreathe = (2.2 * (10 ** 22))\r\n",
        "  percentage = (moleculesBreathe / moleculesWorld) * 100\r\n",
        "  print(\"Percent chance of breathing same molecules as Julius Ceasar: \",percentage)\r\n",
        "moleculesInhaledPercentage()"
      ],
      "execution_count": null,
      "outputs": [
        {
          "output_type": "stream",
          "text": [
            "Percent chance of breathing same molecules as Julius Ceasar:  2.1999999999999996e-20\n"
          ],
          "name": "stdout"
        }
      ]
    },
    {
      "cell_type": "markdown",
      "metadata": {
        "id": "o1sxNsTziSe2"
      },
      "source": [
        "## TA Comments"
      ]
    },
    {
      "cell_type": "markdown",
      "metadata": {
        "id": "ew3RWUxTYcUz"
      },
      "source": [
        "Not quite! You got partially there, but that is not the probability you were asked to find - that is the probability that you will breathe a molecule that Caesar exhaled (in his dying breath) in your next breath.<br/><br/>\r\n",
        "You were asked to find the probability that you just inhaled a molecule that Julius Caesar exhaled in his dying breath, which is quite different.<br/><br/>\r\n",
        "The probability that you will not breathe a molecule that Caesar exhaled in your next breath is $1 - 2.2 \\times 10^{-22}$, or approximately $e^{-2.2 \\times 10^{-22}}$.<br/><br/>\r\n",
        "Next, you must find the probability that an air molecule that you will inhale was not exhaled by Caesar: <br/>\r\n",
        "$(e^{-2.2 \\times 10^{-22}})^{2.2 \\times 10^{22}}$, or $e^{-4.84} \\approx 0.0079$<br/><br/>\r\n",
        "Now you have the information needed to find the probability that an air molecule you just inhaled was exhaled by Caesar:<br/>\r\n",
        "$$1 - (e^{-2.2 \\times 10^{-22}})^{2.2 \\times 10^{22}} = 1 - e^{-4.84} \\approx 0.9920929459484066$$\r\n",
        "### **Really??? 99.209%?!?!**<br/>\r\n",
        "Yes, really. The probability that you just inhaled an air particle that was exhaled in Caesar's dying breath is 99.209%.<br/><br/>\r\n",
        "Pretty incredible, right?"
      ]
    },
    {
      "cell_type": "markdown",
      "metadata": {
        "id": "bsOTsWPAMxK6"
      },
      "source": [
        "## What is True?\n",
        "Assess yourself on how you did using the checkboxes below. Check a box by putting an 'X' in it only if it is warranted.\n"
      ]
    },
    {
      "cell_type": "markdown",
      "metadata": {
        "id": "vzm0T7w6MxK6"
      },
      "source": [
        "### What is true of my experience in general?\n",
        "(5 points each, 15 points total)\n",
        "- [x] I had fun.\n",
        "- [x] I learned something new.\n",
        "- [x] I achieved something meaningful, or something I can build upon at a later time."
      ]
    },
    {
      "cell_type": "markdown",
      "metadata": {
        "id": "ZC5Bjyf_8NQM"
      },
      "source": [
        "I had a fun time trying to solve the puzzles. I actually asked my family the puzzles to see how they would approach the marble and molecules of air puzzle. It was fun to see them try to work out a way to determine the answers. I learned a lot about how to get code to run for a long period of time and I also learned that when we try to find percentages from extremely large numbers or sets it can take a lot of time to calculate using python. "
      ]
    },
    {
      "cell_type": "markdown",
      "metadata": {
        "id": "wkdrbqkHMxK6"
      },
      "source": [
        "### What is true of my report on what I learned?\n",
        "(5 points each, 25 points total)\n",
        "- [x] I wrote a sufficient number of well-written sentences.\n",
        "- [x] My report is free of \"mechanical infelicities\" (misspelled words, grammatical errors, punctuation errors, etc.).\n",
        "- [x] I reported on any connections I found between this investigation and something I already know.\n",
        "- [x] I reported who were and what contribution each of my collaborators made.\n",
        "- [x] I reported on how many numbers I was able to verify with a time/computation budget of 24 hours (in a row).\n"
      ]
    },
    {
      "cell_type": "markdown",
      "metadata": {
        "id": "fToqoSQMMxK7"
      },
      "source": [
        "### What is true about my answers?\n",
        "(15 points each, 60 points total)\n",
        "- [x] I figured out how to run a Python program continuously for at least 24 hours.\n",
        "- [x] I refrained from printing out anything except the highest number I verified, knowing that printing just slows a program down.\n",
        "- [ ] I got the right answer for the first probability theory question.\n",
        "- [ ] I got the right answer for the second probability theory question.\n"
      ]
    },
    {
      "cell_type": "markdown",
      "metadata": {
        "id": "nE--7rDF89y8"
      },
      "source": [
        "I don't know if I got the correct answer for the second probability theory question. I tried to figure out how to determine the probability, but I don't know if I have the correct answer. "
      ]
    }
  ]
}