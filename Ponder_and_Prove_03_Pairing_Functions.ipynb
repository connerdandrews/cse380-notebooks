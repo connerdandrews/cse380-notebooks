{
  "nbformat": 4,
  "nbformat_minor": 0,
  "metadata": {
    "colab": {
      "name": "Ponder and Prove 03:  Pairing Functions.ipynb",
      "provenance": [],
      "collapsed_sections": [],
      "authorship_tag": "ABX9TyN79ow7xtczJOEjMJRtqQaG",
      "include_colab_link": true
    },
    "kernelspec": {
      "name": "python3",
      "display_name": "Python 3"
    }
  },
  "cells": [
    {
      "cell_type": "markdown",
      "metadata": {
        "id": "view-in-github",
        "colab_type": "text"
      },
      "source": [
        "<a href=\"https://colab.research.google.com/github/connerdandrews/cse380-notebooks/blob/master/Ponder_and_Prove_03_Pairing_Functions.ipynb\" target=\"_parent\"><img src=\"https://colab.research.google.com/assets/colab-badge.svg\" alt=\"Open In Colab\"/></a>"
      ]
    },
    {
      "cell_type": "code",
      "metadata": {
        "id": "N-kBorDa9kS-"
      },
      "source": [
        "def C2Bijection(x, y):\r\n",
        "  i = 0\r\n",
        "  sumI = 0\r\n",
        "  j = x + 2\r\n",
        "  sumJ = 0\r\n",
        "  upperJLimit = y + 2\r\n",
        "  while i <= x:\r\n",
        "    sumI += i\r\n",
        "    i += 1\r\n",
        "  while j <= upperJLimit:\r\n",
        "    sumJ += j\r\n",
        "    j += 1\r\n",
        "  sum = sumI + sumJ\r\n",
        "  return sum\r\n",
        "  \r\n",
        "    "
      ],
      "execution_count": null,
      "outputs": []
    },
    {
      "cell_type": "code",
      "metadata": {
        "id": "Atugv60spWmo"
      },
      "source": [
        "def f(m, n):\r\n",
        "  x = m + n\r\n",
        "  return (((x - 2) * (x - 1)) // 2) + m"
      ],
      "execution_count": null,
      "outputs": []
    },
    {
      "cell_type": "code",
      "metadata": {
        "id": "1R4q6z8gpW-p"
      },
      "source": [
        "def g(x, y):\r\n",
        "  pairing = ((((x + y) ** 2) + (3 * x) + y) // 2)\r\n",
        "  return pairing "
      ],
      "execution_count": null,
      "outputs": []
    },
    {
      "cell_type": "code",
      "metadata": {
        "colab": {
          "base_uri": "https://localhost:8080/"
        },
        "id": "zSu0t9Vsow94",
        "outputId": "243de4fe-7718-4410-cc49-283e5c669306"
      },
      "source": [
        "print(C2Bijection(15, 15))\r\n",
        "print(f(15, 15))\r\n",
        "print(g(15, 15))"
      ],
      "execution_count": null,
      "outputs": [
        {
          "output_type": "stream",
          "text": [
            "137\n",
            "421\n",
            "480\n"
          ],
          "name": "stdout"
        }
      ]
    },
    {
      "cell_type": "markdown",
      "metadata": {
        "id": "x8kBXPN922iY"
      },
      "source": [
        "**Fun, New and Meaningful**"
      ]
    },
    {
      "cell_type": "markdown",
      "metadata": {
        "id": "jYAxeIuv28hz"
      },
      "source": [
        "I enjoyed implementing these functions and testing them out to understand them. Being able to work with the algorithms helped me understand the benefits of pairing numbers together. By pairing a tuple into a single unique number we can retain the original data even though it is encoded into a new number. This in essence lets us use our function, or inverse function, as a key so that you can only know what the number represents if you have the original algorithm. I see that using a pairing function unique to yourself could help when writing encryption software. "
      ]
    },
    {
      "cell_type": "markdown",
      "metadata": {
        "id": "iDRiHL_zlXY3"
      },
      "source": [
        "**Comparing C2 and f**\r\n"
      ]
    },
    {
      "cell_type": "markdown",
      "metadata": {
        "id": "2W3Uzbz7zXgv"
      },
      "source": [
        "When looking at both of these functions we can see that both functions assign a tuple of numbers to a unique natural number. Both functions take the combinations of the sums of their inputs. There is a difference of what the functions do after they take the sums of the inputs, but both have similar outputs most of the time because they use the sums or products of their inputs to produce a new natural number. "
      ]
    },
    {
      "cell_type": "markdown",
      "metadata": {
        "id": "JN3YKAUllmfh"
      },
      "source": [
        "**Contrasting C2 and f**\r\n",
        "  \r\n"
      ]
    },
    {
      "cell_type": "markdown",
      "metadata": {
        "id": "MZG6N5I7v9G5"
      },
      "source": [
        "One of the major differences between C2 and f is that C2 doesn't handle the case where x is greater than y very well. Instead it makes it so that the pairing function only becomes dependent on x. \r\n",
        "On the other hand the f function doesn't care what numbers you give for arguements. It is able to handle all cases of tuples of numbers well.\r\n",
        "Another big difference is that the C2 function produces much larger values depending on the difference of the inputs. If the inputs have a large difference than they produce a much larger result than the f function."
      ]
    },
    {
      "cell_type": "markdown",
      "metadata": {
        "id": "lm7fJKxhlrZP"
      },
      "source": [
        "**Comparing f and g**"
      ]
    },
    {
      "cell_type": "markdown",
      "metadata": {
        "id": "Anerwxnln6Aj"
      },
      "source": [
        "Functions f and g are actually very similar in what they do. Both functions are divided by two and use the sums of the inputs. The only real difference is that one uses the product of the sums and the other uses the square of the sums. "
      ]
    },
    {
      "cell_type": "markdown",
      "metadata": {
        "id": "WeFRtb6Dl4FE"
      },
      "source": [
        "**Contrasting f and g**"
      ]
    },
    {
      "cell_type": "markdown",
      "metadata": {
        "id": "t07dZn_50LOS"
      },
      "source": [
        "The g function produces bigger natural numbers for its result than the f function does. This is because it makes use of squaring the inputs and then dividing them, whereas the f function multiplies multiplies the sums of the inputs together. This means that the larger the inputs get then the larger the difference between the two functions. Another big difference is that function g is able to produce 0 as a result if the inputs are (0,0), whereas for function f the inputs (0,0) still produce 1 as the result. "
      ]
    }
  ]
}