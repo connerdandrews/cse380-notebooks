{
  "nbformat": 4,
  "nbformat_minor": 0,
  "metadata": {
    "colab": {
      "name": "DPC 04.ipynb",
      "provenance": [],
      "collapsed_sections": [],
      "authorship_tag": "ABX9TyMAumwGHAyzsHF6+Gl1nkbc",
      "include_colab_link": true
    },
    "kernelspec": {
      "name": "python3",
      "display_name": "Python 3"
    }
  },
  "cells": [
    {
      "cell_type": "markdown",
      "metadata": {
        "id": "view-in-github",
        "colab_type": "text"
      },
      "source": [
        "<a href=\"https://colab.research.google.com/github/connerdandrews/cse380-notebooks/blob/master/DPC_04.ipynb\" target=\"_parent\"><img src=\"https://colab.research.google.com/assets/colab-badge.svg\" alt=\"Open In Colab\"/></a>"
      ]
    },
    {
      "cell_type": "code",
      "metadata": {
        "id": "ExXyippPo7hh"
      },
      "source": [
        "from fractions import Fraction\r\n",
        "def findMediant(fraction1, fraction2):\r\n",
        "  print(fraction1, fraction2, sep=' ')\r\n",
        "  \r\n",
        "  a = fraction1.numerator\r\n",
        "  b = fraction1.denominator\r\n",
        "  c = fraction2.numerator\r\n",
        "  d = fraction2.denominator\r\n",
        "  mediant = Fraction((a + c), (b + d))\r\n",
        "  return mediant"
      ],
      "execution_count": null,
      "outputs": []
    },
    {
      "cell_type": "code",
      "metadata": {
        "colab": {
          "base_uri": "https://localhost:8080/"
        },
        "id": "2CdNewCPrbv3",
        "outputId": "57a285cf-9ffb-476e-8da7-37ba191fb56e"
      },
      "source": [
        "print(findMediant(Fraction(7,3), Fraction(5,2)))"
      ],
      "execution_count": null,
      "outputs": [
        {
          "output_type": "stream",
          "text": [
            "7/3 5/2\n",
            "12/5\n"
          ],
          "name": "stdout"
        }
      ]
    },
    {
      "cell_type": "markdown",
      "metadata": {
        "id": "NYdYzDovFnzw"
      },
      "source": [
        "From what we could tell as a group it seems that fractions are stored as a numerator and a denominator. It also seems that the numerator and denominator are operated on by adding or multiplying the numerator or denominator by other fractions. "
      ]
    },
    {
      "cell_type": "markdown",
      "metadata": {
        "id": "imSom1LYGZU-"
      },
      "source": [
        "My partner and I discussed that fractions are like relations because they are related to two numbers...one being greater than it and the other being less than it. "
      ]
    }
  ]
}