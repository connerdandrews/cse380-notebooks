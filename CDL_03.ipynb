{
  "nbformat": 4,
  "nbformat_minor": 0,
  "metadata": {
    "colab": {
      "name": "CDL_03.ipynb",
      "provenance": [],
      "collapsed_sections": [],
      "authorship_tag": "ABX9TyMg1m387sl1GN8KH9nm1O1j",
      "include_colab_link": true
    },
    "kernelspec": {
      "name": "python3",
      "display_name": "Python 3"
    }
  },
  "cells": [
    {
      "cell_type": "markdown",
      "metadata": {
        "id": "view-in-github",
        "colab_type": "text"
      },
      "source": [
        "<a href=\"https://colab.research.google.com/github/connerdandrews/cse380-notebooks/blob/master/CDL_03.ipynb\" target=\"_parent\"><img src=\"https://colab.research.google.com/assets/colab-badge.svg\" alt=\"Open In Colab\"/></a>"
      ]
    },
    {
      "cell_type": "code",
      "metadata": {
        "id": "13bECC_jxbmd"
      },
      "source": [
        "def getPair(k1, k2, k, i):\r\n",
        "  if (i < len(k)):\r\n",
        "    k1 = (k1 + k2) * (k1 + k2 + 1) // 2 + k2\r\n",
        "    k2 = k[i]\r\n",
        "    i += 1\r\n",
        "    return getPair(k1, k2, k, i)\r\n",
        "  else:\r\n",
        "    return ((k1 + k2) * (k1 + k2 + 1) // 2 + k2)\r\n"
      ],
      "execution_count": null,
      "outputs": []
    },
    {
      "cell_type": "code",
      "metadata": {
        "id": "dXJl3Huz7nhR"
      },
      "source": [
        "def cantorTuple(k1, k2, k, i):\r\n",
        "  return getPair(k1, k2, k, i)"
      ],
      "execution_count": null,
      "outputs": []
    },
    {
      "cell_type": "code",
      "metadata": {
        "id": "3s4MnEuc7wcI",
        "colab": {
          "base_uri": "https://localhost:8080/"
        },
        "outputId": "fc7374ae-5fcb-4beb-f6f2-a3a3949c006a"
      },
      "source": [
        "prime = (2, 3, 5, 7, 11, 13, 17, 19, 23, 29)\r\n",
        "print(cantorTuple(prime[0], prime[1], prime, 3))"
      ],
      "execution_count": null,
      "outputs": [
        {
          "output_type": "stream",
          "text": [
            "218858065028950800498038585592572984572132053573459449795679385346774288208944121659481528156794417543097797508239168460699371588176523772139925\n"
          ],
          "name": "stdout"
        }
      ]
    },
    {
      "cell_type": "code",
      "metadata": {
        "id": "RUg0ZhsN-rQN"
      },
      "source": [
        "prime2 = (2, 3, 5, 7, 11, 13, 17, 19, 23, 29, 31, 37, 41, 43, 47, 49, 51, 53, 57, 59, 61, 67, 71, 73)\r\n",
        "print(cantorTuple(prime[0], prime[1], prime, 3))"
      ],
      "execution_count": null,
      "outputs": []
    },
    {
      "cell_type": "markdown",
      "metadata": {
        "id": "gU3AZtE2-aOM"
      },
      "source": [
        "When we get to 24 primes, it begins to take so long to calculate that we can no longer encode a natural number this way. "
      ]
    }
  ]
}