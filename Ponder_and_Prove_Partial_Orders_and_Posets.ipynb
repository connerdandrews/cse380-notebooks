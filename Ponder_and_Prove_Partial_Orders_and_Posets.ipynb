{
  "nbformat": 4,
  "nbformat_minor": 0,
  "metadata": {
    "colab": {
      "name": "Ponder and Prove Partial Orders and Posets.ipynb",
      "provenance": [],
      "collapsed_sections": [],
      "authorship_tag": "ABX9TyNmCdyNHppcte9/0r/z7Glo",
      "include_colab_link": true
    },
    "kernelspec": {
      "name": "python3",
      "display_name": "Python 3"
    }
  },
  "cells": [
    {
      "cell_type": "markdown",
      "metadata": {
        "id": "view-in-github",
        "colab_type": "text"
      },
      "source": [
        "<a href=\"https://colab.research.google.com/github/connerdandrews/cse380-notebooks/blob/master/Ponder_and_Prove_Partial_Orders_and_Posets.ipynb\" target=\"_parent\"><img src=\"https://colab.research.google.com/assets/colab-badge.svg\" alt=\"Open In Colab\"/></a>"
      ]
    },
    {
      "cell_type": "code",
      "metadata": {
        "id": "Zc3AMCoEp8aG"
      },
      "source": [
        "def membership(A, B):\r\n",
        "  a = len(A)\r\n",
        "  b = len(B)\r\n",
        "  if a > b:\r\n",
        "    members = B in A\r\n",
        "    print(members)\r\n",
        "    return members\r\n",
        "  else:\r\n",
        "    members = A in B\r\n",
        "    print(members)\r\n",
        "    return members"
      ],
      "execution_count": null,
      "outputs": []
    },
    {
      "cell_type": "code",
      "metadata": {
        "colab": {
          "base_uri": "https://localhost:8080/"
        },
        "id": "G_zh0GEut2mW",
        "outputId": "f4d4601d-f9c9-4037-acae-d3adb119bbde"
      },
      "source": [
        "print(membership((1,2,3), (1,2,3,4,5,6)))"
      ],
      "execution_count": null,
      "outputs": [
        {
          "output_type": "stream",
          "text": [
            "False\n"
          ],
          "name": "stdout"
        }
      ]
    },
    {
      "cell_type": "code",
      "metadata": {
        "id": "R-KqSneB50Rj"
      },
      "source": [
        "def union(A,B):\r\n",
        "  union = A.union(B)\r\n",
        "  return union"
      ],
      "execution_count": null,
      "outputs": []
    },
    {
      "cell_type": "code",
      "metadata": {
        "colab": {
          "base_uri": "https://localhost:8080/"
        },
        "id": "S6xuT7LE5-To",
        "outputId": "44ee1e65-8aba-40db-c92b-f97bfa4371b8"
      },
      "source": [
        "print(union({1,2,3}, {2,3,4,5}))"
      ],
      "execution_count": null,
      "outputs": [
        {
          "output_type": "stream",
          "text": [
            "{1, 2, 3, 4, 5}\n"
          ],
          "name": "stdout"
        }
      ]
    },
    {
      "cell_type": "code",
      "metadata": {
        "id": "yw370mRy4YV3"
      },
      "source": [
        "def intersecting(A, B):\r\n",
        "  intersect = A.intersection(B)\r\n",
        "  return(intersect)\r\n"
      ],
      "execution_count": null,
      "outputs": []
    },
    {
      "cell_type": "code",
      "metadata": {
        "colab": {
          "base_uri": "https://localhost:8080/"
        },
        "id": "xmEQRdaz47Oz",
        "outputId": "9cdc7531-e48c-4cd1-ea36-9587493e688b"
      },
      "source": [
        "print(intersecting({1,2,3}, {2,3,4,5}))"
      ],
      "execution_count": null,
      "outputs": [
        {
          "output_type": "stream",
          "text": [
            "{2, 3}\n"
          ],
          "name": "stdout"
        }
      ]
    },
    {
      "cell_type": "markdown",
      "metadata": {
        "id": "QBesAWse7rDX"
      },
      "source": [
        "What is True?"
      ]
    },
    {
      "cell_type": "markdown",
      "metadata": {
        "id": "TN9YQ9147i_j"
      },
      "source": [
        "I tried to have fun while I worked on this ponder and prove. I did feel like I learned a lot while studying the Godel hash paper. However, to be completely honest I did not understand how to code what was being asked of me. I know that the code that I did write is not what we are trying to accomplish. I honestly got really confused on how to write code to test the membership,subset-inclusion, union, and intersection. I will try to work with others after this week to continue to understand how posets actually work. "
      ]
    }
  ]
}