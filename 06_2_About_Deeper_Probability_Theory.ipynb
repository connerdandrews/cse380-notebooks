{
  "nbformat": 4,
  "nbformat_minor": 0,
  "metadata": {
    "colab": {
      "name": "06_2_About_Deeper_Probability_Theory.ipynb",
      "provenance": [],
      "include_colab_link": true
    },
    "kernelspec": {
      "name": "python3",
      "display_name": "Python 3"
    }
  },
  "cells": [
    {
      "cell_type": "markdown",
      "metadata": {
        "id": "view-in-github",
        "colab_type": "text"
      },
      "source": [
        "<a href=\"https://colab.research.google.com/github/connerdandrews/cse380-notebooks/blob/master/06_2_About_Deeper_Probability_Theory.ipynb\" target=\"_parent\"><img src=\"https://colab.research.google.com/assets/colab-badge.svg\" alt=\"Open In Colab\"/></a>"
      ]
    },
    {
      "cell_type": "markdown",
      "metadata": {
        "id": "0jLkxJOoK0gK"
      },
      "source": [
        "# About Deeper Probability Theory\n",
        "## Class Directed Learning\n",
        "### Due: Wednesday, 10 February 2021, 11:59pm"
      ]
    },
    {
      "cell_type": "markdown",
      "metadata": {
        "id": "_3XuHK7JLA1u"
      },
      "source": [
        "## Explore Another Pascal's Triangle Pattern\n"
      ]
    },
    {
      "cell_type": "markdown",
      "metadata": {
        "id": "wjL1DY1ALOcI"
      },
      "source": [
        "### The Distribution of the Odds\n",
        "```\n",
        "                                                                                                    # of 1's\n",
        "                                                                   1                                   1\n",
        "                                                                  1 1                                  2\n",
        "                                                                 1   1                                 2\n",
        "                                                                1 1 1 1                                4\n",
        "                                                               1       1                               2\n",
        "                                                              1 1     1 1                              4\n",
        "                                                             1   1   1   1                             4\n",
        "                                                            1 1 1 1 1 1 1 1                            8\n",
        "                                                           1               1                           2\n",
        "                                                          1 1             1 1                          4\n",
        "                                                         1   1           1   1                         4\n",
        "                                                        1 1 1 1         1 1 1 1                        8\n",
        "                                                       1       1       1       1                       4\n",
        "                                                      1 1     1 1     1 1     1 1                      8\n",
        "                                                     1   1   1   1   1   1   1   1                     8\n",
        "                                                    1 1 1 1 1 1 1 1 1 1 1 1 1 1 1 1                   16\n",
        "                                                   1                               1                   2\n",
        "                                                  1 1                             1 1                  4\n",
        "                                                 1   1                           1   1                 4\n",
        "                                                1 1 1 1                         1 1 1 1                8\n",
        "                                               1       1                       1       1               4\n",
        "                                              1 1     1 1                     1 1     1 1              8\n",
        "                                             1   1   1   1                   1   1   1   1             8\n",
        "                                            1 1 1 1 1 1 1 1                 1 1 1 1 1 1 1 1           16\n",
        "                                           1               1               1               1           4\n",
        "                                          1 1             1 1             1 1             1 1          8\n",
        "                                         1   1           1   1           1   1           1   1         8\n",
        "                                        1 1 1 1         1 1 1 1         1 1 1 1         1 1 1 1       16\n",
        "                                       1       1       1       1       1       1       1       1       8\n",
        "                                      1 1     1 1     1 1     1 1     1 1     1 1     1 1     1 1     16\n",
        "                                     1   1   1   1   1   1   1   1   1   1   1   1   1   1   1   1    16\n",
        "                                    1 1 1 1 1 1 1 1 1 1 1 1 1 1 1 1 1 1 1 1 1 1 1 1 1 1 1 1 1 1 1 1   32\n",
        "                                   1                                                               1   2\n",
        "                                  1 1                                                             1 1 etc.\n",
        "                                 1   1                                                           1   1\n",
        "                                1 1 1 1                                                         1 1 1 1\n",
        "                               1       1                                                       1       1\n",
        "                              1 1     1 1                                                     1 1     1 1\n",
        "                             1   1   1   1                                                   1   1   1   1\n",
        "                            1 1 1 1 1 1 1 1                                                 1 1 1 1 1 1 1 1\n",
        "                           1               1                                               1               1\n",
        "                          1 1             1 1                                             1 1             1 1\n",
        "                         1   1           1   1                                           1   1           1   1\n",
        "                        1 1 1 1         1 1 1 1                                         1 1 1 1         1 1 1 1\n",
        "                       1       1       1       1                                       1       1       1       1\n",
        "                      1 1     1 1     1 1     1 1                                     1 1     1 1     1 1     1 1\n",
        "                     1   1   1   1   1   1   1   1                                   1   1   1   1   1   1   1   1\n",
        "                    1 1 1 1 1 1 1 1 1 1 1 1 1 1 1 1                                 1 1 1 1 1 1 1 1 1 1 1 1 1 1 1 1\n",
        "                   1                               1                               1                               1\n",
        "                  1 1                             1 1                             1 1                             1 1\n",
        "                 1   1                           1   1                           1   1                           1   1\n",
        "                1 1 1 1                         1 1 1 1                         1 1 1 1                         1 1 1 1\n",
        "               1       1                       1       1                       1       1                       1       1\n",
        "              1 1     1 1                     1 1     1 1                     1 1     1 1                     1 1     1 1\n",
        "             1   1   1   1                   1   1   1   1                   1   1   1   1                   1   1   1   1\n",
        "            1 1 1 1 1 1 1 1                 1 1 1 1 1 1 1 1                 1 1 1 1 1 1 1 1                 1 1 1 1 1 1 1 1\n",
        "           1               1               1               1               1               1               1               1\n",
        "          1 1             1 1             1 1             1 1             1 1             1 1             1 1             1 1\n",
        "         1   1           1   1           1   1           1   1           1   1           1   1           1   1           1   1\n",
        "        1 1 1 1         1 1 1 1         1 1 1 1         1 1 1 1         1 1 1 1         1 1 1 1         1 1 1 1         1 1 1 1\n",
        "       1       1       1       1       1       1       1       1       1       1       1       1       1       1       1       1\n",
        "      1 1     1 1     1 1     1 1     1 1     1 1     1 1     1 1     1 1     1 1     1 1     1 1     1 1     1 1     1 1     1 1\n",
        "     1   1   1   1   1   1   1   1   1   1   1   1   1   1   1   1   1   1   1   1   1   1   1   1   1   1   1   1   1   1   1   1\n",
        "    1 1 1 1 1 1 1 1 1 1 1 1 1 1 1 1 1 1 1 1 1 1 1 1 1 1 1 1 1 1 1 1 1 1 1 1 1 1 1 1 1 1 1 1 1 1 1 1 1 1 1 1 1 1 1 1 1 1 1 1 1 1 1 1\n",
        "\n",
        "```"
      ]
    },
    {
      "cell_type": "markdown",
      "metadata": {
        "id": "qLKo-LYUMsui"
      },
      "source": [
        "### In terms of parity (counting odd numbers in each row)"
      ]
    },
    {
      "cell_type": "markdown",
      "metadata": {
        "id": "QwTMr_TZLsXZ"
      },
      "source": [
        " | n | n in binary | no. of ones in n's binary rep. | $2^{\\mbox{no. of ones}}$ |\n",
        " |---|-------------|--------------------------------|--------------------------|\n",
        " | 0 |          00 |                              0 | $2^0 = 1$                |\n",
        " | 1 |          01 |                              1 | $2^1 = 2$                |\n",
        " | 2 |          10 |                              1 | $2^1 = 2$                |\n",
        " | 3 |          11 |                              2 | $2^2 = 4$                |\n"
      ]
    },
    {
      "cell_type": "markdown",
      "metadata": {
        "id": "-Vxk-ujlMgNX"
      },
      "source": [
        "### In terms of the Binomial Theorem's $(1 + x)^n$ reduced mod 2"
      ]
    },
    {
      "cell_type": "markdown",
      "metadata": {
        "id": "LW528ZrdMpki"
      },
      "source": [
        "In the following, ```rm2``` stands for 'reduced mod 2'.\n",
        "\n",
        "1. Expand and reduce: $$(1 + x)^2 = 1 + 2x + x^2,\\ \\mbox{rm2} \\Rightarrow 1 + 0x + x^2 = 1 + x^2$$\n",
        "2. Try with an odd power: $$(1 + x)^3 = (1 + 2x + x^2) + (x + 2x^2 + x^3) = 1 + 3x + 3x^2 + x^3,\\ \\mbox{rm2} \\Rightarrow 1 + 1x + 1x^2 + x^3$$\n",
        "3. Better stick with even: $$(1 + x)^4 = 1 + 4x + 6x^2 + 4x^3 + x^4,\\ \\mbox{rm2} \\Rightarrow 1 + x^4$$\n",
        "4. Or decomposed into power of 2 powers: $$(1 + x)^{11} = (1 + x)^{8 + 2 + 1} = (1 + x)^8 (1 + x)^2 (1 + x)^1,\\ \\mbox{rm2} \\Rightarrow (1 + x^8)(1 + x^2)(1 + x^1)$$"
      ]
    },
    {
      "cell_type": "markdown",
      "metadata": {
        "id": "px7pyDP7OiEk"
      },
      "source": [
        "# What is the probability"
      ]
    },
    {
      "cell_type": "markdown",
      "metadata": {
        "id": "693coRaEOtyl"
      },
      "source": [
        "that a randomly chosen number from Pascal's Triangle is even?"
      ]
    },
    {
      "cell_type": "code",
      "metadata": {
        "id": "SfA3hu-K8iX3"
      },
      "source": [
        "## This function takes in a row (n) of the pascal's triangle and tells you the the chance that \r\n",
        "## a number chosen anywhere in the triangle up to that point is even. However, this code does \r\n",
        "## not calculate which row a given number would be on. \r\n",
        "def findEven(n):\r\n",
        "  odd = 0\r\n",
        "  oddNumbers = 0\r\n",
        "  evenNumbers = 0\r\n",
        "  totalNumbers = 0\r\n",
        "  oddProbability = 0\r\n",
        "  evenProbability = 0\r\n",
        "  for i in range(0, n):\r\n",
        "    odd = (bin(i).count('1'))\r\n",
        "    oddNumbers += (2 ** odd)\r\n",
        "    totalNumbers += (i + 1)\r\n",
        "  print(\"Odd Numbers: \", oddNumbers)\r\n",
        "  print(\"totalNumbers: \", totalNumbers)\r\n",
        "\r\n",
        "  evenNumbers = totalNumbers - oddNumbers\r\n",
        "  print(\"Even Numbers: \", evenNumbers)\r\n",
        "\r\n",
        "  oddProbability = oddNumbers / totalNumbers\r\n",
        "  print(\"Odd Probability: \", oddProbability)\r\n",
        "  evenProbability = 1 - oddProbability\r\n",
        "  print(\"Even Probability: \", evenProbability)"
      ],
      "execution_count": 1,
      "outputs": []
    },
    {
      "cell_type": "code",
      "metadata": {
        "id": "3s8oygh6I4b0",
        "outputId": "4fc0bd6d-8277-4ff7-9a40-b3ba06ac5dc6",
        "colab": {
          "base_uri": "https://localhost:8080/"
        }
      },
      "source": [
        "findEven(20)"
      ],
      "execution_count": 15,
      "outputs": [
        {
          "output_type": "stream",
          "text": [
            "Odd Numbers:  99\n",
            "totalNumbers:  210\n",
            "Even Numbers:  111\n",
            "Odd Probability:  0.4714285714285714\n",
            "Even Probability:  0.5285714285714286\n"
          ],
          "name": "stdout"
        }
      ]
    },
    {
      "cell_type": "code",
      "metadata": {
        "id": "WZKF4EdzI-d-",
        "outputId": "3cf52650-2c7b-4e52-8ab8-40fcdf981bb2",
        "colab": {
          "base_uri": "https://localhost:8080/"
        }
      },
      "source": [
        "findEven(5000)"
      ],
      "execution_count": 16,
      "outputs": [
        {
          "output_type": "stream",
          "text": [
            "Odd Numbers:  614979\n",
            "totalNumbers:  12502500\n",
            "Even Numbers:  11887521\n",
            "Odd Probability:  0.04918848230353929\n",
            "Even Probability:  0.9508115176964607\n"
          ],
          "name": "stdout"
        }
      ]
    },
    {
      "cell_type": "code",
      "metadata": {
        "id": "XHA3fC3V-MsV",
        "colab": {
          "base_uri": "https://localhost:8080/"
        },
        "outputId": "31d708bf-3a69-486b-ec11-1faed0b55d0a"
      },
      "source": [
        "findEven(1000000)"
      ],
      "execution_count": 14,
      "outputs": [
        {
          "output_type": "stream",
          "text": [
            "Odd Numbers:  2875240881\n",
            "totalNumbers:  500000500000\n",
            "Even Numbers:  497125259119\n",
            "Odd Probability:  0.005750476011523988\n",
            "Even Probability:  0.994249523988476\n"
          ],
          "name": "stdout"
        }
      ]
    },
    {
      "cell_type": "markdown",
      "metadata": {
        "id": "Y0-Dn2R6JGY3"
      },
      "source": [
        "**Even Number Probability**"
      ]
    },
    {
      "cell_type": "markdown",
      "metadata": {
        "id": "mGkNtEdxJLu4"
      },
      "source": [
        "The probability that a number is even increases as the triangle increases from n to infinity. This algorithm shows that the larger n becomes the higher the probability that a randomly chosen number will be even. This occurs to the point that when we approach around n = 1,000,000 that the probability of selecting an even number is almost 100%"
      ]
    },
    {
      "cell_type": "markdown",
      "metadata": {
        "id": "vRqZbqW-O0O6"
      },
      "source": [
        "Hint: Use the complementary probability that a randomly chosen number from Pascal's Triangle is odd!\n"
      ]
    },
    {
      "cell_type": "markdown",
      "metadata": {
        "id": "HNm_DN5JO8j4"
      },
      "source": [
        "```\n",
        "                                                                                                               Total # of 1's\n",
        "  What if you numbered the rows starting at 1 instead of 0?        1                                   1             1\n",
        "                                                                  1 1                                  2             3\n",
        "                                                                 1   1                                 3\n",
        "                                                                1 1 1 1                                4             9\n",
        "                                                               1       1                               5\n",
        "                                                              1 1     1 1                              6\n",
        "                                                             1   1   1   1                             7\n",
        "                                                            1 1 1 1 1 1 1 1                            8            27\n",
        "                                                           1               1                           9\n",
        "                                                          1 1             1 1                         10\n",
        "                                                         1   1           1   1                        11\n",
        "                                                        1 1 1 1         1 1 1 1                       12\n",
        "                                                       1       1       1       1                      13\n",
        "                                                      1 1     1 1     1 1     1 1                     14\n",
        "                                                     1   1   1   1   1   1   1   1                    15\n",
        "                                                    1 1 1 1 1 1 1 1 1 1 1 1 1 1 1 1                   16            81\n",
        "                                                   1                               1                  17\n",
        "                                                  1 1                             1 1                 18\n",
        "                                                 1   1                           1   1                19\n",
        "                                                1 1 1 1                         1 1 1 1               20\n",
        "                                               1       1                       1       1              21\n",
        "                                              1 1     1 1                     1 1     1 1             22\n",
        "                                             1   1   1   1                   1   1   1   1            23\n",
        "                                            1 1 1 1 1 1 1 1                 1 1 1 1 1 1 1 1           24\n",
        "                                           1               1               1               1          25\n",
        "                                          1 1             1 1             1 1             1 1         26\n",
        "                                         1   1           1   1           1   1           1   1        27\n",
        "                                        1 1 1 1         1 1 1 1         1 1 1 1         1 1 1 1       28\n",
        "                                       1       1       1       1       1       1       1       1      29\n",
        "                                      1 1     1 1     1 1     1 1     1 1     1 1     1 1     1 1     30\n",
        "                                     1   1   1   1   1   1   1   1   1   1   1   1   1   1   1   1    31\n",
        "                                    1 1 1 1 1 1 1 1 1 1 1 1 1 1 1 1 1 1 1 1 1 1 1 1 1 1 1 1 1 1 1 1   32          243\n",
        "                                   1                                                               1\n",
        "                                  1 1                                                             1 1\n",
        "                                 1   1                                                           1   1\n",
        "                                1 1 1 1                                                         1 1 1 1\n",
        "                               1       1                                                       1       1\n",
        "                              1 1     1 1                                                     1 1     1 1\n",
        "                             1   1   1   1                                                   1   1   1   1\n",
        "                            1 1 1 1 1 1 1 1                                                 1 1 1 1 1 1 1 1\n",
        "                           1               1                                               1               1\n",
        "                          1 1             1 1                                             1 1             1 1\n",
        "                         1   1           1   1                                           1   1           1   1\n",
        "                        1 1 1 1         1 1 1 1                                         1 1 1 1         1 1 1 1\n",
        "                       1       1       1       1                                       1       1       1       1\n",
        "                      1 1     1 1     1 1     1 1                                     1 1     1 1     1 1     1 1\n",
        "                     1   1   1   1   1   1   1   1                                   1   1   1   1   1   1   1   1\n",
        "                    1 1 1 1 1 1 1 1 1 1 1 1 1 1 1 1                                 1 1 1 1 1 1 1 1 1 1 1 1 1 1 1 1\n",
        "                   1                               1                               1                               1\n",
        "                  1 1                             1 1                             1 1                             1 1\n",
        "                 1   1                           1   1                           1   1                           1   1\n",
        "                1 1 1 1                         1 1 1 1                         1 1 1 1                         1 1 1 1\n",
        "               1       1                       1       1                       1       1                       1       1\n",
        "              1 1     1 1                     1 1     1 1                     1 1     1 1                     1 1     1 1\n",
        "             1   1   1   1                   1   1   1   1                   1   1   1   1                   1   1   1   1\n",
        "            1 1 1 1 1 1 1 1                 1 1 1 1 1 1 1 1                 1 1 1 1 1 1 1 1                 1 1 1 1 1 1 1 1\n",
        "           1               1               1               1               1               1               1               1\n",
        "          1 1             1 1             1 1             1 1             1 1             1 1             1 1             1 1\n",
        "         1   1           1   1           1   1           1   1           1   1           1   1           1   1           1   1\n",
        "        1 1 1 1         1 1 1 1         1 1 1 1         1 1 1 1         1 1 1 1         1 1 1 1         1 1 1 1         1 1 1 1\n",
        "       1       1       1       1       1       1       1       1       1       1       1       1       1       1       1       1\n",
        "      1 1     1 1     1 1     1 1     1 1     1 1     1 1     1 1     1 1     1 1     1 1     1 1     1 1     1 1     1 1     1 1\n",
        "     1   1   1   1   1   1   1   1   1   1   1   1   1   1   1   1   1   1   1   1   1   1   1   1   1   1   1   1   1   1   1   1\n",
        "    1 1 1 1 1 1 1 1 1 1 1 1 1 1 1 1 1 1 1 1 1 1 1 1 1 1 1 1 1 1 1 1 1 1 1 1 1 1 1 1 1 1 1 1 1 1 1 1 1 1 1 1 1 1 1 1 1 1 1 1 1 1 1 1\n",
        "```"
      ]
    }
  ]
}