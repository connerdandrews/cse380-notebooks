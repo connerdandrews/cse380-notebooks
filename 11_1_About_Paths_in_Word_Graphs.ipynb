{
  "nbformat": 4,
  "nbformat_minor": 0,
  "metadata": {
    "colab": {
      "name": "11_1_About_Paths_in_Word_Graphs.ipynb",
      "provenance": [],
      "include_colab_link": true
    },
    "kernelspec": {
      "name": "python3",
      "display_name": "Python 3"
    }
  },
  "cells": [
    {
      "cell_type": "markdown",
      "metadata": {
        "id": "view-in-github",
        "colab_type": "text"
      },
      "source": [
        "<a href=\"https://colab.research.google.com/github/connerdandrews/cse380-notebooks/blob/master/11_1_About_Paths_in_Word_Graphs.ipynb\" target=\"_parent\"><img src=\"https://colab.research.google.com/assets/colab-badge.svg\" alt=\"Open In Colab\"/></a>"
      ]
    },
    {
      "cell_type": "markdown",
      "metadata": {
        "id": "bdAeTh17kn01"
      },
      "source": [
        "# About Paths in Word Graphs\n",
        "## Divide Pair Conquer\n",
        "### Due: Monday, 15 March 2021, 11:59 pm"
      ]
    },
    {
      "cell_type": "markdown",
      "metadata": {
        "id": "XJHGM9eQkwxH"
      },
      "source": [
        "## Definition"
      ]
    },
    {
      "cell_type": "markdown",
      "metadata": {
        "id": "GM3LBOlNkzid"
      },
      "source": [
        "Word graphs are like those in Exercise 381, the nodes are words, the links are between words that differ by only one letter in the same position (e.g., **wind** and **wins** differ in the fourth letter only, so that defines a link. But **dine** and **tone** differ in the first and second letters, so no link there)."
      ]
    },
    {
      "cell_type": "markdown",
      "metadata": {
        "id": "YxO6SnVXoFWY"
      },
      "source": [
        "## TODO Find Short Paths"
      ]
    },
    {
      "cell_type": "markdown",
      "metadata": {
        "id": "pASpYbc-oGns"
      },
      "source": [
        "**Without** looking online at any of the 5 billion web sites devoted to this problem, create a graph representation using the following \"universe\" of words:"
      ]
    },
    {
      "cell_type": "code",
      "metadata": {
        "id": "JPLq4YOJoLab",
        "colab": {
          "base_uri": "https://localhost:8080/"
        },
        "outputId": "f769a15c-02fa-49f0-be50-38aa9afc34aa"
      },
      "source": [
        "import json, urllib.request\n",
        "# word list comes from here: https://github.com/dwyl/english-words\n",
        "url = \"https://raw.githubusercontent.com/dwyl/english-words/master/words_dictionary.json\"\n",
        "with urllib.request.urlopen(url) as f: \n",
        "  words = json.loads(f.read())\n",
        "  print('bood' in words)"
      ],
      "execution_count": 2,
      "outputs": [
        {
          "output_type": "stream",
          "text": [
            "True\n"
          ],
          "name": "stdout"
        }
      ]
    },
    {
      "cell_type": "markdown",
      "metadata": {
        "id": "THnbd22gocyt"
      },
      "source": [
        "Find by hand the shortest paths for as many of the following endpoints as you can. Or, if you have time, write code to find these paths:"
      ]
    },
    {
      "cell_type": "markdown",
      "metadata": {
        "id": "sir5gH7cpQFB"
      },
      "source": [
        "### From \"dry\" to \"wet\""
      ]
    },
    {
      "cell_type": "markdown",
      "metadata": {
        "id": "tXoZiV9xtnvO"
      },
      "source": [
        "dry\n",
        "day\n",
        "way\n",
        "wad\n",
        "wed\n",
        "wet"
      ]
    },
    {
      "cell_type": "markdown",
      "metadata": {
        "id": "b6V-ITRMpRvE"
      },
      "source": [
        "### From \"read\" to \"ride\""
      ]
    },
    {
      "cell_type": "markdown",
      "metadata": {
        "id": "6NFPbL7wwrAs"
      },
      "source": [
        "read redd rede ride"
      ]
    },
    {
      "cell_type": "markdown",
      "metadata": {
        "id": "uLOTZRAVpVKF"
      },
      "source": [
        "### From \"fish\" to \"fowl\""
      ]
    },
    {
      "cell_type": "markdown",
      "metadata": {
        "id": "Q563HKimxZQb"
      },
      "source": [
        "fish fast mast most cost coot foot fool fowl"
      ]
    },
    {
      "cell_type": "markdown",
      "metadata": {
        "id": "cm0_qn79pWaZ"
      },
      "source": [
        "### From \"hate\" to \"love\""
      ]
    },
    {
      "cell_type": "markdown",
      "metadata": {
        "id": "LBZKH-_IzI3L"
      },
      "source": [
        "hate fate fame lame lime live love"
      ]
    },
    {
      "cell_type": "markdown",
      "metadata": {
        "id": "bwsoOSr2pXsI"
      },
      "source": [
        "### From \"head\" to \"feet\""
      ]
    },
    {
      "cell_type": "markdown",
      "metadata": {
        "id": "lC4lUUGM0r6d"
      },
      "source": [
        "head bead beat beet feet"
      ]
    },
    {
      "cell_type": "markdown",
      "metadata": {
        "id": "tYmmwLDApY-a"
      },
      "source": [
        "### From \"poor\" to \"rich\""
      ]
    },
    {
      "cell_type": "markdown",
      "metadata": {
        "id": "TxrXksll09rf"
      },
      "source": [
        "I attempted this one but didn't solve it yet. \r\n",
        "\r\n",
        "poor pour tour  rice rich"
      ]
    },
    {
      "cell_type": "markdown",
      "metadata": {
        "id": "hvEyvK3ypaR5"
      },
      "source": [
        "### From \"sick\" to \"well\""
      ]
    },
    {
      "cell_type": "markdown",
      "metadata": {
        "id": "H5W4mKr9-ehQ"
      },
      "source": [
        "sick lick lack wack walk wall well "
      ]
    },
    {
      "cell_type": "markdown",
      "metadata": {
        "id": "2KzWkpn3pb2H"
      },
      "source": [
        "### From \"warm\" to \"cold\""
      ]
    },
    {
      "cell_type": "markdown",
      "metadata": {
        "id": "CJWxIZVq_H7g"
      },
      "source": [
        "warm ward card cord cold"
      ]
    },
    {
      "cell_type": "markdown",
      "metadata": {
        "id": "nriebmvRpg9m"
      },
      "source": [
        "### From \"work\" to \"play\""
      ]
    },
    {
      "cell_type": "markdown",
      "metadata": {
        "id": "XaR9qKyAAE-B"
      },
      "source": [
        "I attempted this one but didn't solve it yet.\r\n",
        "\r\n",
        "work word ward card care core corn cork         gram cram clam clay play \r\n",
        "\r\n",
        "work fork form farm fare care card bard bare    clan plan play "
      ]
    },
    {
      "cell_type": "markdown",
      "metadata": {
        "id": "Bn1gMDAvpidg"
      },
      "source": [
        "### From \"bane\" to \"boon\""
      ]
    },
    {
      "cell_type": "markdown",
      "metadata": {
        "id": "8u_I-C4SBqAt"
      },
      "source": [
        "bane bone bond bood boon\r\n"
      ]
    },
    {
      "cell_type": "markdown",
      "metadata": {
        "id": "iZ0UQQBGpjvy"
      },
      "source": [
        "### From \"black\" to \"white\""
      ]
    },
    {
      "cell_type": "markdown",
      "metadata": {
        "id": "b-Obt1eIDE7u"
      },
      "source": [
        "I attempted this one but didn't solve it yet.\r\n",
        "\r\n",
        "black blank flank flack flick click chick check cheek cheer    write white\r\n",
        "\r\n",
        "black block clock click          write white"
      ]
    },
    {
      "cell_type": "markdown",
      "metadata": {
        "id": "PUhtca6YplBL"
      },
      "source": [
        "### From \"bread\" to \"toast\""
      ]
    },
    {
      "cell_type": "markdown",
      "metadata": {
        "id": "jUP-Exf9Jl3-"
      },
      "source": [
        "I attempted this one but didn't solve it yet.\r\n",
        "\r\n",
        "bread break bleak    blast boast toast"
      ]
    },
    {
      "cell_type": "markdown",
      "metadata": {
        "id": "drhFyUbnpmwQ"
      },
      "source": [
        "## TODO Go Above and Beyond"
      ]
    },
    {
      "cell_type": "markdown",
      "metadata": {
        "id": "9Y_YdUrapoaE"
      },
      "source": [
        "Think of ways to change the definition of a link in a word graph to make it possible (although perhaps costlier) to move from word to word."
      ]
    }
  ]
}