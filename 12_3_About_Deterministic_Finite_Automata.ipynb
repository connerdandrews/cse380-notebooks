{
  "nbformat": 4,
  "nbformat_minor": 0,
  "metadata": {
    "colab": {
      "name": "12_3_About_Deterministic_Finite_Automata.ipynb",
      "provenance": [],
      "include_colab_link": true
    },
    "kernelspec": {
      "name": "python3",
      "display_name": "Python 3"
    },
    "language_info": {
      "name": "python"
    }
  },
  "cells": [
    {
      "cell_type": "markdown",
      "metadata": {
        "id": "view-in-github",
        "colab_type": "text"
      },
      "source": [
        "<a href=\"https://colab.research.google.com/github/connerdandrews/cse380-notebooks/blob/master/12_3_About_Deterministic_Finite_Automata.ipynb\" target=\"_parent\"><img src=\"https://colab.research.google.com/assets/colab-badge.svg\" alt=\"Open In Colab\"/></a>"
      ]
    },
    {
      "cell_type": "markdown",
      "metadata": {
        "id": "PnYHHyA0U0-j"
      },
      "source": [
        "# About Deterministic Finite Automata\n",
        "## Class Directed Learning\n",
        "### Due: Tuesday, 23 March 2021, 11:59 pm"
      ]
    },
    {
      "cell_type": "markdown",
      "metadata": {
        "id": "sx-YEn-1VQOZ"
      },
      "source": [
        "Any study of Deterministic Finite Automata (DFA) would be incomplete without looking into \"Language Recognition\" --- an area of discrete math that leads us into territory abounding in rich structures and powerful ideas.\n",
        "\n",
        "The notion of a finite-state machine **with** output generalizes to the notion of a finite-state machine (aka a finite automaton) with **no** output, but with important computational abilities.\n",
        "\n",
        "For now, we focus on **deterministic** computations.\n"
      ]
    },
    {
      "cell_type": "markdown",
      "metadata": {
        "id": "FbCbHGhPTXqH"
      },
      "source": [
        "For all of the following examples and tasks, the alphabet is $\\Sigma = \\{0, 1\\}$, and the idea is to construct a DFA serving as a language recognizer for the given languages."
      ]
    },
    {
      "cell_type": "markdown",
      "metadata": {
        "id": "rtfhC5ZoSTEY"
      },
      "source": [
        "## Example 1"
      ]
    },
    {
      "cell_type": "markdown",
      "metadata": {
        "id": "79IaPmRiSeml"
      },
      "source": [
        "The language\n",
        "\n",
        "$L_0 = \\{x0\\ |\\ x \\in \\Sigma^*\\}$\n",
        "\n",
        "needs two states in order to:\n",
        "\n",
        "1. Accept strings that end in 0.\n",
        "2. Reject strings that end in 1."
      ]
    },
    {
      "cell_type": "code",
      "metadata": {
        "id": "1cwtCgaZQ6Nd"
      },
      "source": [
        "from graphviz import Source"
      ],
      "execution_count": 2,
      "outputs": []
    },
    {
      "cell_type": "code",
      "metadata": {
        "id": "Qxbvv1GTRIWd"
      },
      "source": [
        "last_bit_is_zero = '''\n",
        "digraph {\n",
        "  node [shape=circle]\n",
        "  empty [shape=none label=\"\"]\n",
        "  S0 [shape=doublecircle]\n",
        "  S1\n",
        "  empty -> S1 [label=\"\" headport=w]\n",
        "  S1 -> S1 [label=1 headport=ne tailport=nw]\n",
        "  S1 -> S0 [label=0]\n",
        "  S0 -> S0 [label=0 headport=ne tailport=nw]\n",
        "  S0 -> S1 [label=1]\n",
        "  {rank=same empty S1 S0}\n",
        "}\n",
        "'''\n",
        "Source(last_bit_is_zero)"
      ],
      "execution_count": null,
      "outputs": []
    },
    {
      "cell_type": "markdown",
      "metadata": {
        "id": "5bkHg2N6T7JF"
      },
      "source": [
        "## Example 2"
      ]
    },
    {
      "cell_type": "markdown",
      "metadata": {
        "id": "vPqj2RfNTJiq"
      },
      "source": [
        "The language\n",
        "\n",
        "$L_1 = \\{x0z\\ |\\ x \\in \\Sigma^*, z \\in \\Sigma\\}$\n",
        "\n",
        "needs four states in order to:\n",
        "\n",
        "1. Accept strings that end in 00 or 01.\n",
        "2. Reject strings that end in 10 or 11."
      ]
    },
    {
      "cell_type": "code",
      "metadata": {
        "id": "W6dIJ5vnOewN"
      },
      "source": [
        "second_to_last_bit_is_zero = '''\n",
        "digraph {\n",
        "  node [shape=circle]\n",
        "  empty [shape=none label=\"\"]\n",
        "  S11\n",
        "  S10\n",
        "  S00 [shape=doublecircle]\n",
        "  S01 [shape=doublecircle]\n",
        "\n",
        "  empty -> S11 [label=\"\" headport=w]\n",
        "  S11 -> S10 [label=0]\n",
        "  S11 -> S11 [label=1 headport=ne tailport=nw]\n",
        "  S10 -> S00 [label=0]\n",
        "  S10 -> S01 [label=1]\n",
        "  S00 -> S00 [label=0 tailport=w]\n",
        "  S00 -> S01 [label=1]\n",
        "  S01 -> S10 [label=0]\n",
        "  S01 -> S11 [label=1]\n",
        "  {rank=same empty S11 S10}\n",
        "  {rank=same S01 S00}\n",
        "}\n",
        "'''\n",
        "Source(second_to_last_bit_is_zero)"
      ],
      "execution_count": null,
      "outputs": []
    },
    {
      "cell_type": "markdown",
      "metadata": {
        "id": "JyK0H9HbT9l2"
      },
      "source": [
        "## TODO Task 1"
      ]
    },
    {
      "cell_type": "markdown",
      "metadata": {
        "id": "fVssCSj9UAkw"
      },
      "source": [
        "Construct a DFA to recognize the language\n",
        "\n",
        "$L_2 = \\{x0z\\ |\\ x \\in \\Sigma^*, z \\in \\Sigma^2\\}$."
      ]
    },
    {
      "cell_type": "code",
      "metadata": {
        "id": "xdJdJiBA_4IC",
        "colab": {
          "base_uri": "https://localhost:8080/",
          "height": 348
        },
        "outputId": "5ea183a4-9280-4033-e4e3-e13df3b0ed47"
      },
      "source": [
        "third_to_last_bit_is_zero = '''\n",
        "digraph {\n",
        "  node [shape=circle]\n",
        "  empty [shape=none label=\"\"]\n",
        "  S111\n",
        "  S110\n",
        "  S101\n",
        "  S100\n",
        "  S011 [shape=doublecircle]\n",
        "  S001 [shape=doublecircle]\n",
        "  S000 [shape=doublecircle]\n",
        "  S010 [shape=doublecircle]\n",
        "\n",
        "  empty -> S111 [label=\"\" headport=w]\n",
        "  S111 -> S110 [label=0]\n",
        "  S111 -> S111 [label=1 headport=ne tailport=nw]\n",
        "  S110 -> S100 [label=0]\n",
        "  S110 -> S101 [label=1]\n",
        "  S101 -> S010 [label=0]\n",
        "  S101 -> S011 [label=1]\n",
        "  S100 -> S000 [label=0]\n",
        "  S100 -> S001 [label=1]\n",
        "  S000 -> S000 [label=0 tailport=w]\n",
        "  S000 -> S001 [label=1]\n",
        "  S001 -> S010 [label=0]\n",
        "  S001 -> S011 [label=1]\n",
        "  S010 -> S100 [label=0]\n",
        "  S010 -> S101 [label=1]\n",
        "  S011 -> S110 [label=0]\n",
        "  S011 -> S111 [label=1]\n",
        "  {rank=same empty S111 S110 S101 S100}\n",
        "  {rank=same S001 S000 S011 S010}\n",
        "}\n",
        "'''\n",
        "Source(third_to_last_bit_is_zero)"
      ],
      "execution_count": null,
      "outputs": [
        {
          "output_type": "execute_result",
          "data": {
            "text/plain": [
              "<graphviz.files.Source at 0x7faec486ca90>"
            ],
            "image/svg+xml": "<?xml version=\"1.0\" encoding=\"UTF-8\" standalone=\"no\"?>\n<!DOCTYPE svg PUBLIC \"-//W3C//DTD SVG 1.1//EN\"\n \"http://www.w3.org/Graphics/SVG/1.1/DTD/svg11.dtd\">\n<!-- Generated by graphviz version 2.40.1 (20161225.0304)\n -->\n<!-- Title: %3 Pages: 1 -->\n<svg width=\"456pt\" height=\"245pt\"\n viewBox=\"0.00 0.00 455.55 245.24\" xmlns=\"http://www.w3.org/2000/svg\" xmlns:xlink=\"http://www.w3.org/1999/xlink\">\n<g id=\"graph0\" class=\"graph\" transform=\"scale(1 1) rotate(0) translate(4 241.2364)\">\n<title>%3</title>\n<polygon fill=\"#ffffff\" stroke=\"transparent\" points=\"-4,4 -4,-241.2364 451.5473,-241.2364 451.5473,4 -4,4\"/>\n<!-- empty -->\n<g id=\"node1\" class=\"node\">\n<title>empty</title>\n</g>\n<!-- S111 -->\n<g id=\"node2\" class=\"node\">\n<title>S111</title>\n<ellipse fill=\"none\" stroke=\"#000000\" cx=\"119\" cy=\"-150.6419\" rx=\"29.795\" ry=\"29.795\"/>\n<text text-anchor=\"middle\" x=\"119\" y=\"-146.9419\" font-family=\"Times,serif\" font-size=\"14.00\" fill=\"#000000\">S111</text>\n</g>\n<!-- empty&#45;&gt;S111 -->\n<g id=\"edge1\" class=\"edge\">\n<title>empty&#45;&gt;S111:w</title>\n<path fill=\"none\" stroke=\"#000000\" d=\"M54.2068,-150.6419C61.9244,-150.6419 70.5297,-150.6419 78.9663,-150.6419\"/>\n<polygon fill=\"#000000\" stroke=\"#000000\" points=\"79.1027,-154.142 89.1027,-150.6419 79.1026,-147.142 79.1027,-154.142\"/>\n</g>\n<!-- S111&#45;&gt;S111 -->\n<g id=\"edge3\" class=\"edge\">\n<title>S111:nw&#45;&gt;S111:ne</title>\n<path fill=\"none\" stroke=\"#000000\" d=\"M98,-171.6419C89,-189.8725 89,-208.5392 119,-208.5392 143.8438,-208.5392 148.1138,-195.7378 143.7364,-180.9837\"/>\n<polygon fill=\"#000000\" stroke=\"#000000\" points=\"146.9634,-179.627 140,-171.6419 140.464,-182.2265 146.9634,-179.627\"/>\n<text text-anchor=\"middle\" x=\"119\" y=\"-212.3392\" font-family=\"Times,serif\" font-size=\"14.00\" fill=\"#000000\">1</text>\n</g>\n<!-- S110 -->\n<g id=\"node3\" class=\"node\">\n<title>S110</title>\n<ellipse fill=\"none\" stroke=\"#000000\" cx=\"215\" cy=\"-150.6419\" rx=\"30.5947\" ry=\"30.5947\"/>\n<text text-anchor=\"middle\" x=\"215\" y=\"-146.9419\" font-family=\"Times,serif\" font-size=\"14.00\" fill=\"#000000\">S110</text>\n</g>\n<!-- S111&#45;&gt;S110 -->\n<g id=\"edge2\" class=\"edge\">\n<title>S111&#45;&gt;S110</title>\n<path fill=\"none\" stroke=\"#000000\" d=\"M149.1116,-150.6419C157.0865,-150.6419 165.8302,-150.6419 174.2673,-150.6419\"/>\n<polygon fill=\"#000000\" stroke=\"#000000\" points=\"174.3343,-154.142 184.3342,-150.6419 174.3342,-147.142 174.3343,-154.142\"/>\n<text text-anchor=\"middle\" x=\"166.675\" y=\"-157.4419\" font-family=\"Times,serif\" font-size=\"14.00\" fill=\"#000000\">0</text>\n</g>\n<!-- S101 -->\n<g id=\"node4\" class=\"node\">\n<title>S101</title>\n<ellipse fill=\"none\" stroke=\"#000000\" cx=\"391\" cy=\"-150.6419\" rx=\"30.5947\" ry=\"30.5947\"/>\n<text text-anchor=\"middle\" x=\"391\" y=\"-146.9419\" font-family=\"Times,serif\" font-size=\"14.00\" fill=\"#000000\">S101</text>\n</g>\n<!-- S110&#45;&gt;S101 -->\n<g id=\"edge5\" class=\"edge\">\n<title>S110&#45;&gt;S101</title>\n<path fill=\"none\" stroke=\"#000000\" d=\"M238.1211,-170.9348C254.0357,-183.4981 276.3256,-198.473 299,-205.1892 322.4679,-212.1404 346.1594,-197.472 363.6226,-181.6048\"/>\n<polygon fill=\"#000000\" stroke=\"#000000\" points=\"366.4218,-183.7673 371.1848,-174.3034 361.5596,-178.7315 366.4218,-183.7673\"/>\n<text text-anchor=\"middle\" x=\"303\" y=\"-202.9892\" font-family=\"Times,serif\" font-size=\"14.00\" fill=\"#000000\">1</text>\n</g>\n<!-- S100 -->\n<g id=\"node5\" class=\"node\">\n<title>S100</title>\n<ellipse fill=\"none\" stroke=\"#000000\" cx=\"312\" cy=\"-150.6419\" rx=\"30.5947\" ry=\"30.5947\"/>\n<text text-anchor=\"middle\" x=\"312\" y=\"-146.9419\" font-family=\"Times,serif\" font-size=\"14.00\" fill=\"#000000\">S100</text>\n</g>\n<!-- S110&#45;&gt;S100 -->\n<g id=\"edge4\" class=\"edge\">\n<title>S110&#45;&gt;S100</title>\n<path fill=\"none\" stroke=\"#000000\" d=\"M245.6914,-150.6419C253.7412,-150.6419 262.5511,-150.6419 271.0445,-150.6419\"/>\n<polygon fill=\"#000000\" stroke=\"#000000\" points=\"271.1753,-154.142 281.1753,-150.6419 271.1753,-147.142 271.1753,-154.142\"/>\n<text text-anchor=\"middle\" x=\"263.5\" y=\"-157.4419\" font-family=\"Times,serif\" font-size=\"14.00\" fill=\"#000000\">0</text>\n</g>\n<!-- S011 -->\n<g id=\"node6\" class=\"node\">\n<title>S011</title>\n<ellipse fill=\"none\" stroke=\"#000000\" cx=\"326\" cy=\"-34.5473\" rx=\"30.5892\" ry=\"30.5892\"/>\n<ellipse fill=\"none\" stroke=\"#000000\" cx=\"326\" cy=\"-34.5473\" rx=\"34.5946\" ry=\"34.5946\"/>\n<text text-anchor=\"middle\" x=\"326\" y=\"-30.8473\" font-family=\"Times,serif\" font-size=\"14.00\" fill=\"#000000\">S011</text>\n</g>\n<!-- S101&#45;&gt;S011 -->\n<g id=\"edge7\" class=\"edge\">\n<title>S101&#45;&gt;S011</title>\n<path fill=\"none\" stroke=\"#000000\" d=\"M375.9243,-123.7156C367.6338,-108.9081 357.1955,-90.2646 348.0096,-73.8579\"/>\n<polygon fill=\"#000000\" stroke=\"#000000\" points=\"350.996,-72.0275 343.0567,-65.0118 344.8882,-75.4472 350.996,-72.0275\"/>\n<text text-anchor=\"middle\" x=\"366\" y=\"-90.8946\" font-family=\"Times,serif\" font-size=\"14.00\" fill=\"#000000\">1</text>\n</g>\n<!-- S010 -->\n<g id=\"node9\" class=\"node\">\n<title>S010</title>\n<ellipse fill=\"none\" stroke=\"#000000\" cx=\"413\" cy=\"-34.5473\" rx=\"30.5892\" ry=\"30.5892\"/>\n<ellipse fill=\"none\" stroke=\"#000000\" cx=\"413\" cy=\"-34.5473\" rx=\"34.5946\" ry=\"34.5946\"/>\n<text text-anchor=\"middle\" x=\"413\" y=\"-30.8473\" font-family=\"Times,serif\" font-size=\"14.00\" fill=\"#000000\">S010</text>\n</g>\n<!-- S101&#45;&gt;S010 -->\n<g id=\"edge6\" class=\"edge\">\n<title>S101&#45;&gt;S010</title>\n<path fill=\"none\" stroke=\"#000000\" d=\"M387.7964,-119.9973C387.4126,-109.4717 387.7851,-97.6785 390,-87.0946 390.8605,-82.9825 392.0621,-78.7986 393.4688,-74.6783\"/>\n<polygon fill=\"#000000\" stroke=\"#000000\" points=\"396.7737,-75.8344 397.0599,-65.2434 390.2315,-73.3443 396.7737,-75.8344\"/>\n<text text-anchor=\"middle\" x=\"394\" y=\"-90.8946\" font-family=\"Times,serif\" font-size=\"14.00\" fill=\"#000000\">0</text>\n</g>\n<!-- S001 -->\n<g id=\"node7\" class=\"node\">\n<title>S001</title>\n<ellipse fill=\"none\" stroke=\"#000000\" cx=\"221\" cy=\"-34.5473\" rx=\"30.5892\" ry=\"30.5892\"/>\n<ellipse fill=\"none\" stroke=\"#000000\" cx=\"221\" cy=\"-34.5473\" rx=\"34.5946\" ry=\"34.5946\"/>\n<text text-anchor=\"middle\" x=\"221\" y=\"-30.8473\" font-family=\"Times,serif\" font-size=\"14.00\" fill=\"#000000\">S001</text>\n</g>\n<!-- S100&#45;&gt;S001 -->\n<g id=\"edge9\" class=\"edge\">\n<title>S100&#45;&gt;S001</title>\n<path fill=\"none\" stroke=\"#000000\" d=\"M289.5385,-129.2297C281.4382,-121.0563 272.4613,-111.4491 265,-102.0946 257.7103,-92.9551 250.4931,-82.5883 244.0774,-72.7682\"/>\n<polygon fill=\"#000000\" stroke=\"#000000\" points=\"247.0074,-70.8534 238.6639,-64.3238 241.1143,-74.6313 247.0074,-70.8534\"/>\n<text text-anchor=\"middle\" x=\"269\" y=\"-90.8946\" font-family=\"Times,serif\" font-size=\"14.00\" fill=\"#000000\">1</text>\n</g>\n<!-- S000 -->\n<g id=\"node8\" class=\"node\">\n<title>S000</title>\n<ellipse fill=\"none\" stroke=\"#000000\" cx=\"116\" cy=\"-34.5473\" rx=\"30.5892\" ry=\"30.5892\"/>\n<ellipse fill=\"none\" stroke=\"#000000\" cx=\"116\" cy=\"-34.5473\" rx=\"34.5946\" ry=\"34.5946\"/>\n<text text-anchor=\"middle\" x=\"116\" y=\"-30.8473\" font-family=\"Times,serif\" font-size=\"14.00\" fill=\"#000000\">S000</text>\n</g>\n<!-- S100&#45;&gt;S000 -->\n<g id=\"edge8\" class=\"edge\">\n<title>S100&#45;&gt;S000</title>\n<path fill=\"none\" stroke=\"#000000\" d=\"M285.8415,-134.3407C276.4183,-129.092 265.5122,-123.7055 255,-120.0946 210.2207,-104.7129 188.0583,-130.2609 150,-102.0946 141.443,-95.7617 134.8956,-86.6638 129.9433,-77.188\"/>\n<polygon fill=\"#000000\" stroke=\"#000000\" points=\"133.0816,-75.6364 125.6705,-68.065 126.7424,-78.6054 133.0816,-75.6364\"/>\n<text text-anchor=\"middle\" x=\"154\" y=\"-90.8946\" font-family=\"Times,serif\" font-size=\"14.00\" fill=\"#000000\">0</text>\n</g>\n<!-- S011&#45;&gt;S111 -->\n<g id=\"edge17\" class=\"edge\">\n<title>S011&#45;&gt;S111</title>\n<path fill=\"none\" stroke=\"#000000\" d=\"M296.3324,-52.4114C286.5089,-58.0387 275.4217,-64.0872 265,-69.0946 245.5842,-78.4234 239.1947,-77.3189 220,-87.0946 196.4672,-99.0796 171.3271,-114.8858 152.0155,-127.7358\"/>\n<polygon fill=\"#000000\" stroke=\"#000000\" points=\"149.9255,-124.9234 143.5795,-133.4075 153.8311,-130.7326 149.9255,-124.9234\"/>\n<text text-anchor=\"middle\" x=\"224\" y=\"-90.8946\" font-family=\"Times,serif\" font-size=\"14.00\" fill=\"#000000\">1</text>\n</g>\n<!-- S011&#45;&gt;S110 -->\n<g id=\"edge16\" class=\"edge\">\n<title>S011&#45;&gt;S110</title>\n<path fill=\"none\" stroke=\"#000000\" d=\"M295.5815,-51.0023C274.9086,-62.6551 249.9311,-77.807 242,-87.0946 235.8833,-94.2575 230.9777,-103.0103 227.1161,-111.7021\"/>\n<polygon fill=\"#000000\" stroke=\"#000000\" points=\"223.8473,-110.4495 223.3277,-121.0316 230.3329,-113.0832 223.8473,-110.4495\"/>\n<text text-anchor=\"middle\" x=\"246\" y=\"-90.8946\" font-family=\"Times,serif\" font-size=\"14.00\" fill=\"#000000\">0</text>\n</g>\n<!-- S001&#45;&gt;S011 -->\n<g id=\"edge13\" class=\"edge\">\n<title>S001&#45;&gt;S011</title>\n<path fill=\"none\" stroke=\"#000000\" d=\"M255.6719,-34.5473C263.8257,-34.5473 272.6305,-34.5473 281.1597,-34.5473\"/>\n<polygon fill=\"#000000\" stroke=\"#000000\" points=\"281.3645,-38.0474 291.3645,-34.5473 281.3644,-31.0474 281.3645,-38.0474\"/>\n<text text-anchor=\"middle\" x=\"273.5\" y=\"-41.3473\" font-family=\"Times,serif\" font-size=\"14.00\" fill=\"#000000\">1</text>\n</g>\n<!-- S001&#45;&gt;S010 -->\n<g id=\"edge12\" class=\"edge\">\n<title>S001&#45;&gt;S010</title>\n<path fill=\"none\" stroke=\"#000000\" d=\"M240.8252,-63.2266C250.3231,-74.4572 262.7446,-86.0757 277,-92.0946 311.8896,-106.8256 351.7972,-85.3953 379.315,-64.631\"/>\n<polygon fill=\"#000000\" stroke=\"#000000\" points=\"381.7369,-67.1792 387.438,-58.249 377.4123,-61.6749 381.7369,-67.1792\"/>\n<text text-anchor=\"middle\" x=\"281\" y=\"-90.8946\" font-family=\"Times,serif\" font-size=\"14.00\" fill=\"#000000\">0</text>\n</g>\n<!-- S000&#45;&gt;S001 -->\n<g id=\"edge11\" class=\"edge\">\n<title>S000&#45;&gt;S001</title>\n<path fill=\"none\" stroke=\"#000000\" d=\"M150.6719,-34.5473C158.8257,-34.5473 167.6305,-34.5473 176.1597,-34.5473\"/>\n<polygon fill=\"#000000\" stroke=\"#000000\" points=\"176.3645,-38.0474 186.3645,-34.5473 176.3644,-31.0474 176.3645,-38.0474\"/>\n<text text-anchor=\"middle\" x=\"168.5\" y=\"-41.3473\" font-family=\"Times,serif\" font-size=\"14.00\" fill=\"#000000\">1</text>\n</g>\n<!-- S000&#45;&gt;S000 -->\n<g id=\"edge10\" class=\"edge\">\n<title>S000:w&#45;&gt;S000</title>\n<path fill=\"none\" stroke=\"#000000\" d=\"M81,-34.5473C75.4527,-49.5473 63.4527,-49.5473 63.4527,-34.5473 63.4527,-29.6254 67.2244,-26.3185 72.9114,-24.6266\"/>\n<polygon fill=\"#000000\" stroke=\"#000000\" points=\"73.6914,-28.0549 83.1579,-23.2973 72.7907,-21.113 73.6914,-28.0549\"/>\n<text text-anchor=\"middle\" x=\"59.4527\" y=\"-30.8473\" font-family=\"Times,serif\" font-size=\"14.00\" fill=\"#000000\">0</text>\n</g>\n<!-- S010&#45;&gt;S101 -->\n<g id=\"edge15\" class=\"edge\">\n<title>S010&#45;&gt;S101</title>\n<path fill=\"none\" stroke=\"#000000\" d=\"M406.5289,-68.6953C404.0519,-81.7668 401.2036,-96.7972 398.6283,-110.3872\"/>\n<polygon fill=\"#000000\" stroke=\"#000000\" points=\"395.146,-109.9656 396.7228,-120.4424 402.0236,-111.269 395.146,-109.9656\"/>\n<text text-anchor=\"middle\" x=\"406\" y=\"-90.8946\" font-family=\"Times,serif\" font-size=\"14.00\" fill=\"#000000\">1</text>\n</g>\n<!-- S010&#45;&gt;S100 -->\n<g id=\"edge14\" class=\"edge\">\n<title>S010&#45;&gt;S100</title>\n<path fill=\"none\" stroke=\"#000000\" d=\"M385.9331,-56.7751C380.6986,-60.9362 375.2185,-65.1996 370,-69.0946 358.7368,-77.5013 353.2237,-76.4901 344,-87.0946 337.4419,-94.6344 331.8331,-103.7549 327.2285,-112.7041\"/>\n<polygon fill=\"#000000\" stroke=\"#000000\" points=\"323.9876,-111.367 322.7958,-121.8946 330.2925,-114.408 323.9876,-111.367\"/>\n<text text-anchor=\"middle\" x=\"348\" y=\"-90.8946\" font-family=\"Times,serif\" font-size=\"14.00\" fill=\"#000000\">0</text>\n</g>\n</g>\n</svg>\n"
          },
          "metadata": {
            "tags": []
          },
          "execution_count": 6
        }
      ]
    },
    {
      "cell_type": "markdown",
      "metadata": {
        "id": "40NUh1fjUNI7"
      },
      "source": [
        "## TODO Task 2"
      ]
    },
    {
      "cell_type": "markdown",
      "metadata": {
        "id": "6uUm7MAbUNI7"
      },
      "source": [
        "Construct a DFA to recognize the language\n",
        "\n",
        "$L_3 = \\{x0z\\ |\\ x \\in \\Sigma^*, z \\in \\Sigma^3\\}$."
      ]
    },
    {
      "cell_type": "code",
      "metadata": {
        "id": "LASNYHFlCvv_",
        "colab": {
          "base_uri": "https://localhost:8080/",
          "height": 382
        },
        "outputId": "a878ebdf-ff24-4849-a67b-e56a1cd675d2"
      },
      "source": [
        "fourth_to_last_bit_is_zero = '''\n",
        "digraph {\n",
        "  node [shape=circle]\n",
        "  empty [shape=none label=\"\"]\n",
        "  S1111\n",
        "  S1110\n",
        "  S1101\n",
        "  S1100\n",
        "  S1011\n",
        "  S1010\n",
        "  S1001\n",
        "  S1000\n",
        "  S0100 [shape=doublecircle]\n",
        "  S0111 [shape=doublecircle]\n",
        "  S0001 [shape=doublecircle]\n",
        "  S0101 [shape=doublecircle]\n",
        "  S0000 [shape=doublecircle]\n",
        "  S0110 [shape=doublecircle]\n",
        "  S0010 [shape=doublecircle]\n",
        "  S0011 [shape=doublecircle]\n",
        "\n",
        "  empty -> S1111 [label=\"\" headport=w]\n",
        "  S1111 -> S1110 [label=0]\n",
        "  S1111 -> S1111 [label=1 headport=ne tailport=nw]\n",
        "  S1110 -> S1100 [label=0]\n",
        "  S1110 -> S1101 [label=1]\n",
        "  S1101 -> S1010 [label=0]\n",
        "  S1101 -> S1011 [label=1]\n",
        "  S1100 -> S1000 [label=0]\n",
        "  S1100 -> S1001 [label=1]\n",
        "  S1011 -> S0110 [label=0]\n",
        "  S1011 -> S0111 [label=1]\n",
        "  S1010 -> S0100 [label=0]\n",
        "  S1010 -> S0101 [label=1]\n",
        "  S1001 -> S0010 [label=0]\n",
        "  S1001 -> S0011 [label=1]\n",
        "  S1000 -> S0000 [label=0]\n",
        "  S1000 -> S0001 [label=1]\n",
        "\n",
        "  S0000 -> S0000 [label=0 tailport=w]\n",
        "  S0000 -> S0001 [label=1]\n",
        "  S0001 -> S0010 [label=0]\n",
        "  S0001 -> S0011 [label=1]\n",
        "  S0010 -> S0100 [label=0]\n",
        "  S0010 -> S0101 [label=1]\n",
        "  S0011 -> S0110 [label=0]\n",
        "  S0011 -> S0111 [label=1]\n",
        "  S0100 -> S1000 [label=0]\n",
        "  S0100 -> S1001 [label=1]\n",
        "  S0101 -> S1010 [label=0]\n",
        "  S0101 -> S1011 [label=1]\n",
        "  S0110 -> S1100 [label=0]\n",
        "  S0110 -> S1101 [label=1]\n",
        "  S0111 -> S1110 [label=0]\n",
        "  S0111 -> S1111 [label=1]\n",
        "  {rank=same empty S1111 S1110 S1101 S1100 S1011 S1010 S1001 S1000}\n",
        "  {rank=same S0000 S0001 S0010 S0011 S0100 S0101 S0110 S0111}\n",
        "}\n",
        "'''\n",
        "Source(fourth_to_last_bit_is_zero)"
      ],
      "execution_count": 3,
      "outputs": [
        {
          "output_type": "execute_result",
          "data": {
            "text/plain": [
              "<graphviz.files.Source at 0x7fe2919aca10>"
            ],
            "image/svg+xml": "<?xml version=\"1.0\" encoding=\"UTF-8\" standalone=\"no\"?>\n<!DOCTYPE svg PUBLIC \"-//W3C//DTD SVG 1.1//EN\"\n \"http://www.w3.org/Graphics/SVG/1.1/DTD/svg11.dtd\">\n<!-- Generated by graphviz version 2.40.1 (20161225.0304)\n -->\n<!-- Title: %3 Pages: 1 -->\n<svg width=\"868pt\" height=\"271pt\"\n viewBox=\"0.00 0.00 867.75 271.23\" xmlns=\"http://www.w3.org/2000/svg\" xmlns:xlink=\"http://www.w3.org/1999/xlink\">\n<g id=\"graph0\" class=\"graph\" transform=\"scale(1 1) rotate(0) translate(4 267.2341)\">\n<title>%3</title>\n<polygon fill=\"#ffffff\" stroke=\"transparent\" points=\"-4,4 -4,-267.2341 863.7468,-267.2341 863.7468,4 -4,4\"/>\n<!-- empty -->\n<g id=\"node1\" class=\"node\">\n<title>empty</title>\n</g>\n<!-- S1111 -->\n<g id=\"node2\" class=\"node\">\n<title>S1111</title>\n<ellipse fill=\"none\" stroke=\"#000000\" cx=\"124\" cy=\"-166.2405\" rx=\"34.394\" ry=\"34.394\"/>\n<text text-anchor=\"middle\" x=\"124\" y=\"-162.5405\" font-family=\"Times,serif\" font-size=\"14.00\" fill=\"#000000\">S1111</text>\n</g>\n<!-- empty&#45;&gt;S1111 -->\n<g id=\"edge1\" class=\"edge\">\n<title>empty&#45;&gt;S1111:w</title>\n<path fill=\"none\" stroke=\"#000000\" d=\"M54.0951,-166.2405C62.0039,-166.2405 70.8585,-166.2405 79.5282,-166.2405\"/>\n<polygon fill=\"#000000\" stroke=\"#000000\" points=\"79.5531,-169.7406 89.5531,-166.2405 79.553,-162.7406 79.5531,-169.7406\"/>\n</g>\n<!-- S1111&#45;&gt;S1111 -->\n<g id=\"edge3\" class=\"edge\">\n<title>S1111:nw&#45;&gt;S1111:ne</title>\n<path fill=\"none\" stroke=\"#000000\" d=\"M99,-191.2405C90,-210.6874 90,-230.6874 124,-230.6874 152.4219,-230.6874 157.0848,-216.7116 152.5925,-200.7659\"/>\n<polygon fill=\"#000000\" stroke=\"#000000\" points=\"155.8038,-199.362 149,-191.2405 149.2541,-201.8323 155.8038,-199.362\"/>\n<text text-anchor=\"middle\" x=\"124\" y=\"-234.4874\" font-family=\"Times,serif\" font-size=\"14.00\" fill=\"#000000\">1</text>\n</g>\n<!-- S1110 -->\n<g id=\"node3\" class=\"node\">\n<title>S1110</title>\n<ellipse fill=\"none\" stroke=\"#000000\" cx=\"228\" cy=\"-166.2405\" rx=\"34.394\" ry=\"34.394\"/>\n<text text-anchor=\"middle\" x=\"228\" y=\"-162.5405\" font-family=\"Times,serif\" font-size=\"14.00\" fill=\"#000000\">S1110</text>\n</g>\n<!-- S1111&#45;&gt;S1110 -->\n<g id=\"edge2\" class=\"edge\">\n<title>S1111&#45;&gt;S1110</title>\n<path fill=\"none\" stroke=\"#000000\" d=\"M158.6305,-166.2405C166.5244,-166.2405 175.0217,-166.2405 183.2701,-166.2405\"/>\n<polygon fill=\"#000000\" stroke=\"#000000\" points=\"183.5208,-169.7406 193.5207,-166.2405 183.5207,-162.7406 183.5208,-169.7406\"/>\n<text text-anchor=\"middle\" x=\"176\" y=\"-173.0405\" font-family=\"Times,serif\" font-size=\"14.00\" fill=\"#000000\">0</text>\n</g>\n<!-- S1101 -->\n<g id=\"node4\" class=\"node\">\n<title>S1101</title>\n<ellipse fill=\"none\" stroke=\"#000000\" cx=\"617\" cy=\"-166.2405\" rx=\"35.194\" ry=\"35.194\"/>\n<text text-anchor=\"middle\" x=\"617\" y=\"-162.5405\" font-family=\"Times,serif\" font-size=\"14.00\" fill=\"#000000\">S1101</text>\n</g>\n<!-- S1110&#45;&gt;S1101 -->\n<g id=\"edge5\" class=\"edge\">\n<title>S1110&#45;&gt;S1101</title>\n<path fill=\"none\" stroke=\"#000000\" d=\"M254.8621,-187.8219C273.5835,-201.4233 299.8084,-217.7383 326,-224.9873 379.129,-239.6918 521.9944,-222.9001 573,-201.9873 576.4832,-200.5592 579.9078,-198.7598 583.2136,-196.7319\"/>\n<polygon fill=\"#000000\" stroke=\"#000000\" points=\"585.3921,-199.4814 591.6451,-190.9287 581.4233,-193.7152 585.3921,-199.4814\"/>\n<text text-anchor=\"middle\" x=\"330\" y=\"-223.7873\" font-family=\"Times,serif\" font-size=\"14.00\" fill=\"#000000\">1</text>\n</g>\n<!-- S1100 -->\n<g id=\"node5\" class=\"node\">\n<title>S1100</title>\n<ellipse fill=\"none\" stroke=\"#000000\" cx=\"333\" cy=\"-166.2405\" rx=\"35.194\" ry=\"35.194\"/>\n<text text-anchor=\"middle\" x=\"333\" y=\"-162.5405\" font-family=\"Times,serif\" font-size=\"14.00\" fill=\"#000000\">S1100</text>\n</g>\n<!-- S1110&#45;&gt;S1100 -->\n<g id=\"edge4\" class=\"edge\">\n<title>S1110&#45;&gt;S1100</title>\n<path fill=\"none\" stroke=\"#000000\" d=\"M262.6719,-166.2405C270.6558,-166.2405 279.264,-166.2405 287.6263,-166.2405\"/>\n<polygon fill=\"#000000\" stroke=\"#000000\" points=\"287.6462,-169.7406 297.6462,-166.2405 287.6461,-162.7406 287.6462,-169.7406\"/>\n<text text-anchor=\"middle\" x=\"280.175\" y=\"-173.0405\" font-family=\"Times,serif\" font-size=\"14.00\" fill=\"#000000\">0</text>\n</g>\n<!-- S1011 -->\n<g id=\"node6\" class=\"node\">\n<title>S1011</title>\n<ellipse fill=\"none\" stroke=\"#000000\" cx=\"723\" cy=\"-166.2405\" rx=\"35.194\" ry=\"35.194\"/>\n<text text-anchor=\"middle\" x=\"723\" y=\"-162.5405\" font-family=\"Times,serif\" font-size=\"14.00\" fill=\"#000000\">S1011</text>\n</g>\n<!-- S1101&#45;&gt;S1011 -->\n<g id=\"edge7\" class=\"edge\">\n<title>S1101&#45;&gt;S1011</title>\n<path fill=\"none\" stroke=\"#000000\" d=\"M652.2965,-166.2405C660.4316,-166.2405 669.1955,-166.2405 677.69,-166.2405\"/>\n<polygon fill=\"#000000\" stroke=\"#000000\" points=\"677.8577,-169.7406 687.8577,-166.2405 677.8576,-162.7406 677.8577,-169.7406\"/>\n<text text-anchor=\"middle\" x=\"670\" y=\"-173.0405\" font-family=\"Times,serif\" font-size=\"14.00\" fill=\"#000000\">1</text>\n</g>\n<!-- S1010 -->\n<g id=\"node7\" class=\"node\">\n<title>S1010</title>\n<ellipse fill=\"none\" stroke=\"#000000\" cx=\"812\" cy=\"-166.2405\" rx=\"35.9954\" ry=\"35.9954\"/>\n<text text-anchor=\"middle\" x=\"812\" y=\"-162.5405\" font-family=\"Times,serif\" font-size=\"14.00\" fill=\"#000000\">S1010</text>\n</g>\n<!-- S1101&#45;&gt;S1010 -->\n<g id=\"edge6\" class=\"edge\">\n<title>S1101&#45;&gt;S1010</title>\n<path fill=\"none\" stroke=\"#000000\" d=\"M643.8797,-189.0038C661.4528,-202.3459 685.6016,-217.9266 710,-224.9873 735.5343,-232.3767 761.4545,-217.0893 780.7758,-200.2622\"/>\n<polygon fill=\"#000000\" stroke=\"#000000\" points=\"783.3802,-202.622 788.3679,-193.2746 778.6397,-197.4714 783.3802,-202.622\"/>\n<text text-anchor=\"middle\" x=\"714\" y=\"-223.7873\" font-family=\"Times,serif\" font-size=\"14.00\" fill=\"#000000\">0</text>\n</g>\n<!-- S1001 -->\n<g id=\"node8\" class=\"node\">\n<title>S1001</title>\n<ellipse fill=\"none\" stroke=\"#000000\" cx=\"528\" cy=\"-166.2405\" rx=\"35.9954\" ry=\"35.9954\"/>\n<text text-anchor=\"middle\" x=\"528\" y=\"-162.5405\" font-family=\"Times,serif\" font-size=\"14.00\" fill=\"#000000\">S1001</text>\n</g>\n<!-- S1100&#45;&gt;S1001 -->\n<g id=\"edge9\" class=\"edge\">\n<title>S1100&#45;&gt;S1001</title>\n<path fill=\"none\" stroke=\"#000000\" d=\"M359.8797,-189.0038C377.4528,-202.3459 401.6016,-217.9266 426,-224.9873 451.5343,-232.3767 477.4545,-217.0893 496.7758,-200.2622\"/>\n<polygon fill=\"#000000\" stroke=\"#000000\" points=\"499.3802,-202.622 504.3679,-193.2746 494.6397,-197.4714 499.3802,-202.622\"/>\n<text text-anchor=\"middle\" x=\"430\" y=\"-223.7873\" font-family=\"Times,serif\" font-size=\"14.00\" fill=\"#000000\">1</text>\n</g>\n<!-- S1000 -->\n<g id=\"node9\" class=\"node\">\n<title>S1000</title>\n<ellipse fill=\"none\" stroke=\"#000000\" cx=\"439\" cy=\"-166.2405\" rx=\"35.9954\" ry=\"35.9954\"/>\n<text text-anchor=\"middle\" x=\"439\" y=\"-162.5405\" font-family=\"Times,serif\" font-size=\"14.00\" fill=\"#000000\">S1000</text>\n</g>\n<!-- S1100&#45;&gt;S1000 -->\n<g id=\"edge8\" class=\"edge\">\n<title>S1100&#45;&gt;S1000</title>\n<path fill=\"none\" stroke=\"#000000\" d=\"M368.2965,-166.2405C376.1728,-166.2405 384.6385,-166.2405 392.8786,-166.2405\"/>\n<polygon fill=\"#000000\" stroke=\"#000000\" points=\"393.1341,-169.7406 403.134,-166.2405 393.134,-162.7406 393.1341,-169.7406\"/>\n<text text-anchor=\"middle\" x=\"385.675\" y=\"-173.0405\" font-family=\"Times,serif\" font-size=\"14.00\" fill=\"#000000\">0</text>\n</g>\n<!-- S0111 -->\n<g id=\"node11\" class=\"node\">\n<title>S0111</title>\n<ellipse fill=\"none\" stroke=\"#000000\" cx=\"433\" cy=\"-39.7468\" rx=\"34.3995\" ry=\"34.3995\"/>\n<ellipse fill=\"none\" stroke=\"#000000\" cx=\"433\" cy=\"-39.7468\" rx=\"38.394\" ry=\"38.394\"/>\n<text text-anchor=\"middle\" x=\"433\" y=\"-36.0468\" font-family=\"Times,serif\" font-size=\"14.00\" fill=\"#000000\">S0111</text>\n</g>\n<!-- S1011&#45;&gt;S0111 -->\n<g id=\"edge11\" class=\"edge\">\n<title>S1011&#45;&gt;S0111</title>\n<path fill=\"none\" stroke=\"#000000\" d=\"M698.7553,-140.2919C682.9835,-125.1499 661.1067,-107.1747 638,-97.4937 572.8137,-70.1823 544.8833,-107.5172 480,-79.4937 476.082,-77.8014 472.2425,-75.6698 468.5525,-73.2772\"/>\n<polygon fill=\"#000000\" stroke=\"#000000\" points=\"470.4091,-70.3013 460.247,-67.3043 466.3222,-75.9844 470.4091,-70.3013\"/>\n<text text-anchor=\"middle\" x=\"668\" y=\"-101.2937\" font-family=\"Times,serif\" font-size=\"14.00\" fill=\"#000000\">1</text>\n</g>\n<!-- S0110 -->\n<g id=\"node15\" class=\"node\">\n<title>S0110</title>\n<ellipse fill=\"none\" stroke=\"#000000\" cx=\"626\" cy=\"-39.7468\" rx=\"35.1841\" ry=\"35.1841\"/>\n<ellipse fill=\"none\" stroke=\"#000000\" cx=\"626\" cy=\"-39.7468\" rx=\"39.194\" ry=\"39.194\"/>\n<text text-anchor=\"middle\" x=\"626\" y=\"-36.0468\" font-family=\"Times,serif\" font-size=\"14.00\" fill=\"#000000\">S0110</text>\n</g>\n<!-- S1011&#45;&gt;S0110 -->\n<g id=\"edge10\" class=\"edge\">\n<title>S1011&#45;&gt;S0110</title>\n<path fill=\"none\" stroke=\"#000000\" d=\"M716.7555,-131.5609C713.4538,-119.9232 708.471,-107.398 701,-97.4937 692.3149,-85.9798 685.5696,-88.1043 674,-79.4937 670.6313,-76.9865 667.1807,-74.3259 663.7505,-71.6161\"/>\n<polygon fill=\"#000000\" stroke=\"#000000\" points=\"665.8194,-68.7886 655.8319,-65.2529 661.4346,-74.2451 665.8194,-68.7886\"/>\n<text text-anchor=\"middle\" x=\"713\" y=\"-101.2937\" font-family=\"Times,serif\" font-size=\"14.00\" fill=\"#000000\">0</text>\n</g>\n<!-- S0100 -->\n<g id=\"node10\" class=\"node\">\n<title>S0100</title>\n<ellipse fill=\"none\" stroke=\"#000000\" cx=\"723\" cy=\"-39.7468\" rx=\"35.9702\" ry=\"35.9702\"/>\n<ellipse fill=\"none\" stroke=\"#000000\" cx=\"723\" cy=\"-39.7468\" rx=\"39.9952\" ry=\"39.9952\"/>\n<text text-anchor=\"middle\" x=\"723\" y=\"-36.0468\" font-family=\"Times,serif\" font-size=\"14.00\" fill=\"#000000\">S0100</text>\n</g>\n<!-- S1010&#45;&gt;S0100 -->\n<g id=\"edge12\" class=\"edge\">\n<title>S1010&#45;&gt;S0100</title>\n<path fill=\"none\" stroke=\"#000000\" d=\"M791.3579,-136.9024C779.6018,-120.1937 764.6918,-99.0024 751.7988,-80.6778\"/>\n<polygon fill=\"#000000\" stroke=\"#000000\" points=\"754.6523,-78.6511 746.0355,-72.4866 748.9273,-82.6791 754.6523,-78.6511\"/>\n<text text-anchor=\"middle\" x=\"776\" y=\"-101.2937\" font-family=\"Times,serif\" font-size=\"14.00\" fill=\"#000000\">0</text>\n</g>\n<!-- S0101 -->\n<g id=\"node13\" class=\"node\">\n<title>S0101</title>\n<ellipse fill=\"none\" stroke=\"#000000\" cx=\"820\" cy=\"-39.7468\" rx=\"35.9702\" ry=\"35.9702\"/>\n<ellipse fill=\"none\" stroke=\"#000000\" cx=\"820\" cy=\"-39.7468\" rx=\"39.9952\" ry=\"39.9952\"/>\n<text text-anchor=\"middle\" x=\"820\" y=\"-36.0468\" font-family=\"Times,serif\" font-size=\"14.00\" fill=\"#000000\">S0101</text>\n</g>\n<!-- S1010&#45;&gt;S0101 -->\n<g id=\"edge13\" class=\"edge\">\n<title>S1010&#45;&gt;S0101</title>\n<path fill=\"none\" stroke=\"#000000\" d=\"M821.6138,-131.7658C823.0225,-125.405 824.2499,-118.7852 825,-112.4937 825.8857,-105.0643 826.096,-97.188 825.8954,-89.4671\"/>\n<polygon fill=\"#000000\" stroke=\"#000000\" points=\"829.3905,-89.279 825.4175,-79.4573 822.3985,-89.6129 829.3905,-89.279\"/>\n<text text-anchor=\"middle\" x=\"829\" y=\"-101.2937\" font-family=\"Times,serif\" font-size=\"14.00\" fill=\"#000000\">1</text>\n</g>\n<!-- S0010 -->\n<g id=\"node16\" class=\"node\">\n<title>S0010</title>\n<ellipse fill=\"none\" stroke=\"#000000\" cx=\"529\" cy=\"-39.7468\" rx=\"35.9702\" ry=\"35.9702\"/>\n<ellipse fill=\"none\" stroke=\"#000000\" cx=\"529\" cy=\"-39.7468\" rx=\"39.9952\" ry=\"39.9952\"/>\n<text text-anchor=\"middle\" x=\"529\" y=\"-36.0468\" font-family=\"Times,serif\" font-size=\"14.00\" fill=\"#000000\">S0010</text>\n</g>\n<!-- S1001&#45;&gt;S0010 -->\n<g id=\"edge14\" class=\"edge\">\n<title>S1001&#45;&gt;S0010</title>\n<path fill=\"none\" stroke=\"#000000\" d=\"M528.2839,-130.3308C528.3833,-117.7586 528.4968,-103.4019 528.6037,-89.8813\"/>\n<polygon fill=\"#000000\" stroke=\"#000000\" points=\"532.1045,-89.7759 528.6838,-79.7485 525.1047,-89.7205 532.1045,-89.7759\"/>\n<text text-anchor=\"middle\" x=\"532\" y=\"-101.2937\" font-family=\"Times,serif\" font-size=\"14.00\" fill=\"#000000\">0</text>\n</g>\n<!-- S0011 -->\n<g id=\"node17\" class=\"node\">\n<title>S0011</title>\n<ellipse fill=\"none\" stroke=\"#000000\" cx=\"320\" cy=\"-39.7468\" rx=\"35.1841\" ry=\"35.1841\"/>\n<ellipse fill=\"none\" stroke=\"#000000\" cx=\"320\" cy=\"-39.7468\" rx=\"39.194\" ry=\"39.194\"/>\n<text text-anchor=\"middle\" x=\"320\" y=\"-36.0468\" font-family=\"Times,serif\" font-size=\"14.00\" fill=\"#000000\">S0011</text>\n</g>\n<!-- S1001&#45;&gt;S0011 -->\n<g id=\"edge15\" class=\"edge\">\n<title>S1001&#45;&gt;S0011</title>\n<path fill=\"none\" stroke=\"#000000\" d=\"M500.5755,-142.8715C495.1942,-138.6 489.5079,-134.2956 484,-130.4937 470.8884,-121.443 466.6458,-120.7167 453,-112.4937 442.2263,-106.0014 440.1716,-103.2745 429,-97.4937 410.5996,-87.9721 404.4785,-88.8626 386,-79.4937 378.0256,-75.4505 369.7158,-70.8089 361.7895,-66.157\"/>\n<polygon fill=\"#000000\" stroke=\"#000000\" points=\"363.4216,-63.0551 353.0417,-60.9319 359.832,-69.0647 363.4216,-63.0551\"/>\n<text text-anchor=\"middle\" x=\"457\" y=\"-101.2937\" font-family=\"Times,serif\" font-size=\"14.00\" fill=\"#000000\">1</text>\n</g>\n<!-- S0001 -->\n<g id=\"node12\" class=\"node\">\n<title>S0001</title>\n<ellipse fill=\"none\" stroke=\"#000000\" cx=\"206\" cy=\"-39.7468\" rx=\"35.9702\" ry=\"35.9702\"/>\n<ellipse fill=\"none\" stroke=\"#000000\" cx=\"206\" cy=\"-39.7468\" rx=\"39.9952\" ry=\"39.9952\"/>\n<text text-anchor=\"middle\" x=\"206\" y=\"-36.0468\" font-family=\"Times,serif\" font-size=\"14.00\" fill=\"#000000\">S0001</text>\n</g>\n<!-- S1000&#45;&gt;S0001 -->\n<g id=\"edge17\" class=\"edge\">\n<title>S1000&#45;&gt;S0001</title>\n<path fill=\"none\" stroke=\"#000000\" d=\"M412.3223,-142.3946C392.378,-125.0124 366.4872,-103.4961 354,-97.4937 320.3713,-81.3287 306.6634,-93.3012 272,-79.4937 263.7842,-76.221 255.4097,-71.9876 247.5066,-67.5079\"/>\n<polygon fill=\"#000000\" stroke=\"#000000\" points=\"249.2092,-64.4487 238.8176,-62.3837 245.6533,-70.4783 249.2092,-64.4487\"/>\n<text text-anchor=\"middle\" x=\"379\" y=\"-101.2937\" font-family=\"Times,serif\" font-size=\"14.00\" fill=\"#000000\">1</text>\n</g>\n<!-- S0000 -->\n<g id=\"node14\" class=\"node\">\n<title>S0000</title>\n<ellipse fill=\"none\" stroke=\"#000000\" cx=\"91\" cy=\"-39.7468\" rx=\"35.9702\" ry=\"35.9702\"/>\n<ellipse fill=\"none\" stroke=\"#000000\" cx=\"91\" cy=\"-39.7468\" rx=\"39.9952\" ry=\"39.9952\"/>\n<text text-anchor=\"middle\" x=\"91\" y=\"-36.0468\" font-family=\"Times,serif\" font-size=\"14.00\" fill=\"#000000\">S0000</text>\n</g>\n<!-- S1000&#45;&gt;S0000 -->\n<g id=\"edge16\" class=\"edge\">\n<title>S1000&#45;&gt;S0000</title>\n<path fill=\"none\" stroke=\"#000000\" d=\"M407.7766,-148.3092C389.9046,-137.9683 367.1054,-124.6458 347,-112.4937 336.2349,-105.9871 334.8864,-101.609 323,-97.4937 252.8738,-73.2144 227.3246,-103.1919 157,-79.4937 148.6194,-76.6695 140.1653,-72.6529 132.2346,-68.2482\"/>\n<polygon fill=\"#000000\" stroke=\"#000000\" points=\"133.9328,-65.1867 123.5349,-63.153 130.3951,-71.227 133.9328,-65.1867\"/>\n<text text-anchor=\"middle\" x=\"351\" y=\"-101.2937\" font-family=\"Times,serif\" font-size=\"14.00\" fill=\"#000000\">0</text>\n</g>\n<!-- S0100&#45;&gt;S1001 -->\n<g id=\"edge27\" class=\"edge\">\n<title>S0100&#45;&gt;S1001</title>\n<path fill=\"none\" stroke=\"#000000\" d=\"M693.3842,-66.599C687.2557,-71.3231 680.6368,-75.8774 674,-79.4937 651.4148,-91.7997 641.9396,-85.8615 619,-97.4937 596.559,-108.873 593.079,-115.3306 573,-130.4937 570.0391,-132.7297 566.9888,-135.0704 563.9376,-137.4382\"/>\n<polygon fill=\"#000000\" stroke=\"#000000\" points=\"561.6357,-134.7952 555.9196,-143.7158 565.9511,-140.3069 561.6357,-134.7952\"/>\n<text text-anchor=\"middle\" x=\"623\" y=\"-101.2937\" font-family=\"Times,serif\" font-size=\"14.00\" fill=\"#000000\">1</text>\n</g>\n<!-- S0100&#45;&gt;S1000 -->\n<g id=\"edge26\" class=\"edge\">\n<title>S0100&#45;&gt;S1000</title>\n<path fill=\"none\" stroke=\"#000000\" d=\"M694.5558,-67.5586C688.2298,-72.3228 681.2377,-76.6475 674,-79.4937 646.535,-90.294 429.1488,-75.9298 409,-97.4937 400.215,-106.8956 402.6814,-119.2818 409.0222,-130.9477\"/>\n<polygon fill=\"#000000\" stroke=\"#000000\" points=\"406.2184,-133.064 414.504,-139.6669 412.1445,-129.3382 406.2184,-133.064\"/>\n<text text-anchor=\"middle\" x=\"413\" y=\"-101.2937\" font-family=\"Times,serif\" font-size=\"14.00\" fill=\"#000000\">0</text>\n</g>\n<!-- S0111&#45;&gt;S1111 -->\n<g id=\"edge33\" class=\"edge\">\n<title>S0111&#45;&gt;S1111</title>\n<path fill=\"none\" stroke=\"#000000\" d=\"M401.5389,-62.3904C391.2753,-68.8267 379.5412,-75.2363 368,-79.4937 320.2873,-97.0939 303.5953,-82.5014 255,-97.4937 222.1336,-107.6333 215.4235,-114.4493 185,-130.4937 177.6712,-134.3586 169.9664,-138.6706 162.5932,-142.9252\"/>\n<polygon fill=\"#000000\" stroke=\"#000000\" points=\"160.3541,-140.1797 153.4846,-148.2458 163.8848,-146.2241 160.3541,-140.1797\"/>\n<text text-anchor=\"middle\" x=\"259\" y=\"-101.2937\" font-family=\"Times,serif\" font-size=\"14.00\" fill=\"#000000\">1</text>\n</g>\n<!-- S0111&#45;&gt;S1110 -->\n<g id=\"edge32\" class=\"edge\">\n<title>S0111&#45;&gt;S1110</title>\n<path fill=\"none\" stroke=\"#000000\" d=\"M401.3965,-62.0194C391.1261,-68.4382 379.4241,-74.9313 368,-79.4937 332.5422,-93.6543 316.5669,-77.5644 284,-97.4937 271.4266,-105.1879 260.4242,-116.7449 251.5766,-128.1982\"/>\n<polygon fill=\"#000000\" stroke=\"#000000\" points=\"248.6086,-126.3273 245.5235,-136.463 254.2559,-130.4635 248.6086,-126.3273\"/>\n<text text-anchor=\"middle\" x=\"288\" y=\"-101.2937\" font-family=\"Times,serif\" font-size=\"14.00\" fill=\"#000000\">0</text>\n</g>\n<!-- S0001&#45;&gt;S0010 -->\n<g id=\"edge20\" class=\"edge\">\n<title>S0001&#45;&gt;S0010</title>\n<path fill=\"none\" stroke=\"#000000\" d=\"M238.5623,-63.0725C248.8199,-69.3775 260.4874,-75.5421 272,-79.4937 353.2883,-107.3949 378.2092,-97.3735 464,-102.4937 467.5492,-102.7055 468.7487,-103.9327 472,-102.4937 482.8253,-97.7025 492.4752,-89.7273 500.6197,-81.0421\"/>\n<polygon fill=\"#000000\" stroke=\"#000000\" points=\"503.4462,-83.1261 507.3811,-73.289 498.1706,-78.5252 503.4462,-83.1261\"/>\n<text text-anchor=\"middle\" x=\"468\" y=\"-101.2937\" font-family=\"Times,serif\" font-size=\"14.00\" fill=\"#000000\">0</text>\n</g>\n<!-- S0001&#45;&gt;S0011 -->\n<g id=\"edge21\" class=\"edge\">\n<title>S0001&#45;&gt;S0011</title>\n<path fill=\"none\" stroke=\"#000000\" d=\"M245.8717,-39.7468C253.8174,-39.7468 262.2526,-39.7468 270.4765,-39.7468\"/>\n<polygon fill=\"#000000\" stroke=\"#000000\" points=\"270.7278,-43.2469 280.7278,-39.7468 270.7277,-36.2469 270.7278,-43.2469\"/>\n<text text-anchor=\"middle\" x=\"263.325\" y=\"-46.5468\" font-family=\"Times,serif\" font-size=\"14.00\" fill=\"#000000\">1</text>\n</g>\n<!-- S0101&#45;&gt;S1011 -->\n<g id=\"edge29\" class=\"edge\">\n<title>S0101&#45;&gt;S1011</title>\n<path fill=\"none\" stroke=\"#000000\" d=\"M789.2125,-65.5337C775.537,-77.3834 761.3329,-90.3627 756,-97.4937 749.9344,-105.6043 744.5471,-115.0065 739.9744,-124.2042\"/>\n<polygon fill=\"#000000\" stroke=\"#000000\" points=\"736.7941,-122.7423 735.6782,-133.2782 743.1208,-125.7378 736.7941,-122.7423\"/>\n<text text-anchor=\"middle\" x=\"760\" y=\"-101.2937\" font-family=\"Times,serif\" font-size=\"14.00\" fill=\"#000000\">1</text>\n</g>\n<!-- S0101&#45;&gt;S1010 -->\n<g id=\"edge28\" class=\"edge\">\n<title>S0101&#45;&gt;S1010</title>\n<path fill=\"none\" stroke=\"#000000\" d=\"M817.4701,-79.7485C816.6608,-92.5458 815.7581,-106.8179 814.9231,-120.0205\"/>\n<polygon fill=\"#000000\" stroke=\"#000000\" points=\"811.4093,-120.1298 814.2711,-130.3308 818.3954,-120.5717 811.4093,-120.1298\"/>\n<text text-anchor=\"middle\" x=\"820\" y=\"-101.2937\" font-family=\"Times,serif\" font-size=\"14.00\" fill=\"#000000\">0</text>\n</g>\n<!-- S0000&#45;&gt;S0001 -->\n<g id=\"edge19\" class=\"edge\">\n<title>S0000&#45;&gt;S0001</title>\n<path fill=\"none\" stroke=\"#000000\" d=\"M130.8987,-39.7468C139.0159,-39.7468 147.6509,-39.7468 156.066,-39.7468\"/>\n<polygon fill=\"#000000\" stroke=\"#000000\" points=\"156.1719,-43.2469 166.1719,-39.7468 156.1718,-36.2469 156.1719,-43.2469\"/>\n<text text-anchor=\"middle\" x=\"148.5\" y=\"-46.5468\" font-family=\"Times,serif\" font-size=\"14.00\" fill=\"#000000\">1</text>\n</g>\n<!-- S0000&#45;&gt;S0000 -->\n<g id=\"edge18\" class=\"edge\">\n<title>S0000:w&#45;&gt;S0000</title>\n<path fill=\"none\" stroke=\"#000000\" d=\"M51,-39.7468C45.2532,-55.7468 33.2532,-55.7468 33.2532,-39.7468 33.2532,-34.6658 37.1356,-31.1983 43.0511,-29.3444\"/>\n<polygon fill=\"#000000\" stroke=\"#000000\" points=\"43.6243,-32.7973 52.9572,-27.7827 42.5342,-25.8827 43.6243,-32.7973\"/>\n<text text-anchor=\"middle\" x=\"29.2532\" y=\"-36.0468\" font-family=\"Times,serif\" font-size=\"14.00\" fill=\"#000000\">0</text>\n</g>\n<!-- S0110&#45;&gt;S1101 -->\n<g id=\"edge31\" class=\"edge\">\n<title>S0110&#45;&gt;S1101</title>\n<path fill=\"none\" stroke=\"#000000\" d=\"M627.1906,-79.0606C627.1953,-89.9081 626.9,-101.6695 626,-112.4937 625.7494,-115.5078 625.421,-118.6073 625.0382,-121.7238\"/>\n<polygon fill=\"#000000\" stroke=\"#000000\" points=\"621.5683,-121.2656 623.6588,-131.6521 628.5017,-122.229 621.5683,-121.2656\"/>\n<text text-anchor=\"middle\" x=\"630\" y=\"-101.2937\" font-family=\"Times,serif\" font-size=\"14.00\" fill=\"#000000\">1</text>\n</g>\n<!-- S0110&#45;&gt;S1100 -->\n<g id=\"edge30\" class=\"edge\">\n<title>S0110&#45;&gt;S1100</title>\n<path fill=\"none\" stroke=\"#000000\" d=\"M598.2045,-67.5523C592.0023,-72.3171 585.1335,-76.6436 578,-79.4937 550.903,-90.3199 335.9135,-76.1651 316,-97.4937 308.6125,-105.4061 308.3175,-116.008 311.1102,-126.5132\"/>\n<polygon fill=\"#000000\" stroke=\"#000000\" points=\"307.8376,-127.7584 314.4282,-136.0539 314.4492,-125.4591 307.8376,-127.7584\"/>\n<text text-anchor=\"middle\" x=\"320\" y=\"-101.2937\" font-family=\"Times,serif\" font-size=\"14.00\" fill=\"#000000\">0</text>\n</g>\n<!-- S0010&#45;&gt;S0100 -->\n<g id=\"edge22\" class=\"edge\">\n<title>S0010&#45;&gt;S0100</title>\n<path fill=\"none\" stroke=\"#000000\" d=\"M550.6189,-73.289C559.9721,-84.7818 572.0037,-96.299 586,-102.4937 620.2926,-117.6713 659.1373,-96.1767 686.6834,-74.3207\"/>\n<polygon fill=\"#000000\" stroke=\"#000000\" points=\"689.0111,-76.9377 694.4953,-67.8727 684.5551,-71.5391 689.0111,-76.9377\"/>\n<text text-anchor=\"middle\" x=\"590\" y=\"-101.2937\" font-family=\"Times,serif\" font-size=\"14.00\" fill=\"#000000\">0</text>\n</g>\n<!-- S0010&#45;&gt;S0101 -->\n<g id=\"edge23\" class=\"edge\">\n<title>S0010&#45;&gt;S0101</title>\n<path fill=\"none\" stroke=\"#000000\" d=\"M558.0277,-67.028C564.257,-71.7731 571.0637,-76.2257 578,-79.4937 627.9149,-103.0106 645.4807,-110.9901 700,-102.4937 733.1924,-97.3209 742.5259,-95.6111 772,-79.4937 775.5302,-77.5632 779.0476,-75.355 782.4815,-72.9903\"/>\n<polygon fill=\"#000000\" stroke=\"#000000\" points=\"784.8292,-75.608 790.8049,-66.8592 780.6776,-69.972 784.8292,-75.608\"/>\n<text text-anchor=\"middle\" x=\"696\" y=\"-101.2937\" font-family=\"Times,serif\" font-size=\"14.00\" fill=\"#000000\">1</text>\n</g>\n<!-- S0011&#45;&gt;S0111 -->\n<g id=\"edge25\" class=\"edge\">\n<title>S0011&#45;&gt;S0111</title>\n<path fill=\"none\" stroke=\"#000000\" d=\"M359.2048,-39.7468C367.2714,-39.7468 375.8586,-39.7468 384.2162,-39.7468\"/>\n<polygon fill=\"#000000\" stroke=\"#000000\" points=\"384.2465,-43.2469 394.2464,-39.7468 384.2464,-36.2469 384.2465,-43.2469\"/>\n<text text-anchor=\"middle\" x=\"376.825\" y=\"-46.5468\" font-family=\"Times,serif\" font-size=\"14.00\" fill=\"#000000\">1</text>\n</g>\n<!-- S0011&#45;&gt;S0110 -->\n<g id=\"edge24\" class=\"edge\">\n<title>S0011&#45;&gt;S0110</title>\n<path fill=\"none\" stroke=\"#000000\" d=\"M350.2195,-65.0302C369.0072,-79.0599 394.3945,-95.1255 420,-102.4937 488.1951,-122.1172 513.2597,-108.5512 578,-79.4937 582.0517,-77.6751 586.0381,-75.4179 589.876,-72.9095\"/>\n<polygon fill=\"#000000\" stroke=\"#000000\" points=\"591.9132,-75.7555 598.0083,-67.0895 587.8393,-70.0631 591.9132,-75.7555\"/>\n<text text-anchor=\"middle\" x=\"424\" y=\"-101.2937\" font-family=\"Times,serif\" font-size=\"14.00\" fill=\"#000000\">0</text>\n</g>\n</g>\n</svg>\n"
          },
          "metadata": {
            "tags": []
          },
          "execution_count": 3
        }
      ]
    },
    {
      "cell_type": "markdown",
      "metadata": {
        "id": "WZwc5yVYUNXV"
      },
      "source": [
        "## TODO Task 3"
      ]
    },
    {
      "cell_type": "markdown",
      "metadata": {
        "id": "-5ReuZLTUNXW"
      },
      "source": [
        "Construct a DFA to recognize the language\n",
        "\n",
        "$L_4 = \\{x0z\\ |\\ x \\in \\Sigma^*, z \\in \\Sigma^4\\}$."
      ]
    }
  ]
}