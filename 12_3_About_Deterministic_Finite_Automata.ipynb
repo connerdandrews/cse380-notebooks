{
  "nbformat": 4,
  "nbformat_minor": 0,
  "metadata": {
    "colab": {
      "name": "12_3_About_Deterministic_Finite_Automata.ipynb",
      "provenance": [],
      "include_colab_link": true
    },
    "kernelspec": {
      "name": "python3",
      "display_name": "Python 3"
    },
    "language_info": {
      "name": "python"
    }
  },
  "cells": [
    {
      "cell_type": "markdown",
      "metadata": {
        "id": "view-in-github",
        "colab_type": "text"
      },
      "source": [
        "<a href=\"https://colab.research.google.com/github/connerdandrews/cse380-notebooks/blob/master/12_3_About_Deterministic_Finite_Automata.ipynb\" target=\"_parent\"><img src=\"https://colab.research.google.com/assets/colab-badge.svg\" alt=\"Open In Colab\"/></a>"
      ]
    },
    {
      "cell_type": "markdown",
      "metadata": {
        "id": "PnYHHyA0U0-j"
      },
      "source": [
        "# About Deterministic Finite Automata\n",
        "## Class Directed Learning\n",
        "### Due: Tuesday, 23 March 2021, 11:59 pm"
      ]
    },
    {
      "cell_type": "markdown",
      "metadata": {
        "id": "sx-YEn-1VQOZ"
      },
      "source": [
        "Any study of Deterministic Finite Automata (DFA) would be incomplete without looking into \"Language Recognition\" --- an area of discrete math that leads us into territory abounding in rich structures and powerful ideas.\n",
        "\n",
        "The notion of a finite-state machine **with** output generalizes to the notion of a finite-state machine (aka a finite automaton) with **no** output, but with important computational abilities.\n",
        "\n",
        "For now, we focus on **deterministic** computations.\n"
      ]
    },
    {
      "cell_type": "markdown",
      "metadata": {
        "id": "FbCbHGhPTXqH"
      },
      "source": [
        "For all of the following examples and tasks, the alphabet is $\\Sigma = \\{0, 1\\}$, and the idea is to construct a DFA serving as a language recognizer for the given languages."
      ]
    },
    {
      "cell_type": "markdown",
      "metadata": {
        "id": "rtfhC5ZoSTEY"
      },
      "source": [
        "## Example 1"
      ]
    },
    {
      "cell_type": "markdown",
      "metadata": {
        "id": "79IaPmRiSeml"
      },
      "source": [
        "The language\n",
        "\n",
        "$L_0 = \\{x0\\ |\\ x \\in \\Sigma^*\\}$\n",
        "\n",
        "needs two states in order to:\n",
        "\n",
        "1. Accept strings that end in 0.\n",
        "2. Reject strings that end in 1."
      ]
    },
    {
      "cell_type": "code",
      "metadata": {
        "id": "1cwtCgaZQ6Nd"
      },
      "source": [
        "from graphviz import Source"
      ],
      "execution_count": null,
      "outputs": []
    },
    {
      "cell_type": "code",
      "metadata": {
        "id": "Qxbvv1GTRIWd"
      },
      "source": [
        "last_bit_is_zero = '''\n",
        "digraph {\n",
        "  node [shape=circle]\n",
        "  empty [shape=none label=\"\"]\n",
        "  S0 [shape=doublecircle]\n",
        "  S1\n",
        "  empty -> S1 [label=\"\" headport=w]\n",
        "  S1 -> S1 [label=1 headport=ne tailport=nw]\n",
        "  S1 -> S0 [label=0]\n",
        "  S0 -> S0 [label=0 headport=ne tailport=nw]\n",
        "  S0 -> S1 [label=1]\n",
        "  {rank=same empty S1 S0}\n",
        "}\n",
        "'''\n",
        "Source(last_bit_is_zero)"
      ],
      "execution_count": null,
      "outputs": []
    },
    {
      "cell_type": "markdown",
      "metadata": {
        "id": "5bkHg2N6T7JF"
      },
      "source": [
        "## Example 2"
      ]
    },
    {
      "cell_type": "markdown",
      "metadata": {
        "id": "vPqj2RfNTJiq"
      },
      "source": [
        "The language\n",
        "\n",
        "$L_1 = \\{x0z\\ |\\ x \\in \\Sigma^*, z \\in \\Sigma\\}$\n",
        "\n",
        "needs four states in order to:\n",
        "\n",
        "1. Accept strings that end in 00 or 01.\n",
        "2. Reject strings that end in 10 or 11."
      ]
    },
    {
      "cell_type": "code",
      "metadata": {
        "id": "W6dIJ5vnOewN"
      },
      "source": [
        "second_to_last_bit_is_zero = '''\n",
        "digraph {\n",
        "  node [shape=circle]\n",
        "  empty [shape=none label=\"\"]\n",
        "  S11\n",
        "  S10\n",
        "  S00 [shape=doublecircle]\n",
        "  S01 [shape=doublecircle]\n",
        "\n",
        "  empty -> S11 [label=\"\" headport=w]\n",
        "  S11 -> S10 [label=0]\n",
        "  S11 -> S11 [label=1 headport=ne tailport=nw]\n",
        "  S10 -> S00 [label=0]\n",
        "  S10 -> S01 [label=1]\n",
        "  S00 -> S00 [label=0 tailport=w]\n",
        "  S00 -> S01 [label=1]\n",
        "  S01 -> S10 [label=0]\n",
        "  S01 -> S11 [label=1]\n",
        "  {rank=same empty S11 S10}\n",
        "  {rank=same S01 S00}\n",
        "}\n",
        "'''\n",
        "Source(second_to_last_bit_is_zero)"
      ],
      "execution_count": null,
      "outputs": []
    },
    {
      "cell_type": "markdown",
      "metadata": {
        "id": "JyK0H9HbT9l2"
      },
      "source": [
        "## TODO Task 1"
      ]
    },
    {
      "cell_type": "markdown",
      "metadata": {
        "id": "fVssCSj9UAkw"
      },
      "source": [
        "Construct a DFA to recognize the language\n",
        "\n",
        "$L_2 = \\{x0z\\ |\\ x \\in \\Sigma^*, z \\in \\Sigma^2\\}$."
      ]
    },
    {
      "cell_type": "code",
      "metadata": {
        "id": "xdJdJiBA_4IC",
        "colab": {
          "base_uri": "https://localhost:8080/",
          "height": 348
        },
        "outputId": "5ea183a4-9280-4033-e4e3-e13df3b0ed47"
      },
      "source": [
        "third_to_last_bit_is_zero = '''\n",
        "digraph {\n",
        "  node [shape=circle]\n",
        "  empty [shape=none label=\"\"]\n",
        "  S111\n",
        "  S110\n",
        "  S101\n",
        "  S100\n",
        "  S011 [shape=doublecircle]\n",
        "  S001 [shape=doublecircle]\n",
        "  S000 [shape=doublecircle]\n",
        "  S010 [shape=doublecircle]\n",
        "\n",
        "  empty -> S111 [label=\"\" headport=w]\n",
        "  S111 -> S110 [label=0]\n",
        "  S111 -> S111 [label=1 headport=ne tailport=nw]\n",
        "  S110 -> S100 [label=0]\n",
        "  S110 -> S101 [label=1]\n",
        "  S101 -> S010 [label=0]\n",
        "  S101 -> S011 [label=1]\n",
        "  S100 -> S000 [label=0]\n",
        "  S100 -> S001 [label=1]\n",
        "  S000 -> S000 [label=0 tailport=w]\n",
        "  S000 -> S001 [label=1]\n",
        "  S001 -> S010 [label=0]\n",
        "  S001 -> S011 [label=1]\n",
        "  S010 -> S100 [label=0]\n",
        "  S010 -> S101 [label=1]\n",
        "  S011 -> S110 [label=0]\n",
        "  S011 -> S111 [label=1]\n",
        "  {rank=same empty S111 S110 S101 S100}\n",
        "  {rank=same S001 S000 S011 S010}\n",
        "}\n",
        "'''\n",
        "Source(third_to_last_bit_is_zero)"
      ],
      "execution_count": null,
      "outputs": [
        {
          "output_type": "execute_result",
          "data": {
            "text/plain": [
              "<graphviz.files.Source at 0x7faec486ca90>"
            ],
            "image/svg+xml": "<?xml version=\"1.0\" encoding=\"UTF-8\" standalone=\"no\"?>\n<!DOCTYPE svg PUBLIC \"-//W3C//DTD SVG 1.1//EN\"\n \"http://www.w3.org/Graphics/SVG/1.1/DTD/svg11.dtd\">\n<!-- Generated by graphviz version 2.40.1 (20161225.0304)\n -->\n<!-- Title: %3 Pages: 1 -->\n<svg width=\"456pt\" height=\"245pt\"\n viewBox=\"0.00 0.00 455.55 245.24\" xmlns=\"http://www.w3.org/2000/svg\" xmlns:xlink=\"http://www.w3.org/1999/xlink\">\n<g id=\"graph0\" class=\"graph\" transform=\"scale(1 1) rotate(0) translate(4 241.2364)\">\n<title>%3</title>\n<polygon fill=\"#ffffff\" stroke=\"transparent\" points=\"-4,4 -4,-241.2364 451.5473,-241.2364 451.5473,4 -4,4\"/>\n<!-- empty -->\n<g id=\"node1\" class=\"node\">\n<title>empty</title>\n</g>\n<!-- S111 -->\n<g id=\"node2\" class=\"node\">\n<title>S111</title>\n<ellipse fill=\"none\" stroke=\"#000000\" cx=\"119\" cy=\"-150.6419\" rx=\"29.795\" ry=\"29.795\"/>\n<text text-anchor=\"middle\" x=\"119\" y=\"-146.9419\" font-family=\"Times,serif\" font-size=\"14.00\" fill=\"#000000\">S111</text>\n</g>\n<!-- empty&#45;&gt;S111 -->\n<g id=\"edge1\" class=\"edge\">\n<title>empty&#45;&gt;S111:w</title>\n<path fill=\"none\" stroke=\"#000000\" d=\"M54.2068,-150.6419C61.9244,-150.6419 70.5297,-150.6419 78.9663,-150.6419\"/>\n<polygon fill=\"#000000\" stroke=\"#000000\" points=\"79.1027,-154.142 89.1027,-150.6419 79.1026,-147.142 79.1027,-154.142\"/>\n</g>\n<!-- S111&#45;&gt;S111 -->\n<g id=\"edge3\" class=\"edge\">\n<title>S111:nw&#45;&gt;S111:ne</title>\n<path fill=\"none\" stroke=\"#000000\" d=\"M98,-171.6419C89,-189.8725 89,-208.5392 119,-208.5392 143.8438,-208.5392 148.1138,-195.7378 143.7364,-180.9837\"/>\n<polygon fill=\"#000000\" stroke=\"#000000\" points=\"146.9634,-179.627 140,-171.6419 140.464,-182.2265 146.9634,-179.627\"/>\n<text text-anchor=\"middle\" x=\"119\" y=\"-212.3392\" font-family=\"Times,serif\" font-size=\"14.00\" fill=\"#000000\">1</text>\n</g>\n<!-- S110 -->\n<g id=\"node3\" class=\"node\">\n<title>S110</title>\n<ellipse fill=\"none\" stroke=\"#000000\" cx=\"215\" cy=\"-150.6419\" rx=\"30.5947\" ry=\"30.5947\"/>\n<text text-anchor=\"middle\" x=\"215\" y=\"-146.9419\" font-family=\"Times,serif\" font-size=\"14.00\" fill=\"#000000\">S110</text>\n</g>\n<!-- S111&#45;&gt;S110 -->\n<g id=\"edge2\" class=\"edge\">\n<title>S111&#45;&gt;S110</title>\n<path fill=\"none\" stroke=\"#000000\" d=\"M149.1116,-150.6419C157.0865,-150.6419 165.8302,-150.6419 174.2673,-150.6419\"/>\n<polygon fill=\"#000000\" stroke=\"#000000\" points=\"174.3343,-154.142 184.3342,-150.6419 174.3342,-147.142 174.3343,-154.142\"/>\n<text text-anchor=\"middle\" x=\"166.675\" y=\"-157.4419\" font-family=\"Times,serif\" font-size=\"14.00\" fill=\"#000000\">0</text>\n</g>\n<!-- S101 -->\n<g id=\"node4\" class=\"node\">\n<title>S101</title>\n<ellipse fill=\"none\" stroke=\"#000000\" cx=\"391\" cy=\"-150.6419\" rx=\"30.5947\" ry=\"30.5947\"/>\n<text text-anchor=\"middle\" x=\"391\" y=\"-146.9419\" font-family=\"Times,serif\" font-size=\"14.00\" fill=\"#000000\">S101</text>\n</g>\n<!-- S110&#45;&gt;S101 -->\n<g id=\"edge5\" class=\"edge\">\n<title>S110&#45;&gt;S101</title>\n<path fill=\"none\" stroke=\"#000000\" d=\"M238.1211,-170.9348C254.0357,-183.4981 276.3256,-198.473 299,-205.1892 322.4679,-212.1404 346.1594,-197.472 363.6226,-181.6048\"/>\n<polygon fill=\"#000000\" stroke=\"#000000\" points=\"366.4218,-183.7673 371.1848,-174.3034 361.5596,-178.7315 366.4218,-183.7673\"/>\n<text text-anchor=\"middle\" x=\"303\" y=\"-202.9892\" font-family=\"Times,serif\" font-size=\"14.00\" fill=\"#000000\">1</text>\n</g>\n<!-- S100 -->\n<g id=\"node5\" class=\"node\">\n<title>S100</title>\n<ellipse fill=\"none\" stroke=\"#000000\" cx=\"312\" cy=\"-150.6419\" rx=\"30.5947\" ry=\"30.5947\"/>\n<text text-anchor=\"middle\" x=\"312\" y=\"-146.9419\" font-family=\"Times,serif\" font-size=\"14.00\" fill=\"#000000\">S100</text>\n</g>\n<!-- S110&#45;&gt;S100 -->\n<g id=\"edge4\" class=\"edge\">\n<title>S110&#45;&gt;S100</title>\n<path fill=\"none\" stroke=\"#000000\" d=\"M245.6914,-150.6419C253.7412,-150.6419 262.5511,-150.6419 271.0445,-150.6419\"/>\n<polygon fill=\"#000000\" stroke=\"#000000\" points=\"271.1753,-154.142 281.1753,-150.6419 271.1753,-147.142 271.1753,-154.142\"/>\n<text text-anchor=\"middle\" x=\"263.5\" y=\"-157.4419\" font-family=\"Times,serif\" font-size=\"14.00\" fill=\"#000000\">0</text>\n</g>\n<!-- S011 -->\n<g id=\"node6\" class=\"node\">\n<title>S011</title>\n<ellipse fill=\"none\" stroke=\"#000000\" cx=\"326\" cy=\"-34.5473\" rx=\"30.5892\" ry=\"30.5892\"/>\n<ellipse fill=\"none\" stroke=\"#000000\" cx=\"326\" cy=\"-34.5473\" rx=\"34.5946\" ry=\"34.5946\"/>\n<text text-anchor=\"middle\" x=\"326\" y=\"-30.8473\" font-family=\"Times,serif\" font-size=\"14.00\" fill=\"#000000\">S011</text>\n</g>\n<!-- S101&#45;&gt;S011 -->\n<g id=\"edge7\" class=\"edge\">\n<title>S101&#45;&gt;S011</title>\n<path fill=\"none\" stroke=\"#000000\" d=\"M375.9243,-123.7156C367.6338,-108.9081 357.1955,-90.2646 348.0096,-73.8579\"/>\n<polygon fill=\"#000000\" stroke=\"#000000\" points=\"350.996,-72.0275 343.0567,-65.0118 344.8882,-75.4472 350.996,-72.0275\"/>\n<text text-anchor=\"middle\" x=\"366\" y=\"-90.8946\" font-family=\"Times,serif\" font-size=\"14.00\" fill=\"#000000\">1</text>\n</g>\n<!-- S010 -->\n<g id=\"node9\" class=\"node\">\n<title>S010</title>\n<ellipse fill=\"none\" stroke=\"#000000\" cx=\"413\" cy=\"-34.5473\" rx=\"30.5892\" ry=\"30.5892\"/>\n<ellipse fill=\"none\" stroke=\"#000000\" cx=\"413\" cy=\"-34.5473\" rx=\"34.5946\" ry=\"34.5946\"/>\n<text text-anchor=\"middle\" x=\"413\" y=\"-30.8473\" font-family=\"Times,serif\" font-size=\"14.00\" fill=\"#000000\">S010</text>\n</g>\n<!-- S101&#45;&gt;S010 -->\n<g id=\"edge6\" class=\"edge\">\n<title>S101&#45;&gt;S010</title>\n<path fill=\"none\" stroke=\"#000000\" d=\"M387.7964,-119.9973C387.4126,-109.4717 387.7851,-97.6785 390,-87.0946 390.8605,-82.9825 392.0621,-78.7986 393.4688,-74.6783\"/>\n<polygon fill=\"#000000\" stroke=\"#000000\" points=\"396.7737,-75.8344 397.0599,-65.2434 390.2315,-73.3443 396.7737,-75.8344\"/>\n<text text-anchor=\"middle\" x=\"394\" y=\"-90.8946\" font-family=\"Times,serif\" font-size=\"14.00\" fill=\"#000000\">0</text>\n</g>\n<!-- S001 -->\n<g id=\"node7\" class=\"node\">\n<title>S001</title>\n<ellipse fill=\"none\" stroke=\"#000000\" cx=\"221\" cy=\"-34.5473\" rx=\"30.5892\" ry=\"30.5892\"/>\n<ellipse fill=\"none\" stroke=\"#000000\" cx=\"221\" cy=\"-34.5473\" rx=\"34.5946\" ry=\"34.5946\"/>\n<text text-anchor=\"middle\" x=\"221\" y=\"-30.8473\" font-family=\"Times,serif\" font-size=\"14.00\" fill=\"#000000\">S001</text>\n</g>\n<!-- S100&#45;&gt;S001 -->\n<g id=\"edge9\" class=\"edge\">\n<title>S100&#45;&gt;S001</title>\n<path fill=\"none\" stroke=\"#000000\" d=\"M289.5385,-129.2297C281.4382,-121.0563 272.4613,-111.4491 265,-102.0946 257.7103,-92.9551 250.4931,-82.5883 244.0774,-72.7682\"/>\n<polygon fill=\"#000000\" stroke=\"#000000\" points=\"247.0074,-70.8534 238.6639,-64.3238 241.1143,-74.6313 247.0074,-70.8534\"/>\n<text text-anchor=\"middle\" x=\"269\" y=\"-90.8946\" font-family=\"Times,serif\" font-size=\"14.00\" fill=\"#000000\">1</text>\n</g>\n<!-- S000 -->\n<g id=\"node8\" class=\"node\">\n<title>S000</title>\n<ellipse fill=\"none\" stroke=\"#000000\" cx=\"116\" cy=\"-34.5473\" rx=\"30.5892\" ry=\"30.5892\"/>\n<ellipse fill=\"none\" stroke=\"#000000\" cx=\"116\" cy=\"-34.5473\" rx=\"34.5946\" ry=\"34.5946\"/>\n<text text-anchor=\"middle\" x=\"116\" y=\"-30.8473\" font-family=\"Times,serif\" font-size=\"14.00\" fill=\"#000000\">S000</text>\n</g>\n<!-- S100&#45;&gt;S000 -->\n<g id=\"edge8\" class=\"edge\">\n<title>S100&#45;&gt;S000</title>\n<path fill=\"none\" stroke=\"#000000\" d=\"M285.8415,-134.3407C276.4183,-129.092 265.5122,-123.7055 255,-120.0946 210.2207,-104.7129 188.0583,-130.2609 150,-102.0946 141.443,-95.7617 134.8956,-86.6638 129.9433,-77.188\"/>\n<polygon fill=\"#000000\" stroke=\"#000000\" points=\"133.0816,-75.6364 125.6705,-68.065 126.7424,-78.6054 133.0816,-75.6364\"/>\n<text text-anchor=\"middle\" x=\"154\" y=\"-90.8946\" font-family=\"Times,serif\" font-size=\"14.00\" fill=\"#000000\">0</text>\n</g>\n<!-- S011&#45;&gt;S111 -->\n<g id=\"edge17\" class=\"edge\">\n<title>S011&#45;&gt;S111</title>\n<path fill=\"none\" stroke=\"#000000\" d=\"M296.3324,-52.4114C286.5089,-58.0387 275.4217,-64.0872 265,-69.0946 245.5842,-78.4234 239.1947,-77.3189 220,-87.0946 196.4672,-99.0796 171.3271,-114.8858 152.0155,-127.7358\"/>\n<polygon fill=\"#000000\" stroke=\"#000000\" points=\"149.9255,-124.9234 143.5795,-133.4075 153.8311,-130.7326 149.9255,-124.9234\"/>\n<text text-anchor=\"middle\" x=\"224\" y=\"-90.8946\" font-family=\"Times,serif\" font-size=\"14.00\" fill=\"#000000\">1</text>\n</g>\n<!-- S011&#45;&gt;S110 -->\n<g id=\"edge16\" class=\"edge\">\n<title>S011&#45;&gt;S110</title>\n<path fill=\"none\" stroke=\"#000000\" d=\"M295.5815,-51.0023C274.9086,-62.6551 249.9311,-77.807 242,-87.0946 235.8833,-94.2575 230.9777,-103.0103 227.1161,-111.7021\"/>\n<polygon fill=\"#000000\" stroke=\"#000000\" points=\"223.8473,-110.4495 223.3277,-121.0316 230.3329,-113.0832 223.8473,-110.4495\"/>\n<text text-anchor=\"middle\" x=\"246\" y=\"-90.8946\" font-family=\"Times,serif\" font-size=\"14.00\" fill=\"#000000\">0</text>\n</g>\n<!-- S001&#45;&gt;S011 -->\n<g id=\"edge13\" class=\"edge\">\n<title>S001&#45;&gt;S011</title>\n<path fill=\"none\" stroke=\"#000000\" d=\"M255.6719,-34.5473C263.8257,-34.5473 272.6305,-34.5473 281.1597,-34.5473\"/>\n<polygon fill=\"#000000\" stroke=\"#000000\" points=\"281.3645,-38.0474 291.3645,-34.5473 281.3644,-31.0474 281.3645,-38.0474\"/>\n<text text-anchor=\"middle\" x=\"273.5\" y=\"-41.3473\" font-family=\"Times,serif\" font-size=\"14.00\" fill=\"#000000\">1</text>\n</g>\n<!-- S001&#45;&gt;S010 -->\n<g id=\"edge12\" class=\"edge\">\n<title>S001&#45;&gt;S010</title>\n<path fill=\"none\" stroke=\"#000000\" d=\"M240.8252,-63.2266C250.3231,-74.4572 262.7446,-86.0757 277,-92.0946 311.8896,-106.8256 351.7972,-85.3953 379.315,-64.631\"/>\n<polygon fill=\"#000000\" stroke=\"#000000\" points=\"381.7369,-67.1792 387.438,-58.249 377.4123,-61.6749 381.7369,-67.1792\"/>\n<text text-anchor=\"middle\" x=\"281\" y=\"-90.8946\" font-family=\"Times,serif\" font-size=\"14.00\" fill=\"#000000\">0</text>\n</g>\n<!-- S000&#45;&gt;S001 -->\n<g id=\"edge11\" class=\"edge\">\n<title>S000&#45;&gt;S001</title>\n<path fill=\"none\" stroke=\"#000000\" d=\"M150.6719,-34.5473C158.8257,-34.5473 167.6305,-34.5473 176.1597,-34.5473\"/>\n<polygon fill=\"#000000\" stroke=\"#000000\" points=\"176.3645,-38.0474 186.3645,-34.5473 176.3644,-31.0474 176.3645,-38.0474\"/>\n<text text-anchor=\"middle\" x=\"168.5\" y=\"-41.3473\" font-family=\"Times,serif\" font-size=\"14.00\" fill=\"#000000\">1</text>\n</g>\n<!-- S000&#45;&gt;S000 -->\n<g id=\"edge10\" class=\"edge\">\n<title>S000:w&#45;&gt;S000</title>\n<path fill=\"none\" stroke=\"#000000\" d=\"M81,-34.5473C75.4527,-49.5473 63.4527,-49.5473 63.4527,-34.5473 63.4527,-29.6254 67.2244,-26.3185 72.9114,-24.6266\"/>\n<polygon fill=\"#000000\" stroke=\"#000000\" points=\"73.6914,-28.0549 83.1579,-23.2973 72.7907,-21.113 73.6914,-28.0549\"/>\n<text text-anchor=\"middle\" x=\"59.4527\" y=\"-30.8473\" font-family=\"Times,serif\" font-size=\"14.00\" fill=\"#000000\">0</text>\n</g>\n<!-- S010&#45;&gt;S101 -->\n<g id=\"edge15\" class=\"edge\">\n<title>S010&#45;&gt;S101</title>\n<path fill=\"none\" stroke=\"#000000\" d=\"M406.5289,-68.6953C404.0519,-81.7668 401.2036,-96.7972 398.6283,-110.3872\"/>\n<polygon fill=\"#000000\" stroke=\"#000000\" points=\"395.146,-109.9656 396.7228,-120.4424 402.0236,-111.269 395.146,-109.9656\"/>\n<text text-anchor=\"middle\" x=\"406\" y=\"-90.8946\" font-family=\"Times,serif\" font-size=\"14.00\" fill=\"#000000\">1</text>\n</g>\n<!-- S010&#45;&gt;S100 -->\n<g id=\"edge14\" class=\"edge\">\n<title>S010&#45;&gt;S100</title>\n<path fill=\"none\" stroke=\"#000000\" d=\"M385.9331,-56.7751C380.6986,-60.9362 375.2185,-65.1996 370,-69.0946 358.7368,-77.5013 353.2237,-76.4901 344,-87.0946 337.4419,-94.6344 331.8331,-103.7549 327.2285,-112.7041\"/>\n<polygon fill=\"#000000\" stroke=\"#000000\" points=\"323.9876,-111.367 322.7958,-121.8946 330.2925,-114.408 323.9876,-111.367\"/>\n<text text-anchor=\"middle\" x=\"348\" y=\"-90.8946\" font-family=\"Times,serif\" font-size=\"14.00\" fill=\"#000000\">0</text>\n</g>\n</g>\n</svg>\n"
          },
          "metadata": {
            "tags": []
          },
          "execution_count": 6
        }
      ]
    },
    {
      "cell_type": "markdown",
      "metadata": {
        "id": "40NUh1fjUNI7"
      },
      "source": [
        "## TODO Task 2"
      ]
    },
    {
      "cell_type": "markdown",
      "metadata": {
        "id": "6uUm7MAbUNI7"
      },
      "source": [
        "Construct a DFA to recognize the language\n",
        "\n",
        "$L_3 = \\{x0z\\ |\\ x \\in \\Sigma^*, z \\in \\Sigma^3\\}$."
      ]
    },
    {
      "cell_type": "code",
      "metadata": {
        "id": "LASNYHFlCvv_",
        "colab": {
          "base_uri": "https://localhost:8080/",
          "height": 382
        },
        "outputId": "8b36a67e-5d35-4316-cc2c-c43c54c3017e"
      },
      "source": [
        "fourth_to_last_bit_is_zero = '''\n",
        "digraph {\n",
        "  node [shape=circle]\n",
        "  empty [shape=none label=\"\"]\n",
        "  S1111\n",
        "  S1110\n",
        "  S1101\n",
        "  S1100\n",
        "  S1011\n",
        "  S1010\n",
        "  S1001\n",
        "  S1000\n",
        "  S0100 [shape=doublecircle]\n",
        "  S0111 [shape=doublecircle]\n",
        "  S0001 [shape=doublecircle]\n",
        "  S0101 [shape=doublecircle]\n",
        "  S0000 [shape=doublecircle]\n",
        "  S0110 [shape=doublecircle]\n",
        "  S0010 [shape=doublecircle]\n",
        "  S0011 [shape=doublecircle]\n",
        "\n",
        "  empty -> S111 [label=\"\" headport=w]\n",
        "  S1111 -> S1110 [label=0]\n",
        "  S1111 -> S1111 [label=1 headport=ne tailport=nw]\n",
        "  S1110 -> S1100 [label=0]\n",
        "  S1110 -> S1101 [label=1]\n",
        "  S1101 -> S1010 [label=0]\n",
        "  S1101 -> S1011 [label=1]\n",
        "  S1100 -> S1000 [label=0]\n",
        "  S1100 -> S1001 [label=1]\n",
        "  S1011 -> S0110 [label=0]\n",
        "  S1011 -> S0111 [label=1]\n",
        "  S1010 -> S0100 [label=0]\n",
        "  S1010 -> S0101 [label=1]\n",
        "  S1001 -> S0010 [label=0]\n",
        "  S1001 -> S0011 [label=1]\n",
        "  S1000 -> S0000 [label=0]\n",
        "  S1000 -> S0001 [label=1]\n",
        "\n",
        "  S0000 -> S0000 [label=0 tailport=w]\n",
        "  S0000 -> S0001 [label=1]\n",
        "  S0001 -> S0010 [label=0]\n",
        "  S0001 -> S0011 [label=1]\n",
        "  S0010 -> S0100 [label=0]\n",
        "  S0010 -> S0101 [label=1]\n",
        "  S0011 -> S0110 [label=0]\n",
        "  S0011 -> S0111 [label=1]\n",
        "  S0100 -> S1000 [label=0]\n",
        "  S0100 -> S1001 [label=1]\n",
        "  S0101 -> S1010 [label=0]\n",
        "  S0101 -> S1011 [label=1]\n",
        "  S0110 -> S1100 [label=0]\n",
        "  S0110 -> S1101 [label=1]\n",
        "  S0111 -> S1110 [label=0]\n",
        "  S0111 -> S1111 [label=1]\n",
        "  {rank=same empty S1111 S1110 S1101 S1100 S1011 S1010 S1001 S1000}\n",
        "  {rank=same S0000 S0001 S0010 S0011 S0100 S0101 S0110 S0111}\n",
        "}\n",
        "'''\n",
        "Source(fourth_to_last_bit_is_zero)"
      ],
      "execution_count": null,
      "outputs": [
        {
          "output_type": "execute_result",
          "data": {
            "text/plain": [
              "<graphviz.files.Source at 0x7faec4856050>"
            ],
            "image/svg+xml": "<?xml version=\"1.0\" encoding=\"UTF-8\" standalone=\"no\"?>\n<!DOCTYPE svg PUBLIC \"-//W3C//DTD SVG 1.1//EN\"\n \"http://www.w3.org/Graphics/SVG/1.1/DTD/svg11.dtd\">\n<!-- Generated by graphviz version 2.40.1 (20161225.0304)\n -->\n<!-- Title: %3 Pages: 1 -->\n<svg width=\"922pt\" height=\"271pt\"\n viewBox=\"0.00 0.00 921.75 271.23\" xmlns=\"http://www.w3.org/2000/svg\" xmlns:xlink=\"http://www.w3.org/1999/xlink\">\n<g id=\"graph0\" class=\"graph\" transform=\"scale(1 1) rotate(0) translate(4 267.2341)\">\n<title>%3</title>\n<polygon fill=\"#ffffff\" stroke=\"transparent\" points=\"-4,4 -4,-267.2341 917.7468,-267.2341 917.7468,4 -4,4\"/>\n<!-- empty -->\n<g id=\"node1\" class=\"node\">\n<title>empty</title>\n</g>\n<!-- S111 -->\n<g id=\"node18\" class=\"node\">\n<title>S111</title>\n<ellipse fill=\"none\" stroke=\"#000000\" cx=\"57\" cy=\"-39.7468\" rx=\"29.795\" ry=\"29.795\"/>\n<text text-anchor=\"middle\" x=\"57\" y=\"-36.0468\" font-family=\"Times,serif\" font-size=\"14.00\" fill=\"#000000\">S111</text>\n</g>\n<!-- empty&#45;&gt;S111 -->\n<g id=\"edge1\" class=\"edge\">\n<title>empty&#45;&gt;S111:w</title>\n<path fill=\"none\" stroke=\"#000000\" d=\"M19.7057,-148.117C7.7702,-116.2828 -11.8707,-52.6246 16.9835,-41.443\"/>\n<polygon fill=\"#000000\" stroke=\"#000000\" points=\"17.7248,-44.8674 27,-39.7468 16.556,-37.9657 17.7248,-44.8674\"/>\n</g>\n<!-- S1111 -->\n<g id=\"node2\" class=\"node\">\n<title>S1111</title>\n<ellipse fill=\"none\" stroke=\"#000000\" cx=\"175\" cy=\"-166.2405\" rx=\"34.394\" ry=\"34.394\"/>\n<text text-anchor=\"middle\" x=\"175\" y=\"-162.5405\" font-family=\"Times,serif\" font-size=\"14.00\" fill=\"#000000\">S1111</text>\n</g>\n<!-- S1111&#45;&gt;S1111 -->\n<g id=\"edge3\" class=\"edge\">\n<title>S1111:nw&#45;&gt;S1111:ne</title>\n<path fill=\"none\" stroke=\"#000000\" d=\"M150,-191.2405C141,-210.6874 141,-230.6874 175,-230.6874 203.4219,-230.6874 208.0848,-216.7116 203.5925,-200.7659\"/>\n<polygon fill=\"#000000\" stroke=\"#000000\" points=\"206.8038,-199.362 200,-191.2405 200.2541,-201.8323 206.8038,-199.362\"/>\n<text text-anchor=\"middle\" x=\"175\" y=\"-234.4874\" font-family=\"Times,serif\" font-size=\"14.00\" fill=\"#000000\">1</text>\n</g>\n<!-- S1110 -->\n<g id=\"node3\" class=\"node\">\n<title>S1110</title>\n<ellipse fill=\"none\" stroke=\"#000000\" cx=\"279\" cy=\"-166.2405\" rx=\"34.394\" ry=\"34.394\"/>\n<text text-anchor=\"middle\" x=\"279\" y=\"-162.5405\" font-family=\"Times,serif\" font-size=\"14.00\" fill=\"#000000\">S1110</text>\n</g>\n<!-- S1111&#45;&gt;S1110 -->\n<g id=\"edge2\" class=\"edge\">\n<title>S1111&#45;&gt;S1110</title>\n<path fill=\"none\" stroke=\"#000000\" d=\"M209.6305,-166.2405C217.5244,-166.2405 226.0217,-166.2405 234.2701,-166.2405\"/>\n<polygon fill=\"#000000\" stroke=\"#000000\" points=\"234.5208,-169.7406 244.5207,-166.2405 234.5207,-162.7406 234.5208,-169.7406\"/>\n<text text-anchor=\"middle\" x=\"227\" y=\"-173.0405\" font-family=\"Times,serif\" font-size=\"14.00\" fill=\"#000000\">0</text>\n</g>\n<!-- S1101 -->\n<g id=\"node4\" class=\"node\">\n<title>S1101</title>\n<ellipse fill=\"none\" stroke=\"#000000\" cx=\"668\" cy=\"-166.2405\" rx=\"35.194\" ry=\"35.194\"/>\n<text text-anchor=\"middle\" x=\"668\" y=\"-162.5405\" font-family=\"Times,serif\" font-size=\"14.00\" fill=\"#000000\">S1101</text>\n</g>\n<!-- S1110&#45;&gt;S1101 -->\n<g id=\"edge5\" class=\"edge\">\n<title>S1110&#45;&gt;S1101</title>\n<path fill=\"none\" stroke=\"#000000\" d=\"M305.8621,-187.8219C324.5835,-201.4233 350.8084,-217.7383 377,-224.9873 430.129,-239.6918 572.9944,-222.9001 624,-201.9873 627.4832,-200.5592 630.9078,-198.7598 634.2136,-196.7319\"/>\n<polygon fill=\"#000000\" stroke=\"#000000\" points=\"636.3921,-199.4814 642.6451,-190.9287 632.4233,-193.7152 636.3921,-199.4814\"/>\n<text text-anchor=\"middle\" x=\"381\" y=\"-223.7873\" font-family=\"Times,serif\" font-size=\"14.00\" fill=\"#000000\">1</text>\n</g>\n<!-- S1100 -->\n<g id=\"node5\" class=\"node\">\n<title>S1100</title>\n<ellipse fill=\"none\" stroke=\"#000000\" cx=\"384\" cy=\"-166.2405\" rx=\"35.194\" ry=\"35.194\"/>\n<text text-anchor=\"middle\" x=\"384\" y=\"-162.5405\" font-family=\"Times,serif\" font-size=\"14.00\" fill=\"#000000\">S1100</text>\n</g>\n<!-- S1110&#45;&gt;S1100 -->\n<g id=\"edge4\" class=\"edge\">\n<title>S1110&#45;&gt;S1100</title>\n<path fill=\"none\" stroke=\"#000000\" d=\"M313.6719,-166.2405C321.6558,-166.2405 330.264,-166.2405 338.6263,-166.2405\"/>\n<polygon fill=\"#000000\" stroke=\"#000000\" points=\"338.6462,-169.7406 348.6462,-166.2405 338.6461,-162.7406 338.6462,-169.7406\"/>\n<text text-anchor=\"middle\" x=\"331.175\" y=\"-173.0405\" font-family=\"Times,serif\" font-size=\"14.00\" fill=\"#000000\">0</text>\n</g>\n<!-- S1011 -->\n<g id=\"node6\" class=\"node\">\n<title>S1011</title>\n<ellipse fill=\"none\" stroke=\"#000000\" cx=\"774\" cy=\"-166.2405\" rx=\"35.194\" ry=\"35.194\"/>\n<text text-anchor=\"middle\" x=\"774\" y=\"-162.5405\" font-family=\"Times,serif\" font-size=\"14.00\" fill=\"#000000\">S1011</text>\n</g>\n<!-- S1101&#45;&gt;S1011 -->\n<g id=\"edge7\" class=\"edge\">\n<title>S1101&#45;&gt;S1011</title>\n<path fill=\"none\" stroke=\"#000000\" d=\"M703.2965,-166.2405C711.4316,-166.2405 720.1955,-166.2405 728.69,-166.2405\"/>\n<polygon fill=\"#000000\" stroke=\"#000000\" points=\"728.8577,-169.7406 738.8577,-166.2405 728.8576,-162.7406 728.8577,-169.7406\"/>\n<text text-anchor=\"middle\" x=\"721\" y=\"-173.0405\" font-family=\"Times,serif\" font-size=\"14.00\" fill=\"#000000\">1</text>\n</g>\n<!-- S1010 -->\n<g id=\"node7\" class=\"node\">\n<title>S1010</title>\n<ellipse fill=\"none\" stroke=\"#000000\" cx=\"863\" cy=\"-166.2405\" rx=\"35.9954\" ry=\"35.9954\"/>\n<text text-anchor=\"middle\" x=\"863\" y=\"-162.5405\" font-family=\"Times,serif\" font-size=\"14.00\" fill=\"#000000\">S1010</text>\n</g>\n<!-- S1101&#45;&gt;S1010 -->\n<g id=\"edge6\" class=\"edge\">\n<title>S1101&#45;&gt;S1010</title>\n<path fill=\"none\" stroke=\"#000000\" d=\"M694.8797,-189.0038C712.4528,-202.3459 736.6016,-217.9266 761,-224.9873 786.5343,-232.3767 812.4545,-217.0893 831.7758,-200.2622\"/>\n<polygon fill=\"#000000\" stroke=\"#000000\" points=\"834.3802,-202.622 839.3679,-193.2746 829.6397,-197.4714 834.3802,-202.622\"/>\n<text text-anchor=\"middle\" x=\"765\" y=\"-223.7873\" font-family=\"Times,serif\" font-size=\"14.00\" fill=\"#000000\">0</text>\n</g>\n<!-- S1001 -->\n<g id=\"node8\" class=\"node\">\n<title>S1001</title>\n<ellipse fill=\"none\" stroke=\"#000000\" cx=\"579\" cy=\"-166.2405\" rx=\"35.9954\" ry=\"35.9954\"/>\n<text text-anchor=\"middle\" x=\"579\" y=\"-162.5405\" font-family=\"Times,serif\" font-size=\"14.00\" fill=\"#000000\">S1001</text>\n</g>\n<!-- S1100&#45;&gt;S1001 -->\n<g id=\"edge9\" class=\"edge\">\n<title>S1100&#45;&gt;S1001</title>\n<path fill=\"none\" stroke=\"#000000\" d=\"M410.8797,-189.0038C428.4528,-202.3459 452.6016,-217.9266 477,-224.9873 502.5343,-232.3767 528.4545,-217.0893 547.7758,-200.2622\"/>\n<polygon fill=\"#000000\" stroke=\"#000000\" points=\"550.3802,-202.622 555.3679,-193.2746 545.6397,-197.4714 550.3802,-202.622\"/>\n<text text-anchor=\"middle\" x=\"481\" y=\"-223.7873\" font-family=\"Times,serif\" font-size=\"14.00\" fill=\"#000000\">1</text>\n</g>\n<!-- S1000 -->\n<g id=\"node9\" class=\"node\">\n<title>S1000</title>\n<ellipse fill=\"none\" stroke=\"#000000\" cx=\"490\" cy=\"-166.2405\" rx=\"35.9954\" ry=\"35.9954\"/>\n<text text-anchor=\"middle\" x=\"490\" y=\"-162.5405\" font-family=\"Times,serif\" font-size=\"14.00\" fill=\"#000000\">S1000</text>\n</g>\n<!-- S1100&#45;&gt;S1000 -->\n<g id=\"edge8\" class=\"edge\">\n<title>S1100&#45;&gt;S1000</title>\n<path fill=\"none\" stroke=\"#000000\" d=\"M419.2965,-166.2405C427.1728,-166.2405 435.6385,-166.2405 443.8786,-166.2405\"/>\n<polygon fill=\"#000000\" stroke=\"#000000\" points=\"444.1341,-169.7406 454.134,-166.2405 444.134,-162.7406 444.1341,-169.7406\"/>\n<text text-anchor=\"middle\" x=\"436.675\" y=\"-173.0405\" font-family=\"Times,serif\" font-size=\"14.00\" fill=\"#000000\">0</text>\n</g>\n<!-- S0111 -->\n<g id=\"node11\" class=\"node\">\n<title>S0111</title>\n<ellipse fill=\"none\" stroke=\"#000000\" cx=\"487\" cy=\"-39.7468\" rx=\"34.3995\" ry=\"34.3995\"/>\n<ellipse fill=\"none\" stroke=\"#000000\" cx=\"487\" cy=\"-39.7468\" rx=\"38.394\" ry=\"38.394\"/>\n<text text-anchor=\"middle\" x=\"487\" y=\"-36.0468\" font-family=\"Times,serif\" font-size=\"14.00\" fill=\"#000000\">S0111</text>\n</g>\n<!-- S1011&#45;&gt;S0111 -->\n<g id=\"edge11\" class=\"edge\">\n<title>S1011&#45;&gt;S0111</title>\n<path fill=\"none\" stroke=\"#000000\" d=\"M745.5793,-145.0293C719.7671,-125.9432 684.5988,-100.4487 677,-97.4937 617.2984,-74.2766 592.6558,-105.2386 534,-79.4937 530.092,-77.7784 526.2595,-75.6309 522.574,-73.2279\"/>\n<polygon fill=\"#000000\" stroke=\"#000000\" points=\"524.4324,-70.2529 514.275,-67.2401 520.3366,-75.9296 524.4324,-70.2529\"/>\n<text text-anchor=\"middle\" x=\"702\" y=\"-101.2937\" font-family=\"Times,serif\" font-size=\"14.00\" fill=\"#000000\">1</text>\n</g>\n<!-- S0110 -->\n<g id=\"node15\" class=\"node\">\n<title>S0110</title>\n<ellipse fill=\"none\" stroke=\"#000000\" cx=\"680\" cy=\"-39.7468\" rx=\"35.1841\" ry=\"35.1841\"/>\n<ellipse fill=\"none\" stroke=\"#000000\" cx=\"680\" cy=\"-39.7468\" rx=\"39.194\" ry=\"39.194\"/>\n<text text-anchor=\"middle\" x=\"680\" y=\"-36.0468\" font-family=\"Times,serif\" font-size=\"14.00\" fill=\"#000000\">S0110</text>\n</g>\n<!-- S1011&#45;&gt;S0110 -->\n<g id=\"edge10\" class=\"edge\">\n<title>S1011&#45;&gt;S0110</title>\n<path fill=\"none\" stroke=\"#000000\" d=\"M760.1891,-133.8384C754.4271,-121.9117 747.1663,-108.6115 739,-97.4937 732.7,-88.9166 725.0912,-80.4572 717.4629,-72.7685\"/>\n<polygon fill=\"#000000\" stroke=\"#000000\" points=\"719.4761,-69.8426 709.8758,-65.3611 714.586,-74.8513 719.4761,-69.8426\"/>\n<text text-anchor=\"middle\" x=\"752\" y=\"-101.2937\" font-family=\"Times,serif\" font-size=\"14.00\" fill=\"#000000\">0</text>\n</g>\n<!-- S0100 -->\n<g id=\"node10\" class=\"node\">\n<title>S0100</title>\n<ellipse fill=\"none\" stroke=\"#000000\" cx=\"777\" cy=\"-39.7468\" rx=\"35.9702\" ry=\"35.9702\"/>\n<ellipse fill=\"none\" stroke=\"#000000\" cx=\"777\" cy=\"-39.7468\" rx=\"39.9952\" ry=\"39.9952\"/>\n<text text-anchor=\"middle\" x=\"777\" y=\"-36.0468\" font-family=\"Times,serif\" font-size=\"14.00\" fill=\"#000000\">S0100</text>\n</g>\n<!-- S1010&#45;&gt;S0100 -->\n<g id=\"edge12\" class=\"edge\">\n<title>S1010&#45;&gt;S0100</title>\n<path fill=\"none\" stroke=\"#000000\" d=\"M842.8368,-136.5833C831.6586,-120.1418 817.5798,-99.4339 805.3133,-81.3916\"/>\n<polygon fill=\"#000000\" stroke=\"#000000\" points=\"807.9746,-79.0808 799.4577,-72.7789 802.1858,-83.0165 807.9746,-79.0808\"/>\n<text text-anchor=\"middle\" x=\"829\" y=\"-101.2937\" font-family=\"Times,serif\" font-size=\"14.00\" fill=\"#000000\">0</text>\n</g>\n<!-- S0101 -->\n<g id=\"node13\" class=\"node\">\n<title>S0101</title>\n<ellipse fill=\"none\" stroke=\"#000000\" cx=\"874\" cy=\"-39.7468\" rx=\"35.9702\" ry=\"35.9702\"/>\n<ellipse fill=\"none\" stroke=\"#000000\" cx=\"874\" cy=\"-39.7468\" rx=\"39.9952\" ry=\"39.9952\"/>\n<text text-anchor=\"middle\" x=\"874\" y=\"-36.0468\" font-family=\"Times,serif\" font-size=\"14.00\" fill=\"#000000\">S0101</text>\n</g>\n<!-- S1010&#45;&gt;S0101 -->\n<g id=\"edge13\" class=\"edge\">\n<title>S1010&#45;&gt;S0101</title>\n<path fill=\"none\" stroke=\"#000000\" d=\"M868.8288,-130.7455C869.67,-124.6701 870.4393,-118.4105 871,-112.4937 871.6887,-105.2264 872.2194,-97.5359 872.6282,-89.9829\"/>\n<polygon fill=\"#000000\" stroke=\"#000000\" points=\"876.1324,-89.977 873.1137,-79.8214 869.1404,-89.643 876.1324,-89.977\"/>\n<text text-anchor=\"middle\" x=\"876\" y=\"-101.2937\" font-family=\"Times,serif\" font-size=\"14.00\" fill=\"#000000\">1</text>\n</g>\n<!-- S0010 -->\n<g id=\"node16\" class=\"node\">\n<title>S0010</title>\n<ellipse fill=\"none\" stroke=\"#000000\" cx=\"583\" cy=\"-39.7468\" rx=\"35.9702\" ry=\"35.9702\"/>\n<ellipse fill=\"none\" stroke=\"#000000\" cx=\"583\" cy=\"-39.7468\" rx=\"39.9952\" ry=\"39.9952\"/>\n<text text-anchor=\"middle\" x=\"583\" y=\"-36.0468\" font-family=\"Times,serif\" font-size=\"14.00\" fill=\"#000000\">S0010</text>\n</g>\n<!-- S1001&#45;&gt;S0010 -->\n<g id=\"edge14\" class=\"edge\">\n<title>S1001&#45;&gt;S0010</title>\n<path fill=\"none\" stroke=\"#000000\" d=\"M580.1355,-130.3308C580.5331,-117.7586 580.9871,-103.4019 581.4146,-89.8813\"/>\n<polygon fill=\"#000000\" stroke=\"#000000\" points=\"584.9172,-89.8542 581.7351,-79.7485 577.9207,-89.6328 584.9172,-89.8542\"/>\n<text text-anchor=\"middle\" x=\"585\" y=\"-101.2937\" font-family=\"Times,serif\" font-size=\"14.00\" fill=\"#000000\">0</text>\n</g>\n<!-- S0011 -->\n<g id=\"node17\" class=\"node\">\n<title>S0011</title>\n<ellipse fill=\"none\" stroke=\"#000000\" cx=\"374\" cy=\"-39.7468\" rx=\"35.1841\" ry=\"35.1841\"/>\n<ellipse fill=\"none\" stroke=\"#000000\" cx=\"374\" cy=\"-39.7468\" rx=\"39.194\" ry=\"39.194\"/>\n<text text-anchor=\"middle\" x=\"374\" y=\"-36.0468\" font-family=\"Times,serif\" font-size=\"14.00\" fill=\"#000000\">S0011</text>\n</g>\n<!-- S1001&#45;&gt;S0011 -->\n<g id=\"edge15\" class=\"edge\">\n<title>S1001&#45;&gt;S0011</title>\n<path fill=\"none\" stroke=\"#000000\" d=\"M562.2964,-134.2974C553.7603,-120.967 542.1637,-106.5152 528,-97.4937 494.3292,-76.0471 477.1917,-94.0007 440,-79.4937 431.5799,-76.2093 423.0066,-71.8897 414.9476,-67.3101\"/>\n<polygon fill=\"#000000\" stroke=\"#000000\" points=\"416.4904,-64.156 406.1029,-62.0704 412.9226,-70.1786 416.4904,-64.156\"/>\n<text text-anchor=\"middle\" x=\"549\" y=\"-101.2937\" font-family=\"Times,serif\" font-size=\"14.00\" fill=\"#000000\">1</text>\n</g>\n<!-- S0001 -->\n<g id=\"node12\" class=\"node\">\n<title>S0001</title>\n<ellipse fill=\"none\" stroke=\"#000000\" cx=\"260\" cy=\"-39.7468\" rx=\"35.9702\" ry=\"35.9702\"/>\n<ellipse fill=\"none\" stroke=\"#000000\" cx=\"260\" cy=\"-39.7468\" rx=\"39.9952\" ry=\"39.9952\"/>\n<text text-anchor=\"middle\" x=\"260\" y=\"-36.0468\" font-family=\"Times,serif\" font-size=\"14.00\" fill=\"#000000\">S0001</text>\n</g>\n<!-- S1000&#45;&gt;S0001 -->\n<g id=\"edge17\" class=\"edge\">\n<title>S1000&#45;&gt;S0001</title>\n<path fill=\"none\" stroke=\"#000000\" d=\"M471.9283,-135.0941C462.387,-121.4181 449.4413,-106.4621 434,-97.4937 391.9205,-73.0536 371.6515,-96.3443 326,-79.4937 317.7035,-76.4313 309.29,-72.2995 301.3734,-67.855\"/>\n<polygon fill=\"#000000\" stroke=\"#000000\" points=\"303.0738,-64.7946 292.6792,-62.7444 299.5265,-70.8293 303.0738,-64.7946\"/>\n<text text-anchor=\"middle\" x=\"456\" y=\"-101.2937\" font-family=\"Times,serif\" font-size=\"14.00\" fill=\"#000000\">1</text>\n</g>\n<!-- S0000 -->\n<g id=\"node14\" class=\"node\">\n<title>S0000</title>\n<ellipse fill=\"none\" stroke=\"#000000\" cx=\"145\" cy=\"-39.7468\" rx=\"35.9702\" ry=\"35.9702\"/>\n<ellipse fill=\"none\" stroke=\"#000000\" cx=\"145\" cy=\"-39.7468\" rx=\"39.9952\" ry=\"39.9952\"/>\n<text text-anchor=\"middle\" x=\"145\" y=\"-36.0468\" font-family=\"Times,serif\" font-size=\"14.00\" fill=\"#000000\">S0000</text>\n</g>\n<!-- S1000&#45;&gt;S0000 -->\n<g id=\"edge16\" class=\"edge\">\n<title>S1000&#45;&gt;S0000</title>\n<path fill=\"none\" stroke=\"#000000\" d=\"M461.8788,-143.5121C438.185,-124.5733 407.0476,-100.2566 400,-97.4937 321.4414,-66.6951 291.1362,-105.9169 211,-79.4937 202.6011,-76.7243 194.1382,-72.7342 186.2045,-68.3386\"/>\n<polygon fill=\"#000000\" stroke=\"#000000\" points=\"187.9022,-65.2769 177.5036,-63.247 184.3667,-71.3185 187.9022,-65.2769\"/>\n<text text-anchor=\"middle\" x=\"424\" y=\"-101.2937\" font-family=\"Times,serif\" font-size=\"14.00\" fill=\"#000000\">0</text>\n</g>\n<!-- S0100&#45;&gt;S1001 -->\n<g id=\"edge27\" class=\"edge\">\n<title>S0100&#45;&gt;S1001</title>\n<path fill=\"none\" stroke=\"#000000\" d=\"M747.8506,-66.7773C741.6314,-71.543 734.8595,-76.0674 728,-79.4937 698.4915,-94.233 685.1515,-82.0603 656,-97.4937 639.318,-106.3254 623.3286,-119.5273 610.2858,-132.0082\"/>\n<polygon fill=\"#000000\" stroke=\"#000000\" points=\"607.6224,-129.7192 602.9639,-139.2349 612.5397,-134.7012 607.6224,-129.7192\"/>\n<text text-anchor=\"middle\" x=\"660\" y=\"-101.2937\" font-family=\"Times,serif\" font-size=\"14.00\" fill=\"#000000\">1</text>\n</g>\n<!-- S0100&#45;&gt;S1000 -->\n<g id=\"edge26\" class=\"edge\">\n<title>S0100&#45;&gt;S1000</title>\n<path fill=\"none\" stroke=\"#000000\" d=\"M748.5263,-67.4845C742.2026,-72.2544 735.2189,-76.6002 728,-79.4937 682.0577,-97.9079 543.4863,-65.1741 506,-97.4937 499.1219,-103.4237 494.8852,-111.6817 492.337,-120.4228\"/>\n<polygon fill=\"#000000\" stroke=\"#000000\" points=\"488.8729,-119.8783 490.1267,-130.3987 495.7071,-121.3926 488.8729,-119.8783\"/>\n<text text-anchor=\"middle\" x=\"510\" y=\"-101.2937\" font-family=\"Times,serif\" font-size=\"14.00\" fill=\"#000000\">0</text>\n</g>\n<!-- S0111&#45;&gt;S1111 -->\n<g id=\"edge33\" class=\"edge\">\n<title>S0111&#45;&gt;S1111</title>\n<path fill=\"none\" stroke=\"#000000\" d=\"M455.4907,-62.2615C445.2248,-68.6917 433.5016,-75.1303 422,-79.4937 379.3685,-95.6667 364.9034,-85.1848 321,-97.4937 281.9796,-108.4335 272.4871,-112.8595 236,-130.4937 228.5401,-134.099 220.7733,-138.2883 213.3799,-142.503\"/>\n<polygon fill=\"#000000\" stroke=\"#000000\" points=\"211.1445,-139.7547 204.2661,-147.8131 214.6685,-145.803 211.1445,-139.7547\"/>\n<text text-anchor=\"middle\" x=\"325\" y=\"-101.2937\" font-family=\"Times,serif\" font-size=\"14.00\" fill=\"#000000\">1</text>\n</g>\n<!-- S0111&#45;&gt;S1110 -->\n<g id=\"edge32\" class=\"edge\">\n<title>S0111&#45;&gt;S1110</title>\n<path fill=\"none\" stroke=\"#000000\" d=\"M455.2602,-61.6898C444.9835,-68.0931 433.3121,-74.6603 422,-79.4937 393.2512,-91.7774 381.4308,-82.4958 354,-97.4937 337.4171,-106.5604 321.5941,-120.0579 308.7928,-132.6983\"/>\n<polygon fill=\"#000000\" stroke=\"#000000\" points=\"306.1305,-130.4141 301.6219,-140.0017 311.1254,-135.3183 306.1305,-130.4141\"/>\n<text text-anchor=\"middle\" x=\"358\" y=\"-101.2937\" font-family=\"Times,serif\" font-size=\"14.00\" fill=\"#000000\">0</text>\n</g>\n<!-- S0001&#45;&gt;S0010 -->\n<g id=\"edge20\" class=\"edge\">\n<title>S0001&#45;&gt;S0010</title>\n<path fill=\"none\" stroke=\"#000000\" d=\"M292.5623,-63.0725C302.8199,-69.3775 314.4874,-75.5421 326,-79.4937 407.2883,-107.3949 432.2092,-97.3735 518,-102.4937 521.5492,-102.7055 522.7487,-103.9327 526,-102.4937 536.8253,-97.7025 546.4752,-89.7273 554.6197,-81.0421\"/>\n<polygon fill=\"#000000\" stroke=\"#000000\" points=\"557.4462,-83.1261 561.3811,-73.289 552.1706,-78.5252 557.4462,-83.1261\"/>\n<text text-anchor=\"middle\" x=\"522\" y=\"-101.2937\" font-family=\"Times,serif\" font-size=\"14.00\" fill=\"#000000\">0</text>\n</g>\n<!-- S0001&#45;&gt;S0011 -->\n<g id=\"edge21\" class=\"edge\">\n<title>S0001&#45;&gt;S0011</title>\n<path fill=\"none\" stroke=\"#000000\" d=\"M299.8717,-39.7468C307.8174,-39.7468 316.2526,-39.7468 324.4765,-39.7468\"/>\n<polygon fill=\"#000000\" stroke=\"#000000\" points=\"324.7278,-43.2469 334.7278,-39.7468 324.7277,-36.2469 324.7278,-43.2469\"/>\n<text text-anchor=\"middle\" x=\"317.325\" y=\"-46.5468\" font-family=\"Times,serif\" font-size=\"14.00\" fill=\"#000000\">1</text>\n</g>\n<!-- S0101&#45;&gt;S1011 -->\n<g id=\"edge29\" class=\"edge\">\n<title>S0101&#45;&gt;S1011</title>\n<path fill=\"none\" stroke=\"#000000\" d=\"M843.259,-65.2195C825.2258,-80.2041 805.8023,-96.4357 805,-97.4937 799.07,-105.3138 793.9548,-114.4487 789.6857,-123.4578\"/>\n<polygon fill=\"#000000\" stroke=\"#000000\" points=\"786.4224,-122.182 785.5444,-132.7404 792.8151,-125.034 786.4224,-122.182\"/>\n<text text-anchor=\"middle\" x=\"809\" y=\"-101.2937\" font-family=\"Times,serif\" font-size=\"14.00\" fill=\"#000000\">1</text>\n</g>\n<!-- S0101&#45;&gt;S1010 -->\n<g id=\"edge28\" class=\"edge\">\n<title>S0101&#45;&gt;S1010</title>\n<path fill=\"none\" stroke=\"#000000\" d=\"M866.3875,-78.775C865.4175,-85.0139 864.567,-91.4152 864,-97.4937 863.3217,-104.7657 862.9105,-112.4889 862.6775,-120.0321\"/>\n<polygon fill=\"#000000\" stroke=\"#000000\" points=\"859.1759,-120.075 862.4619,-130.1474 866.1743,-120.2243 859.1759,-120.075\"/>\n<text text-anchor=\"middle\" x=\"868\" y=\"-101.2937\" font-family=\"Times,serif\" font-size=\"14.00\" fill=\"#000000\">0</text>\n</g>\n<!-- S0000&#45;&gt;S0001 -->\n<g id=\"edge19\" class=\"edge\">\n<title>S0000&#45;&gt;S0001</title>\n<path fill=\"none\" stroke=\"#000000\" d=\"M184.8987,-39.7468C193.0159,-39.7468 201.6509,-39.7468 210.066,-39.7468\"/>\n<polygon fill=\"#000000\" stroke=\"#000000\" points=\"210.1719,-43.2469 220.1719,-39.7468 210.1718,-36.2469 210.1719,-43.2469\"/>\n<text text-anchor=\"middle\" x=\"202.5\" y=\"-46.5468\" font-family=\"Times,serif\" font-size=\"14.00\" fill=\"#000000\">1</text>\n</g>\n<!-- S0000&#45;&gt;S0000 -->\n<g id=\"edge18\" class=\"edge\">\n<title>S0000:w&#45;&gt;S0000</title>\n<path fill=\"none\" stroke=\"#000000\" d=\"M105,-39.7468C99.2532,-55.7468 87.2532,-55.7468 87.2532,-39.7468 87.2532,-34.6658 91.1356,-31.1983 97.0511,-29.3444\"/>\n<polygon fill=\"#000000\" stroke=\"#000000\" points=\"97.6243,-32.7973 106.9572,-27.7827 96.5342,-25.8827 97.6243,-32.7973\"/>\n<text text-anchor=\"middle\" x=\"83.2532\" y=\"-36.0468\" font-family=\"Times,serif\" font-size=\"14.00\" fill=\"#000000\">0</text>\n</g>\n<!-- S0110&#45;&gt;S1101 -->\n<g id=\"edge31\" class=\"edge\">\n<title>S0110&#45;&gt;S1101</title>\n<path fill=\"none\" stroke=\"#000000\" d=\"M672.5635,-78.1593C671.5437,-84.5935 670.6315,-91.217 670,-97.4937 669.2437,-105.0107 668.739,-113.0116 668.4079,-120.7979\"/>\n<polygon fill=\"#000000\" stroke=\"#000000\" points=\"664.908,-120.7382 668.0659,-130.8515 671.9039,-120.9763 664.908,-120.7382\"/>\n<text text-anchor=\"middle\" x=\"674\" y=\"-101.2937\" font-family=\"Times,serif\" font-size=\"14.00\" fill=\"#000000\">1</text>\n</g>\n<!-- S0110&#45;&gt;S1100 -->\n<g id=\"edge30\" class=\"edge\">\n<title>S0110&#45;&gt;S1100</title>\n<path fill=\"none\" stroke=\"#000000\" d=\"M652.1905,-67.5173C645.9894,-72.2848 639.1246,-76.6212 632,-79.4937 582.3966,-99.4924 430.5853,-60.4583 392,-97.4937 385.5127,-103.7204 382.1345,-112.1814 380.6022,-121.0384\"/>\n<polygon fill=\"#000000\" stroke=\"#000000\" points=\"377.1078,-120.8082 379.589,-131.1084 384.0726,-121.509 377.1078,-120.8082\"/>\n<text text-anchor=\"middle\" x=\"396\" y=\"-101.2937\" font-family=\"Times,serif\" font-size=\"14.00\" fill=\"#000000\">0</text>\n</g>\n<!-- S0010&#45;&gt;S0100 -->\n<g id=\"edge22\" class=\"edge\">\n<title>S0010&#45;&gt;S0100</title>\n<path fill=\"none\" stroke=\"#000000\" d=\"M611.5047,-67.8727C639.1495,-91.5757 682.3223,-119.1695 720,-102.4937 730.8253,-97.7025 740.4752,-89.7273 748.6197,-81.0421\"/>\n<polygon fill=\"#000000\" stroke=\"#000000\" points=\"751.4462,-83.1261 755.3811,-73.289 746.1706,-78.5252 751.4462,-83.1261\"/>\n<text text-anchor=\"middle\" x=\"716\" y=\"-101.2937\" font-family=\"Times,serif\" font-size=\"14.00\" fill=\"#000000\">0</text>\n</g>\n<!-- S0010&#45;&gt;S0101 -->\n<g id=\"edge23\" class=\"edge\">\n<title>S0010&#45;&gt;S0101</title>\n<path fill=\"none\" stroke=\"#000000\" d=\"M612.1228,-66.8308C618.3443,-71.5921 625.1237,-76.1011 632,-79.4937 674.4533,-100.4389 689.0309,-108.4004 736,-102.4937 776.9629,-97.3423 789.2082,-98.2248 826,-79.4937 829.5856,-77.6682 833.1423,-75.5344 836.6029,-73.2203\"/>\n<polygon fill=\"#000000\" stroke=\"#000000\" points=\"838.917,-75.8661 844.9688,-67.1697 834.8148,-70.1941 838.917,-75.8661\"/>\n<text text-anchor=\"middle\" x=\"732\" y=\"-101.2937\" font-family=\"Times,serif\" font-size=\"14.00\" fill=\"#000000\">1</text>\n</g>\n<!-- S0011&#45;&gt;S0111 -->\n<g id=\"edge25\" class=\"edge\">\n<title>S0011&#45;&gt;S0111</title>\n<path fill=\"none\" stroke=\"#000000\" d=\"M413.2048,-39.7468C421.2714,-39.7468 429.8586,-39.7468 438.2162,-39.7468\"/>\n<polygon fill=\"#000000\" stroke=\"#000000\" points=\"438.2465,-43.2469 448.2464,-39.7468 438.2464,-36.2469 438.2465,-43.2469\"/>\n<text text-anchor=\"middle\" x=\"430.825\" y=\"-46.5468\" font-family=\"Times,serif\" font-size=\"14.00\" fill=\"#000000\">1</text>\n</g>\n<!-- S0011&#45;&gt;S0110 -->\n<g id=\"edge24\" class=\"edge\">\n<title>S0011&#45;&gt;S0110</title>\n<path fill=\"none\" stroke=\"#000000\" d=\"M403.6108,-65.3435C421.7495,-79.2919 446.186,-95.1675 471,-102.4937 540.3237,-122.961 566.0123,-108.9947 632,-79.4937 635.9448,-77.7301 639.8269,-75.5494 643.57,-73.1247\"/>\n<polygon fill=\"#000000\" stroke=\"#000000\" points=\"645.9034,-75.7597 652.0155,-67.1056 641.8407,-70.0592 645.9034,-75.7597\"/>\n<text text-anchor=\"middle\" x=\"475\" y=\"-101.2937\" font-family=\"Times,serif\" font-size=\"14.00\" fill=\"#000000\">0</text>\n</g>\n</g>\n</svg>\n"
          },
          "metadata": {
            "tags": []
          },
          "execution_count": 7
        }
      ]
    },
    {
      "cell_type": "markdown",
      "metadata": {
        "id": "WZwc5yVYUNXV"
      },
      "source": [
        "## TODO Task 3"
      ]
    },
    {
      "cell_type": "markdown",
      "metadata": {
        "id": "-5ReuZLTUNXW"
      },
      "source": [
        "Construct a DFA to recognize the language\n",
        "\n",
        "$L_4 = \\{x0z\\ |\\ x \\in \\Sigma^*, z \\in \\Sigma^4\\}$."
      ]
    }
  ]
}