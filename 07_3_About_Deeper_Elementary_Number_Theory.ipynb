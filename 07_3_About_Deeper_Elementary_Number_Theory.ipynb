{
  "nbformat": 4,
  "nbformat_minor": 0,
  "metadata": {
    "colab": {
      "name": " 07_3_About_Deeper_Elementary_Number_Theory.ipynb",
      "provenance": [],
      "include_colab_link": true
    },
    "kernelspec": {
      "name": "python3",
      "display_name": "Python 3"
    }
  },
  "cells": [
    {
      "cell_type": "markdown",
      "metadata": {
        "id": "view-in-github",
        "colab_type": "text"
      },
      "source": [
        "<a href=\"https://colab.research.google.com/github/connerdandrews/cse380-notebooks/blob/master/07_3_About_Deeper_Elementary_Number_Theory.ipynb\" target=\"_parent\"><img src=\"https://colab.research.google.com/assets/colab-badge.svg\" alt=\"Open In Colab\"/></a>"
      ]
    },
    {
      "cell_type": "markdown",
      "metadata": {
        "id": "fKBSJ5Hh6UMv"
      },
      "source": [
        "# About Deeper Elementary Number Theory\n",
        "## Class Directed Learning\n",
        "### Due: Wednesday, 17 February 2021, 11:59 pm"
      ]
    },
    {
      "cell_type": "markdown",
      "metadata": {
        "id": "yx-XMrWE6hEw"
      },
      "source": [
        "## Read and Ponder\n",
        "https://byui-cse.github.io/cse380-course/about-deeper-elementary-number-theory.pdf\n",
        "\n",
        "Put your answers in cells you will add below.\n",
        "\n",
        "Above and beyond behavior: Incorporate the material in the PDF into this notebook."
      ]
    },
    {
      "cell_type": "markdown",
      "metadata": {
        "id": "2KSzCehALCWU"
      },
      "source": [
        "**Explore Primes and Probability Further**"
      ]
    },
    {
      "cell_type": "markdown",
      "metadata": {
        "id": "5FWcoY7ILIEf"
      },
      "source": [
        "The Prime Number Theorem states that the number of primes, not exceeding the number n, is approximately equal to  n / log n. For us to find the probability that a k-digit number is prime we would have to establish a limit for n, because there are infinitely many primes. "
      ]
    },
    {
      "cell_type": "code",
      "metadata": {
        "id": "O7AWvfn7MDN6",
        "outputId": "6d460275-384a-47a0-ad52-a9b201ec84c7",
        "colab": {
          "base_uri": "https://localhost:8080/"
        }
      },
      "source": [
        "import numpy as np\r\n",
        "def findNlogNProbability(k):\r\n",
        "  stringK = str(k)\r\n",
        "  digits = len(stringK)\r\n",
        "  #print(digits)\r\n",
        "  N = 10 ** digits\r\n",
        "  #print(N)\r\n",
        "  approximatePrimes = N // np.log(N)\r\n",
        "  primeProbability = (approximatePrimes / N) * 100\r\n",
        "  print(\"Probability that\", k, \"is prime:\", primeProbability, \"percent\")\r\n",
        "  return primeProbability\r\n",
        "\r\n",
        "findNlogNProbability(8888)\r\n",
        "findNlogNProbability(9999999)\r\n",
        "findNlogNProbability(9999999999999)\r\n",
        "findNlogNProbability(99999999999999999)"
      ],
      "execution_count": 26,
      "outputs": [
        {
          "output_type": "stream",
          "text": [
            "Probability that 8888 is prime: 10.85 percent\n",
            "Probability that 9999999 is prime: 6.2042 percent\n",
            "Probability that 9999999999999 is prime: 3.34072678387 percent\n",
            "Probability that 99999999999999999 is prime: 2.554673422960304 percent\n"
          ],
          "name": "stdout"
        },
        {
          "output_type": "execute_result",
          "data": {
            "text/plain": [
              "2.554673422960304"
            ]
          },
          "metadata": {
            "tags": []
          },
          "execution_count": 26
        }
      ]
    }
  ]
}