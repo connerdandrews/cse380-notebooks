{
  "nbformat": 4,
  "nbformat_minor": 0,
  "metadata": {
    "colab": {
      "name": "13_2_Ponder_and_Prove_Many_Things.ipynb",
      "provenance": [],
      "include_colab_link": true
    },
    "kernelspec": {
      "name": "python3",
      "display_name": "Python 3"
    },
    "language_info": {
      "name": "python"
    }
  },
  "cells": [
    {
      "cell_type": "markdown",
      "metadata": {
        "id": "view-in-github",
        "colab_type": "text"
      },
      "source": [
        "<a href=\"https://colab.research.google.com/github/connerdandrews/cse380-notebooks/blob/master/13_2_Ponder_and_Prove_Many_Things.ipynb\" target=\"_parent\"><img src=\"https://colab.research.google.com/assets/colab-badge.svg\" alt=\"Open In Colab\"/></a>"
      ]
    },
    {
      "cell_type": "markdown",
      "metadata": {
        "id": "0GZOWnts9NAD"
      },
      "source": [
        "# Ponder and Prove Many Things\n",
        "## Due: Thursday, 1 April 2021, 11:59 pm"
      ]
    },
    {
      "cell_type": "markdown",
      "metadata": {
        "id": "S5XdXGMv9dy4"
      },
      "source": [
        "### Is It Decidable?"
      ]
    },
    {
      "cell_type": "markdown",
      "metadata": {
        "id": "Gzy9wIboAVvi"
      },
      "source": [
        "#### TODO Study and run the code below."
      ]
    },
    {
      "cell_type": "markdown",
      "metadata": {
        "id": "218Qmbtx9lP6"
      },
      "source": [
        "And answer these questions:\n",
        "1. What is this program computing?\n",
        "2. How does it do it?\n",
        "3. Will it ever terminate?"
      ]
    },
    {
      "cell_type": "markdown",
      "metadata": {
        "id": "3CMIAOjXypLB"
      },
      "source": [
        "1. The program is constantly transversing the vector of flibbers until it finds one where the flibber produces a positive integer. It only computes numbers that are multiples of 4. However it doesn't produce every  multiple of 4.\n",
        "2. \n",
        "3. The program will never terminate because within the fourteen numbers of the flibbers there will always be at least one number that will produce a multiple of 4 before the time stops ticking. "
      ]
    },
    {
      "cell_type": "code",
      "metadata": {
        "id": "LfltDFaw9trA"
      },
      "source": [
        "from math import log2\n",
        "\n",
        "def you_decide():\n",
        "  flibbers = [17,78,19,23,29,77,95,77,1,11,13,15,15,55]\n",
        "  flobbers = [91,85,51,38,33,29,23,19,17,13,11,14,2,1]\n",
        "  i = 2\n",
        "  x = 0\n",
        "  time_keeps_ticking = True\n",
        "  while time_keeps_ticking:\n",
        "    time_keeps_ticking = False\n",
        "    for n in range(len(flibbers)):\n",
        "      #if n == 0: # This code is for testing purposes. \n",
        "      #  x += 1 # This code is for testing purposes. \n",
        "      #print(\"Indices of the loop\", n, x) # This code is for testing purposes. \n",
        "      f = i * flibbers[n] \n",
        "      if not f % flobbers[n]:\n",
        "        i = f // flobbers[n]\n",
        "        p = log2(i)\n",
        "        if p.is_integer():\n",
        "          print(i)\n",
        "        time_keeps_ticking = True\n",
        "        break"
      ],
      "execution_count": 35,
      "outputs": []
    },
    {
      "cell_type": "code",
      "metadata": {
        "colab": {
          "base_uri": "https://localhost:8080/"
        },
        "id": "v5UMKMfxuRf6",
        "outputId": "078a7996-3061-4742-e6fa-9ce5fbe5e4fe"
      },
      "source": [
        "print(34 % 91)\n",
        "print(34 // 91)\n",
        "print(0 % 85)"
      ],
      "execution_count": 13,
      "outputs": [
        {
          "output_type": "stream",
          "text": [
            "34\n",
            "0\n",
            "0\n"
          ],
          "name": "stdout"
        }
      ]
    },
    {
      "cell_type": "code",
      "metadata": {
        "id": "fGZ9lZCP9xWC",
        "colab": {
          "base_uri": "https://localhost:8080/",
          "height": 860
        },
        "outputId": "498b9509-8667-4f4d-f9ea-08a6d773e2ae"
      },
      "source": [
        "you_decide()"
      ],
      "execution_count": 36,
      "outputs": [
        {
          "output_type": "stream",
          "text": [
            "4\n",
            "8\n",
            "32\n",
            "128\n",
            "2048\n",
            "8192\n",
            "131072\n",
            "524288\n",
            "8388608\n",
            "536870912\n",
            "2147483648\n",
            "137438953472\n",
            "2199023255552\n",
            "8796093022208\n",
            "140737488355328\n",
            "9007199254740992\n",
            "576460752303423488\n",
            "2305843009213693952\n",
            "147573952589676412928\n",
            "2361183241434822606848\n",
            "9444732965739290427392\n",
            "604462909807314587353088\n",
            "9671406556917033397649408\n",
            "618970019642690137449562112\n",
            "158456325028528675187087900672\n",
            "2535301200456458802993406410752\n",
            "10141204801825835211973625643008\n",
            "162259276829213363391578010288128\n",
            "649037107316853453566312041152512\n",
            "10384593717069655257060992658440192\n",
            "170141183460469231731687303715884105728\n",
            "2722258935367507707706996859454145691648\n",
            "174224571863520493293247799005065324265472\n",
            "696898287454081973172991196020261297061888\n"
          ],
          "name": "stdout"
        },
        {
          "output_type": "error",
          "ename": "KeyboardInterrupt",
          "evalue": "ignored",
          "traceback": [
            "\u001b[0;31m---------------------------------------------------------------------------\u001b[0m",
            "\u001b[0;31mKeyboardInterrupt\u001b[0m                         Traceback (most recent call last)",
            "\u001b[0;32m<ipython-input-36-7e16ef8f7eca>\u001b[0m in \u001b[0;36m<module>\u001b[0;34m()\u001b[0m\n\u001b[0;32m----> 1\u001b[0;31m \u001b[0myou_decide\u001b[0m\u001b[0;34m(\u001b[0m\u001b[0;34m)\u001b[0m\u001b[0;34m\u001b[0m\u001b[0;34m\u001b[0m\u001b[0m\n\u001b[0m",
            "\u001b[0;32m<ipython-input-35-950500ca692e>\u001b[0m in \u001b[0;36myou_decide\u001b[0;34m()\u001b[0m\n\u001b[1;32m     14\u001b[0m       \u001b[0;31m#print(\"Indices of the loop\", n, x) # This code is for testing purposes.\u001b[0m\u001b[0;34m\u001b[0m\u001b[0;34m\u001b[0m\u001b[0;34m\u001b[0m\u001b[0m\n\u001b[1;32m     15\u001b[0m       \u001b[0mf\u001b[0m \u001b[0;34m=\u001b[0m \u001b[0mi\u001b[0m \u001b[0;34m*\u001b[0m \u001b[0mflibbers\u001b[0m\u001b[0;34m[\u001b[0m\u001b[0mn\u001b[0m\u001b[0;34m]\u001b[0m\u001b[0;34m\u001b[0m\u001b[0;34m\u001b[0m\u001b[0m\n\u001b[0;32m---> 16\u001b[0;31m       \u001b[0;32mif\u001b[0m \u001b[0;32mnot\u001b[0m \u001b[0mf\u001b[0m \u001b[0;34m%\u001b[0m \u001b[0mflobbers\u001b[0m\u001b[0;34m[\u001b[0m\u001b[0mn\u001b[0m\u001b[0;34m]\u001b[0m\u001b[0;34m:\u001b[0m\u001b[0;34m\u001b[0m\u001b[0;34m\u001b[0m\u001b[0m\n\u001b[0m\u001b[1;32m     17\u001b[0m         \u001b[0mi\u001b[0m \u001b[0;34m=\u001b[0m \u001b[0mf\u001b[0m \u001b[0;34m//\u001b[0m \u001b[0mflobbers\u001b[0m\u001b[0;34m[\u001b[0m\u001b[0mn\u001b[0m\u001b[0;34m]\u001b[0m\u001b[0;34m\u001b[0m\u001b[0;34m\u001b[0m\u001b[0m\n\u001b[1;32m     18\u001b[0m         \u001b[0mp\u001b[0m \u001b[0;34m=\u001b[0m \u001b[0mlog2\u001b[0m\u001b[0;34m(\u001b[0m\u001b[0mi\u001b[0m\u001b[0;34m)\u001b[0m\u001b[0;34m\u001b[0m\u001b[0;34m\u001b[0m\u001b[0m\n",
            "\u001b[0;31mKeyboardInterrupt\u001b[0m: "
          ]
        }
      ]
    },
    {
      "cell_type": "markdown",
      "metadata": {
        "id": "oqZ3784B-EyX"
      },
      "source": [
        "### Fun With Decidability"
      ]
    },
    {
      "cell_type": "markdown",
      "metadata": {
        "id": "aeiVo2WpkySc"
      },
      "source": [
        "#### TODO Read and Share"
      ]
    },
    {
      "cell_type": "markdown",
      "metadata": {
        "id": "i13mpSpd-O39"
      },
      "source": [
        "Read [Can't Decide? Undecide! by Chaim Goodman-Strauss](https://strauss.hosted.uark.edu/papers/decide.pdf)\n",
        "\n",
        "Share six things that you found interesting in this paper.\n",
        "\n",
        "Share six things that you already knew or had heard about before. (These can overlap with the first six.)\n",
        "\n",
        "Write one to two sentences for each of the things you share.\n"
      ]
    },
    {
      "cell_type": "markdown",
      "metadata": {
        "id": "gjeWZ0Mo-r6E"
      },
      "source": [
        "### The Map of Mathematics"
      ]
    },
    {
      "cell_type": "markdown",
      "metadata": {
        "id": "xFFVrRTl-wY9"
      },
      "source": [
        "[The entire field of mathematics summarized in a single map!](https://www.youtube.com/watch?v=OmJ-4B-mS-Y) --- direct link, or embedded below.\n",
        "\n",
        "This video shows how pure mathematics and applied mathematics relate to each other and all of the sub-topics they are made from."
      ]
    },
    {
      "cell_type": "code",
      "metadata": {
        "id": "Wd_Ny-gS-zpk"
      },
      "source": [
        "from IPython.display import YouTubeVideo\n",
        "YouTubeVideo('OmJ-4B-mS-Y') # 11 minutes 5 seconds"
      ],
      "execution_count": null,
      "outputs": []
    },
    {
      "cell_type": "markdown",
      "metadata": {
        "id": "8PD-pimc-1dk"
      },
      "source": [
        "#### TODO Watch and Share"
      ]
    },
    {
      "cell_type": "markdown",
      "metadata": {
        "id": "9WIEkJ0p-9JD"
      },
      "source": [
        "Share six things that you found interesting in this video.\n",
        "\n",
        "Share six things that you already knew or had heard about before. (These can overlap with the first six.)\n",
        "\n",
        "Write one to two sentences for each of the things you share.\n"
      ]
    },
    {
      "cell_type": "markdown",
      "metadata": {
        "id": "nfxMo9bl_TZA"
      },
      "source": [
        "### The Map of Computer Science"
      ]
    },
    {
      "cell_type": "markdown",
      "metadata": {
        "id": "bM9Dst0d_tIW"
      },
      "source": [
        "[The field of computer science similarly summarized.](https://www.youtube.com/watch?v=SzJ46YA_RaA) --- direct link, or embedded below."
      ]
    },
    {
      "cell_type": "code",
      "metadata": {
        "id": "LnBJvrbi_xIp"
      },
      "source": [
        "from IPython.display import YouTubeVideo\n",
        "YouTubeVideo('SzJ46YA_RaA') # 10 minutes 57 seconds"
      ],
      "execution_count": null,
      "outputs": []
    },
    {
      "cell_type": "markdown",
      "metadata": {
        "id": "5194ShLd_zjU"
      },
      "source": [
        "#### TODO Watch and Share"
      ]
    },
    {
      "cell_type": "markdown",
      "metadata": {
        "id": "zTI_XHCU_1HW"
      },
      "source": [
        "Share six things that you found interesting in this video.\n",
        "\n",
        "Share six things that you already knew or had heard about before. (These can overlap with the first six.)\n",
        "\n",
        "Write one to two sentences for each of the things you share."
      ]
    },
    {
      "cell_type": "markdown",
      "metadata": {
        "id": "fPu3fWgR_3hI"
      },
      "source": [
        "### SKIP Report"
      ]
    },
    {
      "cell_type": "markdown",
      "metadata": {
        "id": "JoO9lagO_5lt"
      },
      "source": [
        "The sentences you have already (supposedly) written will suffice."
      ]
    },
    {
      "cell_type": "markdown",
      "metadata": {
        "id": "shpEERFS_87F"
      },
      "source": [
        "### SKIP Self-Assessment"
      ]
    },
    {
      "cell_type": "markdown",
      "metadata": {
        "id": "yWvKYeqc__bX"
      },
      "source": [
        "Instead, you will have ilearn peer reviews to complete."
      ]
    }
  ]
}