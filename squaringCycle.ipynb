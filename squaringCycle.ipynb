{
  "nbformat": 4,
  "nbformat_minor": 0,
  "metadata": {
    "colab": {
      "name": "squaringCycle.ipynb",
      "provenance": [],
      "collapsed_sections": [],
      "authorship_tag": "ABX9TyNcW837kabNzJO9wv4zZ5H9",
      "include_colab_link": true
    },
    "kernelspec": {
      "name": "python3",
      "display_name": "Python 3"
    }
  },
  "cells": [
    {
      "cell_type": "markdown",
      "metadata": {
        "id": "view-in-github",
        "colab_type": "text"
      },
      "source": [
        "<a href=\"https://colab.research.google.com/github/connerdandrews/cse380-notebooks/blob/master/squaringCycle.ipynb\" target=\"_parent\"><img src=\"https://colab.research.google.com/assets/colab-badge.svg\" alt=\"Open In Colab\"/></a>"
      ]
    },
    {
      "cell_type": "code",
      "metadata": {
        "id": "PT21SL6QE9ub"
      },
      "source": [
        "def cycle(number, num_set):\r\n",
        "  if number in num_set:\r\n",
        "    return\r\n",
        "  else:\r\n",
        "    print(number, end=' ')\r\n",
        "    new_num_set = num_set + [number]\r\n",
        "    num_string = str(number)\r\n",
        "    new_num = sum([int(x)**2 for x in num_string])\r\n",
        "    cycle(new_num, new_num_set)\r\n",
        "  \r\n"
      ],
      "execution_count": null,
      "outputs": []
    },
    {
      "cell_type": "code",
      "metadata": {
        "colab": {
          "base_uri": "https://localhost:8080/"
        },
        "id": "4SJhvn0dF6gW",
        "outputId": "7e4d3aa7-fd98-49bb-c155-deb47a00cf80"
      },
      "source": [
        "cycle(4, [])"
      ],
      "execution_count": null,
      "outputs": [
        {
          "output_type": "stream",
          "text": [
            "4 16 37 58 89 145 42 20 "
          ],
          "name": "stdout"
        }
      ]
    },
    {
      "cell_type": "code",
      "metadata": {
        "colab": {
          "base_uri": "https://localhost:8080/"
        },
        "id": "vvV9-lPsGOfr",
        "outputId": "0445ffbc-258a-48f3-b676-3dc2010556af"
      },
      "source": [
        "cycle(11, [])"
      ],
      "execution_count": null,
      "outputs": [
        {
          "output_type": "stream",
          "text": [
            "11 2 4 16 37 58 89 145 42 20 "
          ],
          "name": "stdout"
        }
      ]
    },
    {
      "cell_type": "markdown",
      "metadata": {
        "id": "6iJBxNG3HJMQ"
      },
      "source": [
        "This code that we wrote as a group implements a general version of the squaring cycle that we discussed together. What we learned is that this code will produce a cycle that will loop, but it doesn't always loop back to the original number like it does with the number 4. Instead it will loop back to a different number in the cycle. For example, when we start with the number 11 the cycle loops until we get to the number 20. After 20 it does not loop back to 11, but instead skips straight back to 4. "
      ]
    }
  ]
}