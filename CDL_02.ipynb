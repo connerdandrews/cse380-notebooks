{
  "nbformat": 4,
  "nbformat_minor": 0,
  "metadata": {
    "colab": {
      "name": "CDL 02.ipynb",
      "provenance": [],
      "collapsed_sections": [],
      "authorship_tag": "ABX9TyNMu4F0qYzrZmfVNpbFSsXw",
      "include_colab_link": true
    },
    "kernelspec": {
      "name": "python3",
      "display_name": "Python 3"
    }
  },
  "cells": [
    {
      "cell_type": "markdown",
      "metadata": {
        "id": "view-in-github",
        "colab_type": "text"
      },
      "source": [
        "<a href=\"https://colab.research.google.com/github/connerdandrews/cse380-notebooks/blob/master/CDL_02.ipynb\" target=\"_parent\"><img src=\"https://colab.research.google.com/assets/colab-badge.svg\" alt=\"Open In Colab\"/></a>"
      ]
    },
    {
      "cell_type": "code",
      "metadata": {
        "colab": {
          "base_uri": "https://localhost:8080/"
        },
        "id": "2ae121kCXIDt",
        "outputId": "1c0bea97-72d7-42ae-b62a-509b6901d6f0"
      },
      "source": [
        "import math\r\n",
        "def f(m, n):\r\n",
        "  x = m + n\r\n",
        "  return (((x - 2) * (x - 1)) // 2) + m\r\n",
        "\r\n",
        "def f_inverse(y):\r\n",
        "  root = math.sqrt(8 * y + 1)\r\n",
        "  x = int(((3 + root) // 2))\r\n",
        "  m = (y - (((x - 2) * (x - 1))// 2))\r\n",
        "  n = x - m\r\n",
        "  return m, n\r\n",
        "\r\n",
        "print(f_inverse(23))"
      ],
      "execution_count": null,
      "outputs": [
        {
          "output_type": "stream",
          "text": [
            "(2, 6)\n"
          ],
          "name": "stdout"
        }
      ]
    }
  ]
}