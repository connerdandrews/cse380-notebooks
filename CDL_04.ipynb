{
  "nbformat": 4,
  "nbformat_minor": 0,
  "metadata": {
    "colab": {
      "name": "CDL 04.ipynb",
      "provenance": [],
      "collapsed_sections": [],
      "authorship_tag": "ABX9TyO9ZrueuNw1fZBgVxLs48mH",
      "include_colab_link": true
    },
    "kernelspec": {
      "name": "python3",
      "display_name": "Python 3"
    }
  },
  "cells": [
    {
      "cell_type": "markdown",
      "metadata": {
        "id": "view-in-github",
        "colab_type": "text"
      },
      "source": [
        "<a href=\"https://colab.research.google.com/github/connerdandrews/cse380-notebooks/blob/master/CDL_04.ipynb\" target=\"_parent\"><img src=\"https://colab.research.google.com/assets/colab-badge.svg\" alt=\"Open In Colab\"/></a>"
      ]
    },
    {
      "cell_type": "code",
      "metadata": {
        "colab": {
          "base_uri": "https://localhost:8080/"
        },
        "id": "F5XPnt5fw6V-",
        "outputId": "104eadd5-f9a0-44d5-d152-d8449bb39371"
      },
      "source": [
        "from fractions import Fraction as frac\r\n",
        "\r\n",
        "def contfrac2frac(seq):\r\n",
        "    \"\"\"Convert the simple continued fraction in `seq`\r\n",
        "       into a fraction with numerator num and denominator den.\r\n",
        "    \"\"\"\r\n",
        "    num, den = 1, 0\r\n",
        "    for u in reversed(seq):\r\n",
        "        num, den = den + num * u, num\r\n",
        "    return frac(num, den)\r\n",
        "\r\n",
        "def frac2contfrac(f):\r\n",
        "    \"\"\"Build the simple continued fraction expansion of fraction f.\r\n",
        "    \"\"\"\r\n",
        "    seq = []\r\n",
        "    frac2contfrac_rec(f, seq)\r\n",
        "    return seq\r\n",
        "\r\n",
        "def frac2contfrac_rec(f, seq):\r\n",
        "    n = f.numerator\r\n",
        "    d = f.denominator\r\n",
        "    if d != 0:\r\n",
        "        seq.append(n // d)\r\n",
        "        if n % d != 0:\r\n",
        "            frac2contfrac_rec(frac(d, n % d), seq)\r\n",
        "\r\n",
        "def e_cont_frac(n):\r\n",
        "    \"\"\"Build `n` terms of the simple continued fraction expansion of e\r\n",
        "        `n` must be a positive integer\r\n",
        "    \"\"\"\r\n",
        "    seq = [2 * (i + 1) // 3 if i % 3 == 2 else 1 for i in range(n)]\r\n",
        "    seq[0] += 1\r\n",
        "    return seq\r\n",
        "def eval_frac(f):\r\n",
        "    \"\"\"Evaluate the fraction f as a float.\r\n",
        "    \"\"\"\r\n",
        "    return f.numerator / f.denominator\r\n",
        "\r\n",
        "n = 20\r\n",
        "seq = e_cont_frac(n)\r\n",
        "e_as_frac = contfrac2frac(seq)\r\n",
        "\r\n",
        "print('Terms =', n)\r\n",
        "print('CFR:', seq)\r\n",
        "print('Fraction:', e_as_frac)\r\n",
        "print('Float {0:0.15f}'.format(eval_frac(e_as_frac)))\r\n",
        "print(frac2contfrac(e_as_frac))"
      ],
      "execution_count": null,
      "outputs": [
        {
          "output_type": "stream",
          "text": [
            "Terms = 20\n",
            "CFR: [2, 1, 2, 1, 1, 4, 1, 1, 6, 1, 1, 8, 1, 1, 10, 1, 1, 12, 1, 1]\n",
            "Fraction: 28245729/10391023\n",
            "Float 2.718281828459046\n",
            "[2, 1, 2, 1, 1, 4, 1, 1, 6, 1, 1, 8, 1, 1, 10, 1, 1, 12, 2]\n"
          ],
          "name": "stdout"
        }
      ]
    },
    {
      "cell_type": "markdown",
      "metadata": {
        "id": "eYOpbaO0ydY1"
      },
      "source": [
        "\r\n",
        "Calculate and Compare\r\n",
        "Find and compare the CFRs of the irrational square root of 2 and the rational number 1393/985. Compare both of those CFRs with the CFR of the golden ratio, phi, which is the value that is one-half of the quantity one more than the square root of five."
      ]
    },
    {
      "cell_type": "code",
      "metadata": {
        "id": "xD_RxTWN2Hd8"
      },
      "source": [
        "from math import sqrt\r\n",
        "sqrt_2 = frac(sqrt(2))\r\n",
        "rational_number = frac(1393,985)\r\n",
        "phi = frac((1 + sqrt(5)) / 2)"
      ],
      "execution_count": null,
      "outputs": []
    },
    {
      "cell_type": "code",
      "metadata": {
        "colab": {
          "base_uri": "https://localhost:8080/"
        },
        "id": "uh7Wpz8h3dsV",
        "outputId": "27cf899a-db28-42f9-9d06-54988bd8c42d"
      },
      "source": [
        "print(\"Square Root 2:\", frac2contfrac(sqrt_2))\r\n",
        "print(\"Rational Number 1393/985:\", frac2contfrac(rational_number))\r\n",
        "print(\"Phi:\", frac2contfrac(phi))"
      ],
      "execution_count": null,
      "outputs": [
        {
          "output_type": "stream",
          "text": [
            "Square Root 2: [1, 2, 2, 2, 2, 2, 2, 2, 2, 2, 2, 2, 2, 2, 2, 2, 2, 2, 2, 2, 2, 1, 1, 1, 2, 7, 1, 2, 33, 2, 7, 5, 2, 1, 1, 16, 2]\n",
            "Rational Number 1393/985: [1, 2, 2, 2, 2, 2, 2, 2, 2]\n",
            "Phi: [1, 1, 1, 1, 1, 1, 1, 1, 1, 1, 1, 1, 1, 1, 1, 1, 1, 1, 1, 1, 1, 1, 1, 1, 1, 1, 1, 1, 1, 1, 1, 1, 1, 1, 1, 1, 1, 1, 2, 7, 1, 5, 5, 1, 1, 2, 4, 1, 1, 10, 1, 2, 1, 8]\n"
          ],
          "name": "stdout"
        }
      ]
    },
    {
      "cell_type": "markdown",
      "metadata": {
        "id": "0nqoIwF_6O91"
      },
      "source": [
        "The square root of 2 and the rational number both start with the same sequence of numbers. This is because they are the same number until the 7th digit after the decimal point. "
      ]
    }
  ]
}